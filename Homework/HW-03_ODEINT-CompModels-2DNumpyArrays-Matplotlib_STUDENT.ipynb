{
 "cells": [
  {
   "cell_type": "markdown",
   "metadata": {},
   "source": [
    "### <p style=\"text-align: right;\"> &#9989; Nathan Kurt</p>"
   ]
  },
  {
   "cell_type": "markdown",
   "metadata": {},
   "source": [
    "# __CMSE  201 - Fall 2018__\n",
    "\n",
    "<img src=\"https://cmse.msu.edu/_cmse/assets/Image/CMSE-bigger.png\"\n",
    "     alt=\"CMSE Grapical Image\"\n",
    "     align=\"right\" \n",
    "     height=\"82\" \n",
    "     width=\"82\" />\n",
    "\n",
    "# Homework 3: ODEINT, Compartmental Modeling and 2D NumPy Arrays\n",
    "\n",
    "In this homework you will get more practice using `odeint` and developing compartmental models. You'll also get a chance to use 2D `numpy` arrays. Along the way you will also do more plotting and data visualization with `matplotlib`."
   ]
  },
  {
   "cell_type": "markdown",
   "metadata": {},
   "source": [
    "## Goals\n",
    "\n",
    "### By the end of the homework assignment you will have practiced:\n",
    "\n",
    "1. Using `odeint`\n",
    "2. Using `matplotlib`\n",
    "3. Using 2D `numpy` arrays\n",
    "4. Developing compartmental models"
   ]
  },
  {
   "cell_type": "markdown",
   "metadata": {},
   "source": [
    "## Assignment instructions\n",
    "\n",
    "Work through the following assignment, making sure to follow all of the directions and answer all of the questions.\n",
    "\n",
    "**This assignment is due roughly two weeks from now at 11:59pm on Friday, October 12th.** It should be uploaded into the \"Homework Assignments\" dropbox folder for Homework #2.  Submission instructions can be found at the end of the notebook."
   ]
  },
  {
   "cell_type": "markdown",
   "metadata": {},
   "source": [
    "## Grading\n",
    "\n",
    "* **Question 1: Modeling chaotic dynamics** (7 points)\n",
    "    - Part 1 (3 points)\n",
    "    - Part 2 (2 points)\n",
    "    - Part 3 (2 points)\n",
    "* **Question 2: Viral kinetics revisited** (7 points)\n",
    "    - Part 1 (3 points)\n",
    "    - Part 2 (4 points)\n",
    "* **Question 3: Simulating heat diffusion** (6 points)\n",
    "    - Part 1 (2 points)\n",
    "    - Part 2 (1 point)\n",
    "    - Part 3 (2 points)\n",
    "\n",
    "Total points possible: **19**\n",
    "___"
   ]
  },
  {
   "cell_type": "markdown",
   "metadata": {},
   "source": [
    "## Before you start, import \n",
    "\n",
    "Before you begin, import the following modules and libraries in the cell below:\n",
    "* `numpy`\n",
    "* `pyplot`\n",
    "* `odeint`\n",
    "* `Axes3D`"
   ]
  },
  {
   "cell_type": "code",
   "execution_count": null,
   "metadata": {},
   "outputs": [],
   "source": [
    "# Import your modules and libraries here!"
   ]
  },
  {
   "cell_type": "markdown",
   "metadata": {},
   "source": [
    "## Question 1: Modeling chaotic dynamics (7 points)\n",
    "\n",
    "The Rössler system is a system of three non-linear ordinary differential equations originally studied by Otto Rössler in 1976. They are defined as:\n",
    "\n",
    "\\begin{align*}\n",
    "\\frac{dx}{dt} &= -y - z \\\\\n",
    "\\frac{dy}{dt} &= x + ay \\\\\n",
    "\\frac{dz}{dt} &= b + z(x - c)\n",
    "\\end{align*}\n",
    "\n",
    "where $a, b, c$ are parameters. The interesting thing about this systems of ODEs is that for certain values of $a, b, c$ the dynamics of the system can exhibit stable behavior, and then for other values it exhibits what is known as chaotic behavior. After Rössler introduced the system, it was also later realized that it can be used to model certain chemical reactions. Let's investigate further using `odeint` and `matplotlib`!"
   ]
  },
  {
   "cell_type": "markdown",
   "metadata": {},
   "source": [
    "### Part 1: Solving the Rössler System with `odeint` (3 points)\n",
    "\n",
    "Use `odeint` to solve the Rössler system. Use the following settings for the parameters, initial conditions, and list of times:\n",
    "\n",
    "* Parameters: $a = 0.1$, $b = 0.1$, $c = 4.0$\n",
    "* Initial conditions: $x_0 = 2$, $y_0 = 0$, $z_0 = 0$\n",
    "* Times: $0 \\leq t \\leq 500$ with $\\Delta t = 0.1$\n",
    "\n",
    "Write your derivatives function to accept as inputs the parameters $a, b, c$, and pass them to the derivatives function within `odeint` using the `args` input. Check out the `odeint` [documentation](https://docs.scipy.org/doc/scipy/reference/generated/scipy.integrate.odeint.html) if you need help!"
   ]
  },
  {
   "cell_type": "code",
   "execution_count": null,
   "metadata": {},
   "outputs": [],
   "source": [
    "# Put your code here (create as many cells as you need!)"
   ]
  },
  {
   "cell_type": "markdown",
   "metadata": {},
   "source": [
    "### Part 2: Plotting your solution and interpreting the data (2 points)\n",
    "\n",
    "Now that you have solved the Rössler system using `odeint` and with the parameters listed above, let's plot it! Write a function that takes in $x, y, z$ (and whatever else you need), and creates four plots:\n",
    "\n",
    "1. A 3D plot of $x(t)$ vs. $y(t)$ vs. $z(t)$ for $0 \\leq t \\leq 500$\n",
    "2. A 2D plot of $x(t)$ vs. $y(t)$ for $0 \\leq t \\leq 500$\n",
    "3. A 3D plot of $x(t)$ vs. $y(t)$ vs. $z(t)$ for $50 \\leq t \\leq 500$\n",
    "4. A 2D plot of $x(t)$ vs. $y(t)$ for $50 \\leq t \\leq 500$\n",
    "\n",
    "Remember to label the axes and give the plots titles (and whatever else you think will help)! Then in the markdown cell below, explain what your observe about the solution. To help with your explanation, plot the solution for a (few) different initial values $x_0$, $y_0$, $z_0$ - you should see the emergence of an \"attractor.\" Explain what this means in your own words."
   ]
  },
  {
   "cell_type": "code",
   "execution_count": null,
   "metadata": {},
   "outputs": [],
   "source": [
    "# Put your code here (create as many cells as you need!)"
   ]
  },
  {
   "cell_type": "markdown",
   "metadata": {},
   "source": [
    "#### Explain what you observe here!"
   ]
  },
  {
   "cell_type": "markdown",
   "metadata": {},
   "source": [
    "### Part 3: Trying other parameters (2 points)\n",
    "\n",
    "Now that you have successfully solved the Rössler system for one set of parameters $a, b, c$, and visualized your solution, let's try some other parameters. Solve the Rössler system with the following paramters $a, b, c$, and for each set of parameters use your function from Part 2 to provide the same four plots as before.\n",
    "\n",
    "* $a = 0.1$, $b = 0.1$, $c = 6.0$\n",
    "* $a = 0.1$, $b = 0.1$, $c = 8.5$\n",
    "* $a = 0.1$, $b = 0.1$, $c = 9.0$\n",
    "\n",
    "In the markdown cell below, explain how the solution changes with the parameter choices (note, $c = 9.0$ leads to chaotic dynamics - in your own words, what does this mean?)"
   ]
  },
  {
   "cell_type": "code",
   "execution_count": null,
   "metadata": {},
   "outputs": [],
   "source": [
    "# Put your code here (create as many cells as you need!)"
   ]
  },
  {
   "cell_type": "markdown",
   "metadata": {},
   "source": [
    "#### Explain what you observe here!"
   ]
  },
  {
   "cell_type": "markdown",
   "metadata": {},
   "source": [
    "## Question 2: Viral kinetics revisited (7 points)\n",
    "\n",
    "We are going to return to the viral kinetics (VK) model from the Day 09 Pre-Class, and make some adjustments to it. Recall the VK model was:\n",
    "\n",
    "<img src=\"http://www.frontiersin.org/files/Articles/32842/fmicb-03-00319-HTML/image_m/fmicb-03-00319-g001.jpg\" height=700 width = 600>\n",
    "\n",
    "where\n",
    "\n",
    "* $T$ is the number of **T**arget cells; these are the healthy cells the virion might enter\n",
    "* $I$ is the number of **I**nfected cells; these cells produce new virions, and might die over time\n",
    "* $V$ is the number of **V**irions at any given time during the infection\n",
    "\n",
    "Recall as well that we also had the following parameters:\n",
    "\n",
    "* $\\beta$: rate at which cells become infected: this reduces the value of T and increases the value of I\n",
    "* $p$: the production rate of new virions, which increases the value of V\n",
    "* $\\delta$: rate at which infected cells die\n",
    "* $r$: rate at which the immune systems can clear virions\n",
    "\n",
    "Finally, the VK ODE model is:\n",
    "\n",
    "\\begin{align*}\n",
    "\\frac{dT}{dt} &= -\\beta TV \\\\\n",
    "\\frac{dI}{dt} &= \\beta TV - \\delta I \\\\\n",
    "\\frac{dV}{dt} &= pI - rV\n",
    "\\end{align*}\n",
    "\n",
    "where time variable $t$ is measured in days."
   ]
  },
  {
   "cell_type": "markdown",
   "metadata": {},
   "source": [
    "### Part 1: More potent and longer lasting viruses (3 points)\n",
    "\n",
    "The VK model above works pretty well for viruses that our immune system can clear on its own relatively quickly. However, for more potent viruses that stay in our body longer and are not so easily cleared, we need to adjust the model. In particular, at this longer time scale the target cells can die off naturally, and are also repopulated by our body. \n",
    "\n",
    "Suppose that new target cells are generated by the body at the rate of $s$ per day, and that they die at a rate of $d$ per cell.\n",
    "\n",
    "Draw a new diagram to incorporate this new part of the model, take a picture of it, and insert it into the notebook in the markdown cell below. Also, write down the exact differential equations and type them in the second markdown cell below."
   ]
  },
  {
   "cell_type": "markdown",
   "metadata": {},
   "source": [
    "#### Place the picture of your new diagram here and upload your picture with your assignment!"
   ]
  },
  {
   "cell_type": "markdown",
   "metadata": {},
   "source": [
    "#### Type your new ODEs here!"
   ]
  },
  {
   "cell_type": "markdown",
   "metadata": {},
   "source": [
    "Now implement your new model using `odeint`, using the following settings:\n",
    "\n",
    "Initial values:\n",
    "* $T_0 = 4$e$8$\n",
    "* $I_0 = 0$\n",
    "* $V_0 = 1$\n",
    "\n",
    "Parameters:\n",
    "* $\\beta = 1$e$-5$\n",
    "* $\\delta = 1$\n",
    "* $p = 0.05$\n",
    "* $r = 100$\n",
    "* $s = 1$e$8$\n",
    "* $d = .25$\n",
    "\n",
    "Times:\n",
    "* $0 \\leq t < 50$ with $\\Delta t \\leq 0.01$"
   ]
  },
  {
   "cell_type": "code",
   "execution_count": null,
   "metadata": {},
   "outputs": [],
   "source": [
    "# Put your code here (create as many cells as you need!)"
   ]
  },
  {
   "cell_type": "markdown",
   "metadata": {},
   "source": [
    "Also make three plots, one each for:\n",
    "\n",
    "* target cell population versus time\n",
    "* viral load versus time\n",
    "* infected cell population versus time\n",
    "\n",
    "Make sure to have everything labeled, title, grids and legends as appropriate. Place your code in the cell below, and then in the markdown cell below that, explain the results of your simulation. How do they compare to the results you got in your Day 09 pre-class assignment? What is the prognosis without intervention?"
   ]
  },
  {
   "cell_type": "code",
   "execution_count": null,
   "metadata": {},
   "outputs": [],
   "source": [
    "# Put your code here (create as many cells as you need!)"
   ]
  },
  {
   "cell_type": "markdown",
   "metadata": {},
   "source": [
    "#### Explain the results of your simulation here!"
   ]
  },
  {
   "cell_type": "markdown",
   "metadata": {},
   "source": [
    "### Part 2: Anti-viral drugs (4 points)\n",
    "\n",
    "For more potent and longer lasting viruses treatment may be necessary with anti-viral drugs. Suppose that an anti-viral drug can block virus production from infected cells with effectiveness $\\varepsilon$, where $\\varepsilon$ takes a value between 0 (no effect) and 1 (100% effective). Building upon Part 1, once again draw a new diagram to incorporate this new part of the model, take a picture of it, and insert it into the notebook in the markdown cell below. Also, write down the exact differential equations and type them in the second markdown cell below."
   ]
  },
  {
   "cell_type": "markdown",
   "metadata": {},
   "source": [
    "#### Place the picture of your new diagram here and upload your picture with your assignment!"
   ]
  },
  {
   "cell_type": "markdown",
   "metadata": {},
   "source": [
    "#### Type your new ODEs here!"
   ]
  },
  {
   "cell_type": "markdown",
   "metadata": {},
   "source": [
    "Now update your derivatives function from Part 1 and place the new code in the cell below."
   ]
  },
  {
   "cell_type": "code",
   "execution_count": null,
   "metadata": {},
   "outputs": [],
   "source": [
    "# Put your code here (create as many cells as you need!)"
   ]
  },
  {
   "cell_type": "markdown",
   "metadata": {},
   "source": [
    "Now we are going to model the process of getting sick with a virus and then taking anti-viral drugs. To do so, run your code from Part 1 and then use $T(50)$, $I(50)$ and $V(50)$ as the initial values to your code from Part 2.  Run your Part 2 code for several different values of $\\varepsilon$ and up to some suitable maximum time $T_{\\max} > 50$, and plot $T(t)$, $I(t)$ and $V(t)$ for $0 \\leq t \\leq T_{\\max}$, showing the evolution of these quantities during when you get sick ($0 \\leq t < 50$) and when you take the drugs $50 \\leq t < T_{\\max}$. Interpret your results, and give an estimate for how effective the anti-viral drug must be in order for your body to clear out the virus. "
   ]
  },
  {
   "cell_type": "code",
   "execution_count": null,
   "metadata": {},
   "outputs": [],
   "source": [
    "# Put your code here (create as many cells as you need!)"
   ]
  },
  {
   "cell_type": "markdown",
   "metadata": {},
   "source": [
    "#### How do you interpret your results? How effective must the drug be for your immune system to clear out the virus?"
   ]
  },
  {
   "cell_type": "markdown",
   "metadata": {},
   "source": [
    "## Question 3: Simulating heat diffusion (5 points)\n",
    "\n",
    "Let $u(x,y,t)$ denote the temperature of an object at the location $(x,y)$ in the plane and at time $t$. This function will change over time as heat spreads throughout space, and the heat equation is used to determine the change in the function $u(x,y,t)$ over time. The two dimensional heat equation is:\n",
    "\n",
    "$$\n",
    "\\frac{\\partial u}{\\partial t} = \\frac{\\partial^2 u}{\\partial x^2} + \\frac{\\partial^2 u}{\\partial y^2}\n",
    "$$\n",
    "\n",
    "Intuitively, the heat equation says that the rate of change of the temperature is proportional to the \"curvature\" of the object. The sharper the transition in $u(x,y,t)$, as measured by the right hand side of the heat equation, the faster the temperature will change in time (which is the left hand side).\n",
    "\n",
    "We are going to simulate heat diffusion on a hot plate. If our intuition is correct, we would expect the heat to diffuse fastest at the edge of the plate, and slowest in the center. Let's see what happens!"
   ]
  },
  {
   "cell_type": "markdown",
   "metadata": {},
   "source": [
    "### Part 1: Creating a hot plate in Python (2 points)\n",
    "\n",
    "First we need to create a hot plate, in Python. To do so, we are going to create a two dimensional box, and put the hot plate in the center of it. To that end, create a function `make_hotplate` that takes the following inputs:\n",
    "\n",
    "* `w`: The width of the box (in cm)\n",
    "* `h`: The height of the box (in cm)\n",
    "* `r`: The radius of the hot plate (in cm)\n",
    "* `Tcool`: The ambient temperature in the box, not of the plate (in Farenheit)\n",
    "* `Thot`: The temperature of the plate (in Farenheit)\n",
    "\n",
    "The function should return a **2D numpy array** that represents the plate in the center of the box. You should sample the box every $\\Delta x$ cm along the horizontal, and every $\\Delta y$ cm along the vertical. For simplicity, you may assume that $\\Delta x = \\Delta y = 0.1$ cm throughout this question.\n",
    "\n",
    "Use the function `imshow` in `matplotlib` to display your hot plate, and make sure your visualization has a colorbar and that you use the colormap 'hot'."
   ]
  },
  {
   "cell_type": "code",
   "execution_count": null,
   "metadata": {},
   "outputs": [],
   "source": [
    "# Put your code here (create as many cells as you need!)"
   ]
  },
  {
   "cell_type": "markdown",
   "metadata": {},
   "source": [
    "### Part 2: Implement the update equation using Numpy (1 point)\n",
    "\n",
    "We are going to simulate the heat equation using update equations. Recall $\\Delta x$ and $\\Delta y$ are the step sizes along the horizontal and vertical, respectively; let $\\Delta t$ be the step size in time. To use update equations we need to write $u(x, y, t + \\Delta t)$ in terms of quantities of $u$ that depend on $t$ but not $\\Delta t$.  Using the definition of derivative and second derivative, one can show that \n",
    "\n",
    "\\begin{equation*}\n",
    "u(x, y, t + \\Delta t) \\approx u(x,y,t) + \\Delta t \\left[ \\frac{u(x + \\Delta x, y, t) - 2 u(x, y, t) + u(x - \\Delta x, y, t)}{(\\Delta x)^2} + \\frac{u(x, y + \\Delta y, t) - 2 u(x,y,t) + u(x, y - \\Delta y, t)}{(\\Delta y)^2}\\right]\n",
    "\\end{equation*}\n",
    "\n",
    "Note that we also set\n",
    "\n",
    "$$\n",
    "\\Delta t = \\frac{1}{2} \\frac{(\\Delta x \\Delta y)^2}{(\\Delta x)^2 + (\\Delta y)^2}\n",
    "$$\n",
    "\n",
    "and recall we are taking $\\Delta x = \\Delta y = 0.1$.\n",
    "\n",
    "The function below, `do_timestep`, takes as an input $u(x,y,t)$ (stored as a 2D numpy array), and returns $u(x,y,t + \\Delta t)$ (also stored as a 2D numpy array) using the above equation. In particular, the function will not work with lists and only works with numpy arrays. Take a look at the function, and then fill in the missing line!"
   ]
  },
  {
   "cell_type": "code",
   "execution_count": null,
   "metadata": {},
   "outputs": [],
   "source": [
    "# This function updates from u(x,y,t) to u(x,y,t + Delta t)\n",
    "\n",
    "def do_timestep(u):\n",
    "    \n",
    "    # Step stuff\n",
    "    dx = 0.1     # Horizontal step\n",
    "    dy = 0.1     # Vertical step\n",
    "    dx2 = dx**2  # Horizontal step squared\n",
    "    dy2 = dy**2  # Vertical step squared\n",
    "    dt = (dx2 * dy2) / (2 * (dx2 + dy2))  # Time step\n",
    "    \n",
    "    # Update the solution\n",
    "    u_new = u\n",
    "    u_new[1:-1, 1:-1] = u[1:-1, 1:-1] + dt * (\n",
    "          (u[2:, 1:-1] - 2*u[1:-1, 1:-1] + u[:-2, 1:-1])/dx2\n",
    "          + # MISSING LINE - FILL IN!\n",
    "            )\n",
    "    \n",
    "    return u_new"
   ]
  },
  {
   "cell_type": "markdown",
   "metadata": {},
   "source": [
    "### Part 3: Simulating heat diffusion (2 points)\n",
    "\n",
    "Now we are ready to simulate heat diffusion! Using your function from Part 1, set your initial solution $u_0 (x,y)$ to be a hot plate that you just took out of a 500 degree (F) oven. Assume the temperature outside the oven and hence in the box is 72 degrees (F). Suppose the box is 10cm wide and 10cm high, and the plate has a radius of 2cm.\n",
    "\n",
    "Using your update equation from Part 2, simulate the heat diffusion of the plate in the box for 100 time steps. Plot your solution after steps 1, 10, 50 and 100. Make sure that the range of the colormap is 72 to 500 for all four plots (so you can compare visually), and like before use the 'hot' colormap and make sure to place a colorbar. For the title of each plot, give the time in milliseconds (you may assume that the time variable $t$ is in seconds)."
   ]
  },
  {
   "cell_type": "code",
   "execution_count": null,
   "metadata": {},
   "outputs": [],
   "source": [
    "# Put your code here (create as many cells as you need!)"
   ]
  },
  {
   "cell_type": "markdown",
   "metadata": {},
   "source": [
    "---\n",
    "## Assignment Wrap-up\n",
    "\n",
    "Fill out the following Google form before you submit your assignment. **When you upload you assignment to D2L, ,ake sure to upload the pictures of your compartmental models as well!"
   ]
  },
  {
   "cell_type": "code",
   "execution_count": null,
   "metadata": {},
   "outputs": [],
   "source": [
    "from IPython.display import HTML\n",
    "HTML(\n",
    "\"\"\"\n",
    "<iframe \n",
    "\tsrc=\"https://goo.gl/forms/8iBdyCMnJnPXZJdo1\" \n",
    "\twidth=\"800px\" \n",
    "\theight=\"600px\" \n",
    "\tframeborder=\"0\" \n",
    "\tmarginheight=\"0\" \n",
    "\tmarginwidth=\"0\">\n",
    "\tLoading...\n",
    "</iframe>\n",
    "\"\"\"\n",
    ")"
   ]
  },
  {
   "cell_type": "markdown",
   "metadata": {},
   "source": [
    "---\n",
    "\n",
    "### Congratulations, you're done!\n",
    "\n",
    "Submit this assignment by uploading it to the course Desire2Learn web page.  Go to the \"Homework Assignments\" section, find the submission folder link for Homework #3, and upload it there. **Make sure to upload the pictures of your compartmental models as well!**"
   ]
  },
  {
   "cell_type": "markdown",
   "metadata": {},
   "source": [
    "&#169; Copyright 2018,  Michigan State University Board of Trustees"
   ]
  }
 ],
 "metadata": {
  "kernelspec": {
   "display_name": "Python 3",
   "language": "python",
   "name": "python3"
  },
  "language_info": {
   "codemirror_mode": {
    "name": "ipython",
    "version": 3
   },
   "file_extension": ".py",
   "mimetype": "text/x-python",
   "name": "python",
   "nbconvert_exporter": "python",
   "pygments_lexer": "ipython3",
   "version": "3.7.0"
  }
 },
 "nbformat": 4,
 "nbformat_minor": 2
}
