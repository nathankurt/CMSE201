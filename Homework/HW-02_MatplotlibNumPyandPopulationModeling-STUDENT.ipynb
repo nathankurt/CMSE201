{
 "cells": [
  {
   "cell_type": "markdown",
   "metadata": {},
   "source": [
    "# __CMSE  201 - Fall 2018__\n",
    "\n",
    "<img src=\"https://cmse.msu.edu/_cmse/assets/Image/CMSE-bigger.png\"\n",
    "     alt=\"CMSE Grapical Image\"\n",
    "     align=\"right\" \n",
    "     height=\"82\" \n",
    "     width=\"82\" />\n",
    "\n",
    "# Homework 2: More plotting with Matplotlib and Modeling Population\n",
    "\n",
    "In this homework you will get a bit more practice with some of the things that Matplotlib can do. You'll also use NumPy and Maplotlib to visualize one model for population growth.\n",
    "\n",
    "<img src=\"https://puassets.s3.amazonaws.com/wp-content/uploads/2016/04/8116116_l1-768x768.jpg\" width=400px>\n",
    "___"
   ]
  },
  {
   "cell_type": "markdown",
   "metadata": {},
   "source": [
    "## Goals\n",
    "\n",
    "### By the end of the homework assignment you will have practiced:\n",
    "\n",
    "1. Making a variety of plots in Matplotlib\n",
    "2. Loading data using NumPy\n",
    "3. Creating NumPy arrays\n",
    "4. Defining functions that manipulate NumPy arrays\n",
    "5. Plotting model values and loaded data values\n",
    "6. Fitting a model to data \"by eye\"\n"
   ]
  },
  {
   "cell_type": "markdown",
   "metadata": {},
   "source": [
    "## Assignment instructions\n",
    "\n",
    "Work through the following assignment, making sure to follow all of the directions and answer all of the questions.\n",
    "\n",
    "**This assignment is due roughly two weeks from now at 11:59pm on Friday, September 28th.** It should be uploaded into the \"Homework Assignments\" dropbox folder for Homework #2.  Submission instructions can be found at the end of the notebook."
   ]
  },
  {
   "cell_type": "markdown",
   "metadata": {},
   "source": [
    "## Grading\n",
    "\n",
    "* Part 1: Making plots with Matplotlib (9 points)\n",
    "    - Question 1 (1 point)\n",
    "    - Question 2 (2 points)\n",
    "    - Question 3 (2 point)\n",
    "    - Question 4 (2 points)\n",
    "* Part 2: Working with data in NumPy (3 points)\n",
    "    - Question 5 (1 point)\n",
    "    - Question 6 (1 point)\n",
    "    - Question 7 (1 point)\n",
    "* Part 3: Modeling population data (12 points)\n",
    "    - Question 8 (2 point)\n",
    "    - Question 9 (2 points)\n",
    "    - Question 10 (3 points)\n",
    "    - Question 11 (4 points)\n",
    "    - Question 12 (1 point)\n",
    "\n",
    "\n",
    "\n",
    "Total points possible: **24**\n",
    "___"
   ]
  },
  {
   "cell_type": "markdown",
   "metadata": {},
   "source": [
    "## Part 1: Making plots with Matplotlib (9 points)\n",
    "\n",
    "For this section, we'll practice making some plots using the `matplotlib` module. You may or may not have seen some of these plotting commands before, when you come across something you don't understand, you should try consulting the `matplotlib` documentation first, which you can find here:\n",
    "\n",
    "https://matplotlib.org/.\n",
    "\n",
    "You might also find it useful to look at the [examples](https://matplotlib.org/gallery/index.html) and the [tutorials](https://matplotlib.org/tutorials/index.html).\n",
    "\n"
   ]
  },
  {
   "cell_type": "markdown",
   "metadata": {},
   "source": [
    "**Question 1**: Make sure you set up your notebook to produce matplotlib plots and import the right modules, as well NumPy. Do that here.\n"
   ]
  },
  {
   "cell_type": "code",
   "execution_count": null,
   "metadata": {},
   "outputs": [],
   "source": [
    "# Put your commands here\n",
    "# imports the pyplot module from matplotlib\n",
    "import matplotlib.pyplot as plt\n",
    "\n",
    "# ensures that the plots made by matplotlib/pyplot show up in the notebook!\n",
    "%matplotlib inline \n",
    "\n",
    "import math\n",
    "import numpy as np"
   ]
  },
  {
   "cell_type": "markdown",
   "metadata": {},
   "source": [
    "**Question 2**: Let x be a vector of 10000 random variables drawn from a uniform distribution in [75,105]. Let y be a vector of 10000 random variables drawn from a uniform distribution in [125,155].\n",
    "     Plot the histograms of both variables on the same plot. Make the bars be green and blue. Make sure to give the plot a title and label the axes. **Note**: Since we haven't talked much about random numbers yet, the code for generating the random numbers is provided for you. Make sure that you review the code and try to understand what it is doing."
   ]
  },
  {
   "cell_type": "code",
   "execution_count": null,
   "metadata": {},
   "outputs": [],
   "source": [
    "x = np.random.uniform(75,105,10000)\n",
    "y = np.random.uniform(125,155,10000)\n",
    "\n",
    "# Put your code here for making your histogram plot here\n"
   ]
  },
  {
   "cell_type": "markdown",
   "metadata": {},
   "source": [
    "**Question 3**: Create two separate plots of the histograms **next** to each other. Use the 'plt.subplots' command. Make sure to use the **figsize** command to set the size of the subplots to an appropriate value, so the plots look good visually."
   ]
  },
  {
   "cell_type": "code",
   "execution_count": null,
   "metadata": {},
   "outputs": [],
   "source": [
    "# Put your code here"
   ]
  },
  {
   "cell_type": "markdown",
   "metadata": {},
   "source": [
    "**Question 4**: The following code creates two arrays of values, `x` and `y`. Add to the following code to create a two-dimensional histogram using `hist2d`. Think of this as a \"top-down\" or \"bird's-eye\" view of the distribution. Use 40 bins and add a colorbar to the plot. Make sure both axes and the colorbar all have appropriate labels. \"Frequency\" is good label choice for the colorbar because the 2D histogram will indicate how often values fell into a particular (x,y) bin.\n"
   ]
  },
  {
   "cell_type": "code",
   "execution_count": null,
   "metadata": {},
   "outputs": [],
   "source": [
    "# Add to the following code\n",
    "n = 10000\n",
    "x = np.random.standard_normal(n);\n",
    "y = 2.0 + 3.0 * x + 4.0 * np.random.standard_normal(n);\n"
   ]
  },
  {
   "cell_type": "markdown",
   "metadata": {},
   "source": [
    "___"
   ]
  },
  {
   "cell_type": "markdown",
   "metadata": {},
   "source": [
    "## Part 2: Working with data in NumPy (3 points)\n",
    "\n",
    "In this section, we're going to review how NumPy can be used to read and write data. Later on in the course, we will learn about another, more complex module for interacting with data, but NumPy will do the trick for now."
   ]
  },
  {
   "cell_type": "markdown",
   "metadata": {},
   "source": [
    "**Question 5**: The first thing you're going to do is make sure you can load in the data using NumPy. There is a file on D2L called \"height_and_weight.csv\". Make sure that you download the file and move it to the same location on your computer as this Jupyter Notebook. The extension of this file (.csv) stands for \"comma-separated values\" and is commonly used for datasets. It is basically just a text file where each row is a data point and the columns in the dataset are separated by commas. \n",
    "\n",
    "Your job is to **read the data into you Jupter Notebook using NumPy**, specifically the `loadtxt()` function, which will load the data into a two-column NumPy array. Once you've read in the data, **print it to the screen**.\n",
    "\n",
    "You will be using this data later on in the assignment."
   ]
  },
  {
   "cell_type": "code",
   "execution_count": null,
   "metadata": {},
   "outputs": [],
   "source": [
    "# Put your code here"
   ]
  },
  {
   "cell_type": "markdown",
   "metadata": {},
   "source": [
    "**Question 6**: First, create a 100-element array that goes from 1 to 20 called `array1`, and them define a new array, `array2`, to also have 100 elements with each element corresponding to the square of the respective element in `array1`. Next, your job is to use the `savetxt()` command in NumPy to create two new data files called. \"**array1.dat**\" and \"**array2.dat**\", that store the `array1` and `array2` arrays, respectively. We're using the extension \".dat\" to signify that these text files contain data. Make a plot of the arrays to make sure the values are what you expect them to be."
   ]
  },
  {
   "cell_type": "code",
   "execution_count": null,
   "metadata": {},
   "outputs": [],
   "source": [
    "# Put your code here"
   ]
  },
  {
   "cell_type": "markdown",
   "metadata": {},
   "source": [
    "**Question 7**: Now, read the two files you just created back into NumPy arrays and call these new arrays `a1` and `a2`. Plot the `a1` and `a2` arrays to make sure the values are the same as before."
   ]
  },
  {
   "cell_type": "code",
   "execution_count": null,
   "metadata": {},
   "outputs": [],
   "source": [
    "# Put your code here"
   ]
  },
  {
   "cell_type": "markdown",
   "metadata": {},
   "source": [
    "___"
   ]
  },
  {
   "cell_type": "markdown",
   "metadata": {},
   "source": [
    "## Part 3: Modeling Population Growth (12 points)\n",
    "\n",
    "Now we're going to try to use a combination of the things we've learned in the course to do a bit of modeling! Specifically, we're going to use a sample model of a population with a decreasing growth rate. The model is given by\n",
    "    $$N(t)=\\frac{\\mu \\nu e^{kt}}{\\nu e^{kt}+ \\mu - \\nu}$$\n",
    "\n",
    "\n",
    "where $k$ is the growth rate, $\\nu$ is the initial population, and $\\mu$ is the [carrying capacity](https://en.wikipedia.org/wiki/Carrying_capacity)."
   ]
  },
  {
   "cell_type": "markdown",
   "metadata": {},
   "source": [
    "**Question 8**: Write a **function** whose parameters are the following:\n",
    "\n",
    "* A NumPy array of time values in days\n",
    "* The three parameters of the population model, $k$, $\\nu$, and $\\mu$.\n",
    "\n",
    "Your function should **return** the value of $N(t)$ corresponding to the values in your time array. Call the function `population`."
   ]
  },
  {
   "cell_type": "code",
   "execution_count": null,
   "metadata": {},
   "outputs": [],
   "source": [
    "# Put your population function here"
   ]
  },
  {
   "cell_type": "markdown",
   "metadata": {},
   "source": [
    "**Question 9**: Now, **create a NumPy array called \"time\" that goes from 0 to 20 in increments of 0.02 using `np.linspace()`**. Start out with the following parameter values: $k = 2$, $\\nu = 20$, and $\\mu = 800$ for your population model. Then, **call your `population` function** to compute the population as a function of time. **Make a plot of population vs. time**. Label your plots with appropriate axis labels."
   ]
  },
  {
   "cell_type": "code",
   "execution_count": null,
   "metadata": {},
   "outputs": [],
   "source": [
    "# Put your code here"
   ]
  },
  {
   "cell_type": "markdown",
   "metadata": {},
   "source": [
    "**Question 10**: You're now going to plot some population data. Using the \"population.csv\" file from D2L, load the file into your Jupyter Notebook and plot the \"Population\" vs. the \"Time in Days\". \n",
    "\n",
    "**Make a plot where each data point is represented by an red square with no line connecting them and label the plot appropriately**. \n"
   ]
  },
  {
   "cell_type": "code",
   "execution_count": null,
   "metadata": {},
   "outputs": [],
   "source": [
    "# Put your code here"
   ]
  },
  {
   "cell_type": "markdown",
   "metadata": {},
   "source": [
    "**Question 11**: Now that you have a plot of the data and a plot of the model, you're going to try to determine the values for the parameters of the model by fitting the data \"by eye\". This means that you'll try to understand how the model changes when you change the parameters and then tune the parameters to match the model.\n",
    "\n",
    "First, **make a plot where you plot the data and then overplot the model**. This means that you should plot the data first and then the model. \n",
    "\n",
    "Then, test different values of parameters until the model fits the data well.\n",
    "\n",
    "**Once you decide on your best fit parameters, make sure you display the corresponding model and the data on the same plot. Add a print statement that prints the value of your parameters**."
   ]
  },
  {
   "cell_type": "code",
   "execution_count": null,
   "metadata": {},
   "outputs": [],
   "source": [
    "# Put your code here"
   ]
  },
  {
   "cell_type": "markdown",
   "metadata": {},
   "source": [
    "**Question 12**: Now that you've found your best fit parameters, what can you say about what happens as the parameters $k$ and $\\mu$ are changed?"
   ]
  },
  {
   "cell_type": "markdown",
   "metadata": {},
   "source": [
    "*Put your answer here*"
   ]
  },
  {
   "cell_type": "markdown",
   "metadata": {},
   "source": [
    "The model you've been exploring models the relationship between the growth rate of a population and the carrying capacity of the environment that population lives in. As the population grows, the resources available for the population to thrive on are diminished and the population slows until it reaches the maximum population that the environment can sustain. While real populations can have many more factors at play, this is a decent representation on how populations in isolation can evolve."
   ]
  },
  {
   "cell_type": "markdown",
   "metadata": {},
   "source": [
    "---\n",
    "## Assignment wrap-up\n",
    "\n",
    "Please fill out the form that appears when you run the code below.  **You must completely fill this out in order to receive credit for the assignment!**"
   ]
  },
  {
   "cell_type": "code",
   "execution_count": null,
   "metadata": {},
   "outputs": [],
   "source": [
    "from IPython.display import HTML\n",
    "HTML(\n",
    "\"\"\"\n",
    "<iframe \n",
    "\tsrc=\"https://goo.gl/forms/zNLhlxvOsIfbOCQV2\" \n",
    "\twidth=\"80%\" \n",
    "\theight=\"1200px\" \n",
    "\tframeborder=\"0\" \n",
    "\tmarginheight=\"0\" \n",
    "\tmarginwidth=\"0\">\n",
    "\tLoading...\n",
    "</iframe>\n",
    "\"\"\"\n",
    ")"
   ]
  }
 ],
 "metadata": {
  "kernelspec": {
   "display_name": "Python 3",
   "language": "python",
   "name": "python3"
  },
  "language_info": {
   "codemirror_mode": {
    "name": "ipython",
    "version": 3
   },
   "file_extension": ".py",
   "mimetype": "text/x-python",
   "name": "python",
   "nbconvert_exporter": "python",
   "pygments_lexer": "ipython3",
   "version": "3.7.0"
  }
 },
 "nbformat": 4,
 "nbformat_minor": 2
}
