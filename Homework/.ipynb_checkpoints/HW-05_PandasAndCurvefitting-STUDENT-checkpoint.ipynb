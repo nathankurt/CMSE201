{
 "cells": [
  {
   "cell_type": "markdown",
   "metadata": {},
   "source": [
    "### <p style=\"text-align: right;\"> &#9989; Nathan Kurt</p>"
   ]
  },
  {
   "cell_type": "markdown",
   "metadata": {},
   "source": [
    "# __CMSE  201 - Fall 2018__\n",
    "     \n",
    "<img src=\"https://cmse.msu.edu/_cmse/assets/Image/CMSE-bigger.png\"\n",
    "     alt=\"CMSE Grapical Image\"\n",
    "     align=\"right\" \n",
    "     height=\"82\" \n",
    "     width=\"82\" />\n",
    "\n",
    "# Homework 5: Working with data using Pandas and Fitting data with a model"
   ]
  },
  {
   "cell_type": "markdown",
   "metadata": {},
   "source": [
    "## Goals\n",
    "\n",
    "### By the end of the homework assignment you will have practiced:\n",
    "\n",
    "1. Reading and visualizing data with Pandas\n",
    "2. Fitting data using `curve_fit` and `polyfit`\n",
    "3. Modeling population growth and finding best fit parameters"
   ]
  },
  {
   "cell_type": "markdown",
   "metadata": {},
   "source": [
    "## Assignment instructions\n",
    "\n",
    "Work through the following assignment, making sure to follow all of the directions and answer all of the questions.\n",
    "\n",
    "**This assignment is due at 11:59pm on Friday, November 9th.** It should be uploaded into the \"Homework Assignments\" submission folder for Homework #5.  Submission instructions can be found at the end of the notebook."
   ]
  },
  {
   "cell_type": "markdown",
   "metadata": {},
   "source": [
    "## Grading\n",
    "\n",
    "* Examining avocado cost data (**21 points**)\n",
    "    - Loading and inspecting the data (3 points)\n",
    "    - Determining most and least expensive avocados (4 points)\n",
    "    - Tallying total avocado sales (4 points)\n",
    "    - Visualizing avocado price trends (7 points)\n",
    "    - Looking for correlations (3 points)\n",
    "* Revisiting the Population Model (**14 points**)\n",
    "    - Loading population data (2 points)\n",
    "    - Modeling population growth using `curve_fit` (7 points)\n",
    "    - Modeling population growth using `polyfit` (5 points)\n",
    "    \n",
    "**Total**: 35 points"
   ]
  },
  {
   "cell_type": "markdown",
   "metadata": {},
   "source": [
    "---\n",
    "## Part 1: Exploring the cost of avocados (21 points)\n",
    "\n",
    "### Loading the data and inspecting the content (3 points)\n",
    "\n",
    "Not long ago, an Australian millionaire made a claim that the reason some millenials aren't able to buy a house is because they [eat too much avocado toast](https://www.cnbc.com/2017/05/16/millionaire-tells-millennials-to-stop-buying-avocados-to-afford-a-home.html). While this is a pretty big oversimplification of the financial challenges associated with buying a home, it's certainly true that [avocados have become a pretty popular food in recent years](https://www.cnbc.com/2017/07/21/americans-spend-900000-a-month-on-avocado-toast.html).\n",
    "\n",
    "Whether or not you're a fan of this particular brunch favorite, you have the skills to dig into whether or not there is any substance to this claim. Using the provided dataset, `avocado_full.csv`, you're going to explore the real costs associated with buying avocados.\n",
    "\n",
    "To get started, you should include import commands for `pyplot`, `numpy`, and `pandas`. Don't forget to include the command for making sure any plots you create will show up in your notebook!"
   ]
  },
  {
   "cell_type": "code",
   "execution_count": null,
   "metadata": {},
   "outputs": [],
   "source": [
    "# Put import commands here\n"
   ]
  },
  {
   "cell_type": "markdown",
   "metadata": {},
   "source": [
    "Then, you should make sure to **read in the avocado data file as a pandas dataframe.**"
   ]
  },
  {
   "cell_type": "code",
   "execution_count": null,
   "metadata": {},
   "outputs": [],
   "source": [
    "# Load in the avocado data here\n"
   ]
  },
  {
   "cell_type": "markdown",
   "metadata": {},
   "source": [
    "Now, **write some code to inspect the properties of the data and then answer the following questions**:\n",
    "\n",
    "* How many rows are contained in the dataset?\n",
    "* What information do the columns contain?\n",
    "\n",
    "The original dataset came from [here](http://www.hassavocadoboard.com/retail/volume-and-price-data), which might help shine a light on what the columns mean."
   ]
  },
  {
   "cell_type": "code",
   "execution_count": null,
   "metadata": {},
   "outputs": [],
   "source": [
    "# Put your code here\n"
   ]
  },
  {
   "cell_type": "markdown",
   "metadata": {},
   "source": [
    "*Put your answer here*"
   ]
  },
  {
   "cell_type": "markdown",
   "metadata": {},
   "source": [
    "### Determining the cheapest and most expensive regions to buy avocados in (4 points)\n",
    "\n",
    "We'll start off out exploration of avocado cost by figuring out which regions have the most expensive and the cheapest avocados. \n",
    "\n",
    "Using the Pandas dataframe you've created, determine:\n",
    "\n",
    "1) **Which \"region\" has had the most expensive avocado on average and on what date was this average price recorded? What was the price?**\n",
    "\n",
    "2) **Which \"region\" has had the least expensive avocado on average and on what date was this average price recorded? What was the price?**"
   ]
  },
  {
   "cell_type": "code",
   "execution_count": null,
   "metadata": {},
   "outputs": [],
   "source": [
    "# Put your code here"
   ]
  },
  {
   "cell_type": "markdown",
   "metadata": {},
   "source": [
    "*Put your answer here*"
   ]
  },
  {
   "cell_type": "markdown",
   "metadata": {},
   "source": [
    "### Tallying total avocado sales (4 points)\n",
    "\n",
    "The columns that have numbers as their label correspond to the PLU (price look up) code for three sizes of Hass avocados. In particular, the PLU codes correspond to:\n",
    "\n",
    "1. small hass (4046)\n",
    "2. large hass (4225)\n",
    "3. extra large hass (4770)\n",
    "\n",
    "The values in the columns are the number of individual avocados sold for that particular size of avocado.\n",
    "\n",
    "**Using this information, calculate the total number of avocados sold individually for each of the three sizes for the entire US for the entire dataset (i.e. spanning the years 2015 to 2018).**\n",
    "\n",
    "The region label \"TotalUS\" contains the information for combined sales for the entire US. You can use these rows to final the total number of each size of avocado sold over the last three years. You should be able to use a mask to isolate all of the rows that correspond to the combined US information.\n",
    "\n",
    "**Which avocado size is sold the most in the US?**"
   ]
  },
  {
   "cell_type": "code",
   "execution_count": null,
   "metadata": {},
   "outputs": [],
   "source": [
    "# Put your code here\n"
   ]
  },
  {
   "cell_type": "markdown",
   "metadata": {},
   "source": [
    "*Put your answer here*"
   ]
  },
  {
   "cell_type": "markdown",
   "metadata": {},
   "source": [
    "### Visualizing avocado cost trends (7 points)\n",
    "\n",
    "Now that you understand a bit about the cost of avocados and how many avocados are being sold in the US. We're going to work on visualizing some of the data.\n",
    "\n",
    "First, **make a plot of the average price of avocados in Detroit as a function of time**. You should be able to use the `plot_date` function and the \"Date Number\" column in the dataset, similar to what we did in class when looking at the presidential approval ratings and the weather data.\n",
    "\n",
    "Your plot should:\n",
    "\n",
    "1. include axis labels\n",
    "2. have a title\n",
    "3. use the seaborn plot style (you need to import the package and then \"set\" the style)\n"
   ]
  },
  {
   "cell_type": "code",
   "execution_count": null,
   "metadata": {},
   "outputs": [],
   "source": [
    "# Put your code here\n",
    "## DO NOT DELETE THE FOLLOWING LINE\n",
    "## (it is included to make sure you get a decent looking plot)\n",
    "plt.figure(figsize=(12,4))\n"
   ]
  },
  {
   "cell_type": "markdown",
   "metadata": {},
   "source": [
    "In looking at your resulting plot, you might notice that it seems like there are two separate clusters of avocado prices, a more expensive cluster and a cheaper cluster, especially at early times.\n",
    "\n",
    "**Exam the dataset and see if you can figure out what these two different price groups correspond to.**\n",
    "\n",
    "Use the information you find in the data to **make a new plot** in which you color these two different price groupings using different colors and provide labels and a legend to indicate what the groups correspond to."
   ]
  },
  {
   "cell_type": "code",
   "execution_count": null,
   "metadata": {},
   "outputs": [],
   "source": [
    "# Put your code here"
   ]
  },
  {
   "cell_type": "markdown",
   "metadata": {},
   "source": [
    "Now, review the following article about the cost of avocados: https://www.detroitnews.com/story/life/food/2017/08/23/avocado-prices/104896844/ \n",
    "\n",
    "**Do your results support or refute the information presented in the article?** Explain why or why not."
   ]
  },
  {
   "cell_type": "markdown",
   "metadata": {},
   "source": [
    "*Put your answer here.*"
   ]
  },
  {
   "cell_type": "markdown",
   "metadata": {},
   "source": [
    "### Looking for correlation in sales volume\n",
    "\n",
    "Now you're going to see if number of small hass avocados sold in Detroit is correlated with the number of large hass avocados sold in Detroit. Use Seaborn's `jointplot` function to plot the large hass sales versus small hass sales for Detroit. **Make sure that your plot includes the regression line!**"
   ]
  },
  {
   "cell_type": "code",
   "execution_count": null,
   "metadata": {},
   "outputs": [],
   "source": [
    "# Put your code here"
   ]
  },
  {
   "cell_type": "markdown",
   "metadata": {},
   "source": [
    "**Question**: Does the number of small hass avocados sold appear to be correlated with the number of large hass avocados sold?\n",
    "\n",
    "Notice the points in the lower left corner of the plot. There appears to be a lot of points with sales below a few thousand. Are these values biasing the correlation you are/aren't finding? What if you filter out these entries with so few avocados sold? Does it change how strong or weak the correlation is?"
   ]
  },
  {
   "cell_type": "markdown",
   "metadata": {},
   "source": [
    "*Put your response here*"
   ]
  },
  {
   "cell_type": "markdown",
   "metadata": {},
   "source": [
    "---\n",
    "## Part 2: Revisiting the Population Model (14 points)\n",
    "\n",
    "In this part of the assignment, you'll practice fitting a model to data, much like we did in class with the presidential approval ratings data and the weather data. However, rather than just using a generic `polyfit` solution, we'll use a specific model aimed at tracking the growth of a population. In fact, you used this very same model in Homework #2."
   ]
  },
  {
   "cell_type": "code",
   "execution_count": null,
   "metadata": {},
   "outputs": [],
   "source": [
    "# RUN THIS CELL! You'll be using curve_fit for this section of the assignment\n",
    "from scipy.optimize import curve_fit"
   ]
  },
  {
   "cell_type": "markdown",
   "metadata": {},
   "source": [
    "The model we used last time is a model of a population with a decreasing growth rate. The model is given by\n",
    "\n",
    "$$N(t)=\\frac{\\mu \\nu e^{kt}}{\\nu e^{kt}+ \\mu - \\nu}$$\n",
    "\n",
    "where $k$ is the growth rate, $\\nu$ is the initial population, and $\\mu$ is the [carrying capacity](https://en.wikipedia.org/wiki/Carrying_capacity)."
   ]
  },
  {
   "cell_type": "markdown",
   "metadata": {},
   "source": [
    "### Loading the population data (2 points)\n",
    "\n",
    "To start off, you need to load the `population.csv` file that we used in Homework #2. You should be able to download the file from D2L again, if necessary.\n",
    "\n",
    "**Read in the data using Pandas in the cell below.**\n",
    "\n",
    "**Important**: This file doesn't have any header information, but pandas will try to figure out what the column names are by default. If you let pandas do this, the first line of the file will end up being used as the column names. You need to figure out how to stop Pandas from doing this!"
   ]
  },
  {
   "cell_type": "code",
   "execution_count": null,
   "metadata": {},
   "outputs": [],
   "source": [
    "# Read in the data using pandas here, and show the first few rows\n"
   ]
  },
  {
   "cell_type": "markdown",
   "metadata": {},
   "source": [
    "### Defining the model function and using `curve_fit` (7 points)\n",
    "\n",
    "Now that we have our data loaded, we need to make a function that defines our \"$N(t)$\" population model using the following parameters: $k$, $\\nu$, and $\\mu$.\n",
    "\n",
    "**Write a function in the cell below that returns the value of $N$ at a given time, $t$. The function should take as input $t$, $k$, $\\nu$, and $\\mu$**"
   ]
  },
  {
   "cell_type": "code",
   "execution_count": null,
   "metadata": {},
   "outputs": [],
   "source": [
    "# Define the population model function here\n"
   ]
  },
  {
   "cell_type": "markdown",
   "metadata": {},
   "source": [
    "Our next step is to use Scipy's `curve_fit` function to estimate our parameter values. You should review the documentation for `curve_fit`, which you can find [here](https://docs.scipy.org/doc/scipy/reference/generated/scipy.optimize.curve_fit.html).\n",
    "\n",
    "We can use the first column from our dataset as the \"x\" values for the function, which is just time, and the second column as our \"y\" values. **Use curve_fit to estimate the values of the parameters in the model: $k$, $\\nu$, and $\\mu$; and print out the values!** Make sure you include the right import command so that you can use curve_fit!\n",
    "\n",
    "Once you have your estimated parameter values, **use them to compute the expected values of $N(t)$ for the range of time spanned by the times contained in the data.**\n"
   ]
  },
  {
   "cell_type": "code",
   "execution_count": null,
   "metadata": {},
   "outputs": [],
   "source": [
    "# Call the curve_fit function here\n",
    "\n",
    "# Use your population function and fitted parameter values to get the expected values\n"
   ]
  },
  {
   "cell_type": "markdown",
   "metadata": {},
   "source": [
    "Now that you've used curve_fit to estimate the parameters values and compute the expected values for $N(t)$, **plot the actual data and overplot the model values in the cell below.** Make sure you include appropriate labels!"
   ]
  },
  {
   "cell_type": "code",
   "execution_count": null,
   "metadata": {},
   "outputs": [],
   "source": [
    "# Put your plot code here\n"
   ]
  },
  {
   "cell_type": "markdown",
   "metadata": {},
   "source": [
    "**Question:** How do the results of `curve_fit` compare to your previous results from Homework #2 when you found the fit \"by eye\"? How well did you do compared to curve_fit? Which method was easier? "
   ]
  },
  {
   "cell_type": "markdown",
   "metadata": {},
   "source": [
    "*Put your answer here*"
   ]
  },
  {
   "cell_type": "markdown",
   "metadata": {},
   "source": [
    "**Question**: What is the carrying capacity returned to you by curve_fit? What is the initial population based on the fit? Do these values make sense?"
   ]
  },
  {
   "cell_type": "markdown",
   "metadata": {},
   "source": [
    "*Put you answer here*"
   ]
  },
  {
   "cell_type": "markdown",
   "metadata": {},
   "source": [
    "### Trying to use `polyfit` instead (5 points)"
   ]
  },
  {
   "cell_type": "markdown",
   "metadata": {},
   "source": [
    "What if you'd only had the population dataset but no real idea what the underlying model should be? In a situation like this, you could try using polyfit to come up with a model that matches the data. While this wouldn't necessary tell you what the carry capacity or the growth rate for the population is, it could still allow you to predict new values.\n",
    "\n",
    "**Use `polyfit` to fit the population data from the file.** You can choose the order of of the polynomial to use that best fits the data and you should **justify your choice**. Once you have your fit, use `poly1d` to calculate the model values and **overplot those values with the data**. As always, include appropriate labels!"
   ]
  },
  {
   "cell_type": "code",
   "execution_count": null,
   "metadata": {},
   "outputs": [],
   "source": [
    "# Put your code here"
   ]
  },
  {
   "cell_type": "markdown",
   "metadata": {},
   "source": [
    "*Put your justification for you choice of polynomial fit here.*"
   ]
  },
  {
   "cell_type": "markdown",
   "metadata": {},
   "source": [
    "---\n",
    "## Assignment wrap-up\n",
    "\n",
    "Please fill out the form that appears when you run the code below.  **You must completely fill this out in order to receive credit for the assignment!**"
   ]
  },
  {
   "cell_type": "code",
   "execution_count": null,
   "metadata": {},
   "outputs": [],
   "source": [
    "from IPython.display import HTML\n",
    "HTML(\n",
    "\"\"\"\n",
    "<iframe \n",
    "\tsrc=\"https://goo.gl/forms/5UVzxoNv16l3q9ey2\" \n",
    "\twidth=\"800px\" \n",
    "\theight=\"600px\" \n",
    "\tframeborder=\"0\" \n",
    "\tmarginheight=\"0\" \n",
    "\tmarginwidth=\"0\">\n",
    "\tLoading...\n",
    "</iframe>\n",
    "\"\"\"\n",
    ")"
   ]
  },
  {
   "cell_type": "markdown",
   "metadata": {},
   "source": [
    "---\n",
    "\n",
    "### Congratulations, you're done!\n",
    "\n",
    "Submit this assignment by uploading it to the course Desire2Learn web page.  Go to the \"Homework Assignments\" folder, find the submission link for Homework #5, and upload it there."
   ]
  }
 ],
 "metadata": {
  "kernelspec": {
   "display_name": "Python 3",
   "language": "python",
   "name": "python3"
  },
  "language_info": {
   "codemirror_mode": {
    "name": "ipython",
    "version": 3
   },
   "file_extension": ".py",
   "mimetype": "text/x-python",
   "name": "python",
   "nbconvert_exporter": "python",
   "pygments_lexer": "ipython3",
   "version": "3.7.0"
  }
 },
 "nbformat": 4,
 "nbformat_minor": 2
}
