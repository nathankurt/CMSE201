{
 "cells": [
  {
   "cell_type": "markdown",
   "metadata": {},
   "source": [
    "# __CMSE  201 - Fall 2018__\n",
    "\n",
    "<img src=\"https://cmse.msu.edu/_cmse/assets/Image/Screen%20Shot%202017-10-13%20at%2011_48_30%20AM.png\"\n",
    "     alt=\"CMSE Grapical Image\"\n",
    "     align=\"right\" \n",
    "     height=\"82\" \n",
    "     width=\"82\" />\n",
    "\n",
    "# Homework 1: Introduction to Python Programming\n",
    "\n",
    "In this homework you will practice some fundamental progamming techniques and skills using the Python programming language. This should serve as a good assessment of what you do/do not understand at this point in the course. Make sure to use Slack and help room hours if you run into issues!\n",
    "\n",
    "___"
   ]
  },
  {
   "cell_type": "markdown",
   "metadata": {},
   "source": [
    "## Goals\n",
    "\n",
    "### By the end of the homework assignment you will have practiced:\n",
    "\n",
    "1. Using lists and other Python data types\n",
    "2. Understanding the difference between lists and dictionaries\n",
    "3. Defining functions\n",
    "4. Using \"for\" and \"while\" loops to repeat a specified task\n",
    "5. How to use Boolean operators in \"if-elif-else\" statements\n"
   ]
  },
  {
   "cell_type": "markdown",
   "metadata": {},
   "source": [
    "## Assignment instructions\n",
    "\n",
    "Work through the following assignment, making sure to follow all of the directions and answer all of the questions.\n",
    "\n",
    "**This assignment is due at 11:59pm on Friday, September 14th.** It should be uploaded into the \"Homework Assignments\" submission folder for Homework #1.  Submission instructions can be found at the end of the notebook."
   ]
  },
  {
   "cell_type": "markdown",
   "metadata": {},
   "source": [
    "## Grading\n",
    "\n",
    "* Question 1: Working with lists and dictionaries (5 points)\n",
    "* Question 2: Justification through calculation (3 points)\n",
    "* Question 3: Calculating sequences (3 points)\n",
    "* Question 4: Doubling of an investment (3 points)\n",
    "* Question 5: Finding divisors (3 points)\n",
    "* Question 6: Capstone question (5 points)\n",
    "\n",
    "Total points possible: **22**\n",
    "___"
   ]
  },
  {
   "cell_type": "markdown",
   "metadata": {},
   "source": [
    "## Question 1: Working with lists and dictionaries (5 points)\n",
    "\n",
    "For this question, you will be working with some fundamental datatypes in Python. Namely, we will be working with lists, strings, dictionaries, and numbers.\n",
    "\n"
   ]
  },
  {
   "cell_type": "markdown",
   "metadata": {},
   "source": [
    "### Part 1: Lists (4 points)\n",
    "This part will have multiple steps. Please write each new step in a new cell to facilitate grading.\n",
    "\n",
    "* Create a list called \"grab_bag\" that contains the __*strings*__: \"laptop\", \"coffee\", \"moped\", \"sweatshirt\", and \"shoes\", in that order.\n",
    "* Using a __*for loop*__, print all of the elements that are in the list, \"grab_bag\".\n",
    "* Replace the string \"coffee\" with the string \"Michigan State\". Then, replace the string \"shoes\" with the number 15. Then print the new list. After you print the list, set the number 15 to be the letter 'c'.\n",
    "* Replace the string \"sweatshirt\" with the list of numbers [4, 8, 15, 16, 23, 42] and print the new list.\n",
    "* Use a command to find the length of the list \"grab_bag\". Then write a loop that finds the length of __*each element*__ in the list \"grab_bag\". Include print statements to specify what you are finding the length of. For example, \"The length of laptop is: 6\" or \"The length of grab_bag is: 5\". \n"
   ]
  },
  {
   "cell_type": "code",
   "execution_count": null,
   "metadata": {
    "collapsed": true
   },
   "outputs": [],
   "source": [
    "# Write your solution for the first bullet point here\n",
    "grab_bag = [\"laptop\",\"coffee\",\"moped\",\"sweatshirt\",\"shoes\"]"
   ]
  },
  {
   "cell_type": "code",
   "execution_count": 2,
   "metadata": {},
   "outputs": [
    {
     "name": "stdout",
     "output_type": "stream",
     "text": [
      "['laptop', 'coffee', 'moped', 'sweatshirt', 'shoes']\n"
     ]
    }
   ],
   "source": [
    "# Write your solution to the second bullet point here\n",
    "grab_bag = [\"laptop\",\"coffee\",\"moped\",\"sweatshirt\",\"shoes\"]\n",
    "#This is python, don't need a for loop to print a list here....\n",
    "print(grab_bag)"
   ]
  },
  {
   "cell_type": "code",
   "execution_count": 12,
   "metadata": {},
   "outputs": [
    {
     "name": "stdout",
     "output_type": "stream",
     "text": [
      "['laptop', 'Michigan State', 'moped', 'sweatshirt', 15]\n",
      "['laptop', 'Michigan State', 'moped', [4, 8, 15, 16, 23, 42], 'c']\n",
      "Length of grab_bag:  5\n",
      "Length of laptop is  6\n",
      "Length of Michigan State is  14\n",
      "Length of moped is  5\n",
      "Length of [4, 8, 15, 16, 23, 42] is  6\n",
      "Length of c is  1\n"
     ]
    }
   ],
   "source": [
    "# Write your solution for the third bullet point here\n",
    "grab_bag = [\"laptop\",\"coffee\",\"moped\",\"sweatshirt\",\"shoes\"]\n",
    "def find_and_replace(ls, old_val, new_val):\n",
    "    index = ls.index(old_val)\n",
    "    ls[index] = new_val\n",
    "    return ls\n",
    "grab_bag = find_and_replace(grab_bag, \"coffee\", \"Michigan State\")\n",
    "grab_bag = find_and_replace(grab_bag, \"shoes\", 15)\n",
    "print(grab_bag)\n",
    "grab_bag = find_and_replace(grab_bag, 15, \"c\")\n",
    "\n",
    "grab_bag = find_and_replace(grab_bag, \"sweatshirt\", [4,8,15,16,23,42])\n",
    "print(grab_bag)\n",
    "\n",
    "print(\"Length of grab_bag: \", len(grab_bag))\n",
    "\n",
    "for x in grab_bag: \n",
    "    print(\"Length of %s is \" % x, len(x))\n"
   ]
  },
  {
   "cell_type": "code",
   "execution_count": 13,
   "metadata": {},
   "outputs": [
    {
     "name": "stdout",
     "output_type": "stream",
     "text": [
      "['laptop', 'Michigan State', 'moped', 'sweatshirt', 15]\n",
      "['laptop', 'Michigan State', 'moped', [4, 8, 15, 16, 23, 42], 'c']\n",
      "Length of grab_bag:  5\n",
      "Length of laptop is  6\n",
      "Length of Michigan State is  14\n",
      "Length of moped is  5\n",
      "Length of [4, 8, 15, 16, 23, 42] is  6\n",
      "Length of c is  1\n"
     ]
    }
   ],
   "source": [
    "# Write your solution for the fourth bullet point here\n",
    "grab_bag = [\"laptop\",\"coffee\",\"moped\",\"sweatshirt\",\"shoes\"]\n",
    "def find_and_replace(ls, old_val, new_val):\n",
    "    index = ls.index(old_val)\n",
    "    ls[index] = new_val\n",
    "    return ls\n",
    "grab_bag = find_and_replace(grab_bag, \"coffee\", \"Michigan State\")\n",
    "grab_bag = find_and_replace(grab_bag, \"shoes\", 15)\n",
    "print(grab_bag)\n",
    "grab_bag = find_and_replace(grab_bag, 15, \"c\")\n",
    "\n",
    "grab_bag = find_and_replace(grab_bag, \"sweatshirt\", [4,8,15,16,23,42])\n",
    "print(grab_bag)\n",
    "\n",
    "print(\"Length of grab_bag: \", len(grab_bag))\n",
    "\n",
    "for x in grab_bag: \n",
    "    print(\"Length of %s is \" % x, len(x))"
   ]
  },
  {
   "cell_type": "code",
   "execution_count": 14,
   "metadata": {},
   "outputs": [
    {
     "name": "stdout",
     "output_type": "stream",
     "text": [
      "['laptop', 'Michigan State', 'moped', 'sweatshirt', 15]\n",
      "['laptop', 'Michigan State', 'moped', [4, 8, 15, 16, 23, 42], 'c']\n",
      "Length of grab_bag:  5\n",
      "Length of laptop is  6\n",
      "Length of Michigan State is  14\n",
      "Length of moped is  5\n",
      "Length of [4, 8, 15, 16, 23, 42] is  6\n",
      "Length of c is  1\n"
     ]
    }
   ],
   "source": [
    "# Write your solution for the fifth bullet point here\n",
    "grab_bag = [\"laptop\",\"coffee\",\"moped\",\"sweatshirt\",\"shoes\"]\n",
    "def find_and_replace(ls, old_val, new_val):\n",
    "    index = ls.index(old_val)\n",
    "    ls[index] = new_val\n",
    "    return ls\n",
    "grab_bag = find_and_replace(grab_bag, \"coffee\", \"Michigan State\")\n",
    "grab_bag = find_and_replace(grab_bag, \"shoes\", 15)\n",
    "print(grab_bag)\n",
    "grab_bag = find_and_replace(grab_bag, 15, \"c\")\n",
    "\n",
    "grab_bag = find_and_replace(grab_bag, \"sweatshirt\", [4,8,15,16,23,42])\n",
    "print(grab_bag)\n",
    "\n",
    "print(\"Length of grab_bag: \", len(grab_bag))\n",
    "\n",
    "for x in grab_bag: \n",
    "    print(\"Length of %s is \" % x, len(x))"
   ]
  },
  {
   "cell_type": "markdown",
   "metadata": {},
   "source": [
    "### Part 2: Dictionaries (1 point)\n",
    "\n",
    "Dictionaries are like lists in the sense that we have some object (e.g. number, string, etc.) occupying a position in the dictionary. However, dictionaries are unique in that we can refer to each object/element by a \"key\". For example, in the dictionary \"example_dict\" in the cell below, the key \"red\" corresponds to the __*number*__ -2, the key\" \"green\" corresponds to the __*string*__ \"beach_ball\" and so on.  __*IMPORTANT:*__ You cannot refer to elements in a dictionary using indices (e.g. example_dict[0] or example_dict[3]) like you can with lists (unless you've defined your keys to be numbers). You must use the __*keys*__ to refer to specific elements. Also note the use of __*curly braces*__ instead of brackets; this is another difference between lists and dictionaries. The following table serves as a reference for how to create and manipulate dictionaries (you made need to scroll side to side)."
   ]
  },
  {
   "cell_type": "markdown",
   "metadata": {},
   "source": [
    "|Container Type $\\hspace{0.5in}$|Mutable or Immutable $\\hspace{0.5in}$|Initialization *Without* Values $\\hspace{0.9in}$|Initializtion *With* Values $\\hspace{2.5in}$|Adding Values to Container $\\hspace{3.5in}$|Removing Values from Container $\\hspace{2.0in}$|Modifying Values $\\hspace{2.0in}$|Access Method $\\hspace{1.0in}$|Notable Operations and Additional Information $\\hspace{2.5in}$|\n",
    "|:---|:---|:---|:---|:---|:---|:---|:---|:---|\n",
    "|**Dictionary**|Mutable| `student={}` | `>>> student={'name': 'John Doe', 'age': 22, 'college': 'MSU'}` | `>>> student['major']='Computer Science'` <br> `>>> student` <br> `{'name': 'John Doe', 'age': 22, 'college': 'MSU', 'major': 'Computer Science'}` | `del dictName[keyName] #This method removes all entries associated with the given key` | `>>> student['age'] = 23` <br> `>>> student` <br> `{'name': 'John Doe', 'age': 23, 'college': 'MSU', 'major': 'Computer Science'}`| Access by key word. Note that this key **must** be a string. <br> `>>>student['college']` <br> `MSU`| The 'in' keyword can be very helpful with dictionaries. Ex: <br><ul><li>`'k' in dict #Returns true if key 'k' is in dictionary dict`</li><li>`'k' not in dict #Returns true if key 'k' is not in dicitonary dict`</li><li>`for key in dict #This will iterate over all keys in dictionary dict`</li></ul> <br>See webpage at [here](http://www.python-course.eu/python3_dictionaries.php) for additional helpful methods and operations|"
   ]
  },
  {
   "cell_type": "markdown",
   "metadata": {},
   "source": [
    "Here's the example mentioned above:"
   ]
  },
  {
   "cell_type": "code",
   "execution_count": null,
   "metadata": {
    "collapsed": true
   },
   "outputs": [],
   "source": [
    "# Here is how to define a \"dictionary\" in Python note that the keys are strings\n",
    "example_dict = {\"red\": -2, \"orange\": \"Cata\", \"green\": \"beach_ball\", \"blue\": 25}\n",
    "\n",
    "# This outputs the object that corresponds to the key \"red\"\n",
    "example_dict[\"red\"]\n",
    "\n",
    "# The following line will return an error because we are not using a \"key\".\n",
    "# Uncomment the code below to see the error message\n",
    "\n",
    "# example_dict[1]\n"
   ]
  },
  {
   "cell_type": "markdown",
   "metadata": {},
   "source": [
    "**Your goal** is to define a dictionary called \"cmse_201\". There will be 4 elements in your dictionary. The keys of each element should be \"Instructor\", \"TA\", \"LA\", and \"Section\". The values assigned to each key should be your respective Instructor, LA, TA(s), and section number (e.g. 1,2 or 3). If your section has more than one LA, you will need to put each of their names in a __*list*__. If your section only has one LA, add a second name to the __*list*\n",
    "__of your choosing. Then, **print your dictionary**.\n"
   ]
  },
  {
   "cell_type": "code",
   "execution_count": 39,
   "metadata": {},
   "outputs": [
    {
     "name": "stdout",
     "output_type": "stream",
     "text": [
      "{'Instructor': 'Dr. Rapinchuck', 'TA': 'Bill', 'LA': ['Renee', 'Joe'], 'Section': '001'}\n"
     ]
    }
   ],
   "source": [
    "# Write your solution to part 2 here\n",
    "cmse_201 = {\"Instructor\": \"Dr. Rapinchuck\", \"TA\" : \"Bill\", \"LA\": [\"Renee\",\"Joe\"], \"Section\": \"001\"}\n",
    "print(cmse_201)"
   ]
  },
  {
   "cell_type": "markdown",
   "metadata": {},
   "source": [
    "___"
   ]
  },
  {
   "cell_type": "markdown",
   "metadata": {},
   "source": [
    "## Question 2: Justification through calculation (3 points)\n",
    "\n",
    "Two chemists at a local brewery are having a dispute over some measurements. The most recent batches of beer are done brewing and they have collected some data to determine the final alcohol content of the different beers. However, their calculations don't agree with one another. \n",
    "\n",
    "Using the measurements that they took for the [specific gravity](https://en.wikipedia.org/wiki/Specific_gravity) (SG) of the beers before and after they were done brewing, calculate the [alcohol by volume](https://en.wikipedia.org/wiki/Alcohol_by_volume#Prediction_of_alcohol_content) for each beer, round it to 3 decimal places, and use this to determine which chemist was correct in their analysis. In order to determine who was right, print the **real** value and the value that each chemist claimed was correct. Then in the markdown cell below, explain which chemist was right for each beer. If neither are correct, you should also indicate that!\n",
    "\n",
    "In order to compute the ABV, you will need to use the following formula:\n",
    "$$ ABV = \\frac{1.05}{0.79} \\Big(\\frac{SG_{\\mathrm{start}} - SG_{\\mathrm{final}}}{SG_{\\mathrm{final}}}\\Big) \\times 100 $$\n",
    "\n",
    "All of the data are stored in the dictionary below called `beers`. Make sure your code includes the correct print statements and that you explain who was right in the Markdown cell!"
   ]
  },
  {
   "cell_type": "code",
   "execution_count": 12,
   "metadata": {},
   "outputs": [
    {
     "name": "stdout",
     "output_type": "stream",
     "text": [
      "[5.264, 3.983, 4.201, 3.843, 5.168, 5.511, 2.255, 8.991, 5.538, 4.253]\n"
     ]
    }
   ],
   "source": [
    "beers = {\"chemist 1\": [5.264, 3.983, 4.101, 7.216, 2.313, 4.876, 2.255, 8.991, 5.537, 4.251], \n",
    "         \"chemist 2\": [5.211, 3.008, 4.117, 3.843, 5.168, 5.511, 3.110, 8.903, 5.538, 4.255], \n",
    "         \"SG\": [1.050, 1.031, 1.077, 1.032, 1.042, 1.055, 1.019, 1.089, 1.100, 1.032], \n",
    "         \"FG\": [1.010, 1.001, 1.044, 1.003, 1.003, 1.013, 1.002, 1.020, 1.056, 1.000]}\n",
    "\n",
    "true_answer = []\n",
    "ratio = (1.05/.79)\n",
    "for i in range(len(beers[\"SG\"])):\n",
    "    abv = round(ratio * ((beers[\"SG\"][i] - beers[\"FG\"][i])/beers[\"FG\"][i]) * 100,3)\n",
    "    true_answer.append(abv)\n",
    "                \n",
    "print(true_answer)\n"
   ]
  },
  {
   "cell_type": "code",
   "execution_count": 13,
   "metadata": {},
   "outputs": [
    {
     "name": "stdout",
     "output_type": "stream",
     "text": [
      "[5.264, 3.983, 4.201, 3.843, 5.168, 5.511, 2.255, 8.991, 5.538, 4.253]\n"
     ]
    }
   ],
   "source": [
    "beers = {\"chemist 1\": [5.264, 3.983, 4.101, 7.216, 2.313, 4.876, 2.255, 8.991, 5.537, 4.251], \n",
    "         \"chemist 2\": [5.211, 3.008, 4.117, 3.843, 5.168, 5.511, 3.110, 8.903, 5.538, 4.255], \n",
    "         \"SG\": [1.050, 1.031, 1.077, 1.032, 1.042, 1.055, 1.019, 1.089, 1.100, 1.032], \n",
    "         \"FG\": [1.010, 1.001, 1.044, 1.003, 1.003, 1.013, 1.002, 1.020, 1.056, 1.000]}\n",
    "\n",
    "true_answer = []\n",
    "ratio = (1.05/.79)\n",
    "for i in range(len(beers[\"SG\"])):\n",
    "    abv = round(ratio * ((beers[\"SG\"][i] - beers[\"FG\"][i])/beers[\"FG\"][i]) * 100,3)\n",
    "    true_answer.append(abv)\n",
    "                \n",
    "print(true_answer)\n"
   ]
  },
  {
   "cell_type": "markdown",
   "metadata": {},
   "source": [
    "**Edit this cell** and explain which chemist was right about which beer.\n",
    "\n",
    "|Beer |Correct Chemist|\n",
    "|-----|---------------|\n",
    "|  1 |  1      |\n",
    "|  2 |  1      |\n",
    "|  3 | Neither |\n",
    "|  4 |  2      |\n",
    "|  5 |  2      |\n",
    "|  6 |  2      |\n",
    "|  7 |  1      |\n",
    "|  8 |  1      |\n",
    "|  9 |  2      |\n",
    "| 10 | Neither |"
   ]
  },
  {
   "cell_type": "markdown",
   "metadata": {},
   "source": [
    "___"
   ]
  },
  {
   "cell_type": "markdown",
   "metadata": {},
   "source": [
    "## Question 3: Calculating sequences (3 points)\n",
    "\n",
    "You are given a numerical sequence that has the form $1,1,2,4,9,21, \\dots$. Each successive number, after the first two, is found by adding twice the number before it and one less than the number before that. For example, the 7th number in the sequence is $2*21 + (9-1) = 50$.\n",
    "\n",
    "**A possibly useful hint**: We might not have explicitly talked about it in class yet, but one really useful thing that Python allows you to do is index lists using *negative* numbers, which allows you to move backwards through the list as you increase the size of the negative number, starting with -1. That means that if I have the list `stuff = [1,2,3,4]`, I can do `stuff[-1]` and I'll get the last number, `4`. If I want the second to last number, I would do `stuff[-2]`.\n",
    "\n",
    "Your goal is to write a __*loop*__ that computes $50$ terms in the sequence. Store this sequence as a __*list*__ and then **print the list**. You should get the following output: \n",
    "\n",
    "```\n",
    "[1, 1, 2, 4, 9, 21, 50, 120, 289, 697, 1682, 4060, 9801, 23661, 57122, 137904, 332929, 803761, 1940450, 4684660, 11309769, 27304197, 65918162, 159140520, 384199201, \n",
    "927538921, 2239277042, 5406093004, 13051463049, 31509019101, 76069501250, 183648021600, 443365544449, 1070379110497, 2584123765442, 6238626641380, 15061377048201, \n",
    "36361380737781, 87784138523762, 211929657785304, 511643454094369, 1235216565974041, 2982076586042450, 7199369738058940, 17380816062160329, 41961001862379597, \n",
    "101302819786919522, 244566641436218640, 590436102659356801, 1425438846754932241]\n",
    "```"
   ]
  },
  {
   "cell_type": "code",
   "execution_count": 3,
   "metadata": {},
   "outputs": [
    {
     "name": "stdout",
     "output_type": "stream",
     "text": [
      "[1, 1, 2, 4, 9, 21, 50, 120, 289, 697, 1682, 4060, 9801, 23661, 57122, 137904, 332929, 803761, 1940450, 4684660, 11309769, 27304197, 65918162, 159140520, 384199201, 927538921, 2239277042, 5406093004, 13051463049, 31509019101, 76069501250, 183648021600, 443365544449, 1070379110497, 2584123765442, 6238626641380, 15061377048201, 36361380737781, 87784138523762, 211929657785304, 511643454094369, 1235216565974041, 2982076586042450, 7199369738058940, 17380816062160329, 41961001862379597, 101302819786919522, 244566641436218640, 590436102659356801, 1425438846754932241]\n"
     ]
    }
   ],
   "source": [
    "# Write your solution to question 3 in this cell\n",
    "#I figure i can start with [1,1] instead of doing if statements because it says each successive number after\n",
    "#the first two...\n",
    "ls = [1,1]\n",
    "\n",
    "def next_val(ls):\n",
    "    return ((2*ls[-1]) + (ls[-2] - 1))\n",
    "\n",
    "#using 48 here instead of 50 because it comes with 1 and 1 for the output\n",
    "for i in range(48):\n",
    "    ls.append(next_val(ls))\n",
    "    \n",
    "print(ls)\n",
    "    \n",
    "    \n"
   ]
  },
  {
   "cell_type": "markdown",
   "metadata": {},
   "source": [
    "___"
   ]
  },
  {
   "cell_type": "markdown",
   "metadata": {},
   "source": [
    "## Question 4: Doubling of an investment (3 points)\n",
    "\n",
    "You invest $\\$ 1200$ into a savings account with an interest rate of 5% compounded biannually (twice per year). Note that for an initial amont, $P_0$, with interest rate $r$ (in decimal form), the final amount when the interest is compounded $n$ times per year after $t$ years is given by the formula\n",
    "\n",
    "$$ P(t) = P_0 (1 + \\frac{r}{n})^{nt}.$$\n",
    "\n",
    "Your goal is to write a __*while loop*__ to approximate __*when*__ (in years) the amount you have invested doubles in value."
   ]
  },
  {
   "cell_type": "code",
   "execution_count": 27,
   "metadata": {},
   "outputs": [
    {
     "name": "stdout",
     "output_type": "stream",
     "text": [
      "Years to double: 14.5\n"
     ]
    }
   ],
   "source": [
    "# Write your solution to question 4 in this cell\n",
    "\n",
    "def double_length(init, interest, compounded_per_year ):\n",
    "    new_money = 0\n",
    "    years = 0\n",
    "    while(init >= (new_money/2)):\n",
    "        new_money = init * ((1 + (interest/compounded_per_year)) ** (compounded_per_year * years))\n",
    "        years += 1/compounded_per_year\n",
    "    return(years - 1/compounded_per_year)\n",
    "\n",
    "print(\"Years to double:\", double_length(1200, .05, 2))\n",
    "\n"
   ]
  },
  {
   "cell_type": "markdown",
   "metadata": {},
   "source": [
    "___"
   ]
  },
  {
   "cell_type": "markdown",
   "metadata": {},
   "source": [
    "## Question 5: Finding divisors (3 points)\n",
    "\n",
    "For this question you should write a __*function*__ that finds __*all*__ of the numbers in the interval of 1234 and 1421 that are divisible by the number 3 __*or*__ the number 7. Your function should take the upper and lower limit of the range as inputs. Your function should return a __*list*__ of all the numbers that satisfy the above criterion. *Hint*: the \"modulo\" operator defined by the \"%\" symbol returns a remainder for two numbers that are being divided. For example, writing the piece of code, \"`5%2`\" (reads as 5 \"mod\" 2) returns a value of 1 because when 5 is divided by 2, the remainder is 1. Try to use this modulo operator to help determine if a number in the range specified above is divisible by 3 or 7. There should be 80 numbers in this range divisible by 3 __or__ 7.\n",
    "\n"
   ]
  },
  {
   "cell_type": "code",
   "execution_count": 30,
   "metadata": {},
   "outputs": [
    {
     "name": "stdout",
     "output_type": "stream",
     "text": [
      "[1236, 1239, 1242, 1245, 1246, 1248, 1251, 1253, 1254, 1257, 1260, 1263, 1266, 1267, 1269, 1272, 1274, 1275, 1278, 1281, 1284, 1287, 1288, 1290, 1293, 1295, 1296, 1299, 1302, 1305, 1308, 1309, 1311, 1314, 1316, 1317, 1320, 1323, 1326, 1329, 1330, 1332, 1335, 1337, 1338, 1341, 1344, 1347, 1350, 1351, 1353, 1356, 1358, 1359, 1362, 1365, 1368, 1371, 1372, 1374, 1377, 1379, 1380, 1383, 1386, 1389, 1392, 1393, 1395, 1398, 1400, 1401, 1404, 1407, 1410, 1413, 1414, 1416, 1419, 1421]\n"
     ]
    }
   ],
   "source": [
    "# Write your solution to question 5 in this cell\n",
    "\n",
    "# Define your function here\n",
    "def interval_divisible(lower,upper):\n",
    "    # I <3 List comprehension\n",
    "    return [x for x in range(lower, upper+1) if x % 3 == 0 or x % 7 == 0]      \n",
    "\n",
    "# Call your function here\n",
    "print(interval_divisible(1234,1421))\n",
    "#print(len(interval_divisible(1234,1421)))"
   ]
  },
  {
   "cell_type": "markdown",
   "metadata": {},
   "source": [
    "---"
   ]
  },
  {
   "cell_type": "markdown",
   "metadata": {},
   "source": [
    "## Question 6: Capstone Question (5 points)\n",
    "\n",
    "The goal of this question is to include the all topics you have learned about thus far in class in one problem. As such, this problem might be pretty challenging for you -- that's OK! Do your best to solve the problem and remember that is possible to get partial credit on every question if you are able to figure out even part of the solution.\n",
    "\n",
    "For this question you are given a list named \"`cars`\" where each of the elements in the list are lists themselves. The lists have the following items stored in them _in order_: `[number of axles, number of wheels, weight, number of seats]`. Your task is to write a __*function*__ which takes a list which contains four elements as an argument. Your function will take one of the lists found in our list, `cars`, and predict whether the vehicle is a sedan, truck, or a van. The function should include a **print statement** that tells you what the vehicle type is. \n",
    "\n",
    "Here are some pieces of information that may be useful in writing your function:\n",
    "\n",
    "* Sedans and vans have two axles and four wheels.\n",
    "* Sedans typically have 4-5 seats.\n",
    "* A truck can have two axles and four wheels, but it can also have more.\n",
    "* Trucks typically have fewer seats than sedans.\n",
    "* Vans come standard with 6 or more seats.\n",
    "* A typical sedan weighs about 2,500 pounds, a van weighs between 4,000 and 5,000 pounds, and trucks usually weigh between 7,000 and 10,000 pounds.\n",
    "\n",
    "Once you write your function, you should **write a loop** which goes through each of the lists in the list of `cars` and apply your function to determine whether it is a sedan, a truck, or a van. If the vehicle cannot be classified, your function should print out a message to tell you this. Once you are done, _create a markdown cell and explain why you think the results of your function are correct and whether or not the results make sense._"
   ]
  },
  {
   "cell_type": "code",
   "execution_count": 36,
   "metadata": {},
   "outputs": [
    {
     "name": "stdout",
     "output_type": "stream",
     "text": [
      "Sedan\n",
      "Truck\n",
      "Van\n",
      "Sedan\n",
      "Truck\n",
      "Van\n",
      "Sedan\n"
     ]
    }
   ],
   "source": [
    "# Write your solution to question 6 in this cell\n",
    "\n",
    "# This is the list that you must use for this problem\n",
    "cars = [[2, 4, 2300, 4],[3, 6, 7500, 3],[2, 4, 4100, 7],[2, 4, 2800, 5],[2, 4, 5800, 2], [2, 4, 4800, 8], [2, 4, 2750, 4]]\n",
    "\n",
    "# Write your function to determine what kind of vehicle something is based on its inputs\n",
    "def car_predict(car_list):\n",
    "    axles = car_list[0]\n",
    "    wheels = car_list[1]\n",
    "    weight = car_list[2]\n",
    "    seats = car_list[3]\n",
    "    #if it doesn't have two axles or four wheels it's a truck\n",
    "    if axles != 2 or wheels != 4:\n",
    "        return(\"Truck\")\n",
    "        #Know for sure\n",
    "    if seats >= 6 and weight >= 4000 and weight <= 6000:\n",
    "        return (\"Van\")\n",
    "    if weight >= 2000 and weight <= 3000:\n",
    "        return (\"Sedan\")\n",
    "    elif weight >= 7000 and weight <= 10000:\n",
    "        return (\"Truck\")\n",
    "    if weight >= 3500 and seats <= 4:\n",
    "        return (\"Truck\")\n",
    "    \n",
    "    \n",
    "\n",
    "# Write a loop to apply your function to each list in \"cars\" and print out the type of vehicle it is\n",
    "\n",
    "for i in cars:\n",
    "    print(car_predict(i))\n",
    "# Make a new markdown cell and explain why you agree with the results of your function"
   ]
  },
  {
   "cell_type": "markdown",
   "metadata": {},
   "source": [
    "**Reflecting on your results**: Create markdown cell below this one and comment on why you agree with the results of your function."
   ]
  },
  {
   "cell_type": "markdown",
   "metadata": {},
   "source": [
    "I think this covers most of the edge cases and uses the things that are absolute to check while it can. \n",
    "So you know that if you see more than 2 axles, it has to be a truck and it can only be a van if it has 6 or more seats. \n",
    "For the other things, i just used close values to make the best prediction"
   ]
  },
  {
   "cell_type": "markdown",
   "metadata": {},
   "source": [
    "---\n",
    "## Assignment Wrap-up\n",
    "\n",
    "Fill out the following Google form before you submit your assignment."
   ]
  },
  {
   "cell_type": "code",
   "execution_count": 37,
   "metadata": {},
   "outputs": [
    {
     "data": {
      "text/html": [
       "\n",
       "<iframe \n",
       "\tsrc=\"https://goo.gl/forms/juBlp1mdoNidBtZM2\" \n",
       "\twidth=\"1000px\" \n",
       "\theight=\"800px\" \n",
       "\tframeborder=\"0\" \n",
       "\tmarginheight=\"0\" \n",
       "\tmarginwidth=\"0\">\n",
       "\tLoading...\n",
       "</iframe>\n"
      ],
      "text/plain": [
       "<IPython.core.display.HTML object>"
      ]
     },
     "execution_count": 37,
     "metadata": {},
     "output_type": "execute_result"
    }
   ],
   "source": [
    "from IPython.display import HTML\n",
    "HTML(\n",
    "\"\"\"\n",
    "<iframe \n",
    "\tsrc=\"https://goo.gl/forms/juBlp1mdoNidBtZM2\" \n",
    "\twidth=\"1000px\" \n",
    "\theight=\"800px\" \n",
    "\tframeborder=\"0\" \n",
    "\tmarginheight=\"0\" \n",
    "\tmarginwidth=\"0\">\n",
    "\tLoading...\n",
    "</iframe>\n",
    "\"\"\"\n",
    ")"
   ]
  },
  {
   "cell_type": "markdown",
   "metadata": {},
   "source": [
    "---\n",
    "\n",
    "### Congratulations, you're done!\n",
    "\n",
    "Submit this assignment by uploading it to the course Desire2Learn web page.  Go to the \"Homework Assignments\" section, find the submission folder link for Homework #1, and upload it there."
   ]
  },
  {
   "cell_type": "markdown",
   "metadata": {},
   "source": [
    "&#169; Copyright 2018,  Michigan State University Board of Trustees"
   ]
  }
 ],
 "metadata": {
  "kernelspec": {
   "display_name": "Python 3",
   "language": "python",
   "name": "python3"
  },
  "language_info": {
   "codemirror_mode": {
    "name": "ipython",
    "version": 3
   },
   "file_extension": ".py",
   "mimetype": "text/x-python",
   "name": "python",
   "nbconvert_exporter": "python",
   "pygments_lexer": "ipython3",
   "version": "3.7.0"
  }
 },
 "nbformat": 4,
 "nbformat_minor": 2
}
