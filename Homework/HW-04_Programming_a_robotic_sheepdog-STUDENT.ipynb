{
 "cells": [
  {
   "cell_type": "markdown",
   "metadata": {},
   "source": [
    "# __CMSE  201 - Fall 2018__\n",
    "\n",
    "<img src=\"https://cmse.msu.edu/_cmse/assets/Image/Screen%20Shot%202017-10-13%20at%2011_48_30%20AM.png\"\n",
    "     alt=\"CMSE Grapical Image\"\n",
    "     align=\"right\" \n",
    "     height=\"82\" \n",
    "     width=\"82\" />\n",
    "\n",
    "# Homework 4: Programming a Robotic Sheepdog\n",
    "\n",
    "In this homework you will continue to learn about agent-based modeling, by developing and implementing a set of rules for how agents (sheep, sheepdog) interacts with each other.  We will measure its effectiveness and compare different sets of rules to each other.  Make sure to use Slack and help room hours if you run into issues!\n",
    "\n",
    "___"
   ]
  },
  {
   "cell_type": "markdown",
   "metadata": {},
   "source": [
    "## Goals\n",
    "\n",
    "### By the end of the homework assignment you will have practiced:\n",
    "\n",
    "1. Modeling a real world scenario.\n",
    "2. Building and manipulating agent-based models.\n",
    "3. Assessing model outcomes.\n",
    "4. Defining functions to check the state of a model\n"
   ]
  },
  {
   "cell_type": "markdown",
   "metadata": {},
   "source": [
    "## Assignment instructions\n",
    "\n",
    "Work through the following assignment, making sure to follow all of the directions and answer all of the questions.\n",
    "\n",
    "**This assignment is due at 11:59pm on Friday, October 26th.** It should be uploaded into the \"Homework Assignments\" submission folder for Homework #4.  Submission instructions can be found at the end of the notebook."
   ]
  },
  {
   "cell_type": "markdown",
   "metadata": {},
   "source": [
    "## Grading\n",
    "\n",
    "* Question 1: Scattering sheep (3 points)\n",
    "* Question 2: These sheep were made for walkin' (8 points)\n",
    "* Question 3: All bark and no bite (6 points)\n",
    "* Question 4: Go dog go (6 points)\n",
    "* Question 5: Test for success (6 points)\n",
    "* Question 6: Better dog path (4 points)\n",
    "* Question 7: Your turn (5 points)\n",
    "\n",
    "Total points possible: **38**\n",
    "___"
   ]
  },
  {
   "cell_type": "markdown",
   "metadata": {},
   "source": [
    "# Introduction\n",
    "\n",
    "An agent-based model is a model where a set of agents interact according to a set of rules.  This is a general framework that can model many different phenomena. Here we will use a 2D grid, where the cells are given numbers to represent one of the following:\n",
    "\n",
    "* 0 = empty space\n",
    "* 1 = fence\n",
    "* 2 = sheep\n",
    "* 3 = dog\n",
    "\n",
    "The fence forms a pen where the sheep need to sleep every night.  However, the sheep don't always like to go to the pen, and would rather stay up past their bedtime.\n",
    "\n",
    "One particular farmer (you) has come up with a 21st century solution: **a robotic sheepdog**.  This dog will help round up the sheep and get them into their pen at night.  One problem is that we're not sure the best way to program this robot in order to get the sheep into the pen as fast as possible.\n",
    "\n",
    "---\n",
    "\n",
    "Let's get started by defining our grid:"
   ]
  },
  {
   "cell_type": "code",
   "execution_count": 3,
   "metadata": {},
   "outputs": [],
   "source": [
    "import matplotlib.pyplot as plt\n",
    "%matplotlib inline\n",
    "\n",
    "import numpy as np\n",
    "\n",
    "nx = 40\n",
    "ny = 40\n",
    "fenceline = 10\n",
    "\n",
    "states = ['empty','fence','sheep','dog']\n",
    "state_color = np.linspace(0,1,len(states))\n",
    "\n",
    "system_state = np.zeros([ny,nx]) # intialize everything to empty\n",
    "\n",
    "dog_start_pos = [int(ny-1),int(nx/2)]\n",
    "system_state[dog_start_pos[0],dog_start_pos[1]] = 3  # put a dog at the top, in the middle\n",
    "system_state[fenceline,:] = 1                 # put a fence along y = 10\n",
    "system_state[fenceline,17:24] = 0             # put a hole in the fence"
   ]
  },
  {
   "cell_type": "markdown",
   "metadata": {},
   "source": [
    "Now lets define a function to plot our state, using symbols for the fence, the dog and the sheep."
   ]
  },
  {
   "cell_type": "code",
   "execution_count": 4,
   "metadata": {},
   "outputs": [],
   "source": [
    "def plotstate(state,time=0):\n",
    "    \n",
    "    # first create two vectors based on the x and y sizes of the grid\n",
    "    x_range = np.linspace(0, state.shape[0], state.shape[0]) \n",
    "    y_range = np.linspace(0, state.shape[1], state.shape[1])\n",
    "    \n",
    "    # use the numpy meshgrid function to create two matrices \n",
    "    # of the same size as myarray with x and y indexes\n",
    "    x_indexes, y_indexes = np.meshgrid(x_range, y_range)\n",
    "    \n",
    "    # make a list of all the x and y indexes that are not empty.\n",
    "    fence_x = x_indexes[state == 1];\n",
    "    fence_y = y_indexes[state == 1]; \n",
    "    sheep_x = x_indexes[state == 2]; \n",
    "    sheep_y = y_indexes[state == 2];\n",
    "    dog_x = x_indexes[state == 3]; \n",
    "    dog_y = y_indexes[state == 3];\n",
    " \n",
    "    # plot the squares and triangles.  make the size of the polygons \n",
    "    # larger than the default so they're easy to see!   \n",
    "    plt.plot(fence_x,fence_y, 's',markersize=20)  \n",
    "    plt.plot(sheep_x,sheep_y, 'o',markersize=20)  \n",
    "    plt.plot(dog_x,dog_y, '1',markersize=20)\n",
    "    \n",
    "    # Set the x and y limits to include half a space overlap so we don't cut off the shapes\n",
    "    plt.ylim([-0.5,state.shape[0] + 0.5]) \n",
    "    plt.xlim([-0.5,state.shape[0] + 0.5])\n",
    "    \n",
    "    # display the current time on the plot\n",
    "    plt.text(0,0,\"time={0}\".format(time),fontsize=18)\n",
    "    \n",
    "    # Turn the axes off\n",
    "    plt.tick_params(axis='both', which='both', bottom=False, top=False, labelbottom=False, right=False, left=False, labelleft=False)\n",
    "    plt.gca().set_aspect('equal', adjustable='box')\n"
   ]
  },
  {
   "cell_type": "code",
   "execution_count": 5,
   "metadata": {},
   "outputs": [
    {
     "data": {
      "image/png": "[encoded data removed]",
      "text/plain": [
       "<Figure size 720x720 with 1 Axes>"
      ]
     },
     "metadata": {},
     "output_type": "display_data"
    }
   ],
   "source": [
    "plt.figure(figsize=(10,10))\n",
    "plotstate(system_state)"
   ]
  },
  {
   "cell_type": "markdown",
   "metadata": {},
   "source": [
    "Doesn't really look like a dog, but let's use our imaginations.  We're almost ready, but we're missing something.... oh yes. The sheep."
   ]
  },
  {
   "cell_type": "markdown",
   "metadata": {},
   "source": [
    "## Question 1:  Scattering sheep (3 points)\n",
    "\n",
    "Write a function that randomly places the sheep in the field above the fence.  It should take as an argument the `system_state`, the number of sheep to place (`N`), and a `fenceline` parameter that describes the y-position of the fence.  It should return a new state with the sheep. \n",
    "\n",
    "**Importantly,** the sheep cannot overlap with anything that is not empty space (i.e. `state[try_y,try_x]` must equal zero), and the sheep must be placed above the fenceline!"
   ]
  },
  {
   "cell_type": "code",
   "execution_count": 6,
   "metadata": {},
   "outputs": [],
   "source": [
    "from copy import copy\n",
    "\n",
    "def place_sheep(state,N,fenceline):\n",
    "    \n",
    "    newstate = copy(state)\n",
    "    \n",
    "    sheep_placed = 0\n",
    "    while sheep_placed < N:\n",
    "        # suggest somewhere for a sheep to be placed \n",
    "        try_y = np.random.randint(0,ny) \n",
    "        # hint: use np.random.randint\n",
    "        try_x = np.random.randint(0,nx)\n",
    "        \n",
    "        if state[try_y,try_x] == 0:\n",
    "            good_place = True\n",
    "        else:\n",
    "            good_place = False\n",
    "            \n",
    "        \n",
    "        # check if this is appropriate.  \n",
    "        # if yes, set good_place to True.  if no, set good_place to False.\n",
    "        \n",
    "        # if good, place the sheep, if not try again\n",
    "        if good_place is True:\n",
    "            sheep_placed += 1\n",
    "            newstate[try_y,try_x] = 2\n",
    "    \n",
    "    return newstate"
   ]
  },
  {
   "cell_type": "markdown",
   "metadata": {},
   "source": [
    "Let's call this state `initial_state` since we'll use it to start our agent-based model simulations.  The following should plot your new system.  Run it a few times and make sure it always gives you something appropriate."
   ]
  },
  {
   "cell_type": "code",
   "execution_count": 11,
   "metadata": {},
   "outputs": [
    {
     "data": {
      "image/png": "[encoded data removed]",
      "text/plain": [
       "<Figure size 720x720 with 1 Axes>"
      ]
     },
     "metadata": {},
     "output_type": "display_data"
    }
   ],
   "source": [
    "initial_state = place_sheep(system_state,20,fenceline)\n",
    "plt.figure(figsize=(10,10))\n",
    "plotstate(initial_state)"
   ]
  },
  {
   "cell_type": "markdown",
   "metadata": {},
   "source": [
    "## Question 2:  These sheep were made for walkin' (8 points)\n",
    "\n",
    "Of course these sheep aren't going to just stand there.  They will move, randomly over time.  For each time step (say, 1 second), let's say they will move according to the following probabilities and rules:\n",
    "\n",
    "```\n",
    "- choose to move with probability p_move\n",
    "- if moving \n",
    "     - choose direction (up, down, left, right) with equal probability\n",
    "     - do not execute the move if it goes beyond the borders\n",
    "     - only execute the move if the new space is empty\n",
    "     - do not execute an upward move if sheep is at the fenceline\n",
    "```\n",
    "Where the latter condition assumes that once the sheep are in the pen, they remember how good it feels to be home.\n",
    "\n",
    "**Here is a function** that takes in: 1) a system state, 2) a sheep's x and y position, 3) p_move and 4) the fenceline.  This function will attempt to move the specified sheep according to the rules above.\n",
    "\n",
    "**Provide comments and insert code where requested below**"
   ]
  },
  {
   "cell_type": "code",
   "execution_count": 12,
   "metadata": {},
   "outputs": [],
   "source": [
    "def move_sheep(state,sheep_x,sheep_y,pmove,fenceline):\n",
    "\n",
    "    # what are the next two lines doing?\n",
    "    # getting random number and checking it\n",
    "    r1 = np.random.random()\n",
    "    if r1 < pmove:\n",
    "        # now decide to move up, down, left or right\n",
    "        # store the new location in the variables try_x and try_y\n",
    "\n",
    "        r2 = np.random.random()\n",
    "        if r2 < 0.25: # move left\n",
    "            try_x = sheep_x - 1\n",
    "            try_y = sheep_y\n",
    "        elif r2 < 0.5: # move up\n",
    "            if sheep_y != fenceline:\n",
    "                try_x = sheep_x\n",
    "                try_y = sheep_y + 1\n",
    "            else:\n",
    "                try_x = sheep_x\n",
    "                try_y = sheep_y\n",
    "        elif r2 < 0.75: # move right\n",
    "            try_x = sheep_x + 1\n",
    "            try_y = sheep_y\n",
    "        else: # move down\n",
    "            try_x = sheep_x\n",
    "            try_y = sheep_y - 1\n",
    "\n",
    "        # check and see if the move is good\n",
    "        good_move = True\n",
    "        \n",
    "        # set good_move to False if conditions are violated\n",
    "        if try_x < 0 or try_x >= state.shape[1]:\n",
    "            good_move = False\n",
    "        elif try_y < 0 or try_y >= state.shape[0]:\n",
    "            good_move = False\n",
    "        elif state[try_y,try_x] != 0:\n",
    "            good_move = False\n",
    "            \n",
    "        # check if the move is good, if so make the move\n",
    "        if good_move:\n",
    "            state[sheep_y,sheep_x] = 0\n",
    "            state[try_y,try_x] = 2\n",
    "    \n",
    "    # return the state\n",
    "    return state"
   ]
  },
  {
   "cell_type": "markdown",
   "metadata": {},
   "source": [
    "Great!  Now let's write a function to move the whole system forward in time.  This will use the `move_sheep` function.  First we need to find all the sheep.  This can be done easily with the `np.where` function.  You might not have seen this before, so read the doc page before you use it.  "
   ]
  },
  {
   "cell_type": "code",
   "execution_count": 13,
   "metadata": {},
   "outputs": [],
   "source": [
    "sheep_loc = np.array(np.where(initial_state==2))"
   ]
  },
  {
   "cell_type": "markdown",
   "metadata": {},
   "source": [
    "**What is `sheep_loc`?  What do the first and second axes represent?**"
   ]
  },
  {
   "cell_type": "markdown",
   "metadata": {},
   "source": [
    "// it makes an array of all the locations where there is a 2 for initial_state\n"
   ]
  },
  {
   "cell_type": "markdown",
   "metadata": {},
   "source": [
    "**Use `sheep_loc` below to get the x and y position of the first sheep:**"
   ]
  },
  {
   "cell_type": "code",
   "execution_count": 14,
   "metadata": {},
   "outputs": [
    {
     "name": "stdout",
     "output_type": "stream",
     "text": [
      "[[ 3  5  6  8 10 13 17 19 20 24 26 27 27 31 32 35 36 36 39 39]\n",
      " [ 2 16  8 27 22 26 27 27  5  1  0  2 24 24  6 36 19 21  6 32]]\n",
      "There is a sheep at x, y = (2,3)\n"
     ]
    }
   ],
   "source": [
    "# code here\n",
    "#tup = tuple(map(tuple,sheep_loc))\n",
    "print(sheep_loc)\n",
    "x = sheep_loc[1][0]\n",
    "y = sheep_loc[0][0]\n",
    "print(\"There is a sheep at x, y = ({0},{1})\".format(x,y))"
   ]
  },
  {
   "cell_type": "markdown",
   "metadata": {},
   "source": [
    "**Use `sheep_loc` to get the total number of sheep:**"
   ]
  },
  {
   "cell_type": "code",
   "execution_count": 15,
   "metadata": {},
   "outputs": [
    {
     "name": "stdout",
     "output_type": "stream",
     "text": [
      "There are 20 sheep in total\n"
     ]
    }
   ],
   "source": [
    "# code here\n",
    "nsheep = len(sheep_loc[0])\n",
    "print(\"There are {0} sheep in total\".format(nsheep))"
   ]
  },
  {
   "cell_type": "markdown",
   "metadata": {},
   "source": [
    "**Now use `sheep_loc` to finish the `evolve_system` function below, which will (at least try to) move all of the sheep.**"
   ]
  },
  {
   "cell_type": "code",
   "execution_count": 16,
   "metadata": {},
   "outputs": [],
   "source": [
    "def evolve_system(state,pmove,fenceline):\n",
    "    sheep_loc = np.array(np.where(state==2))\n",
    "    tup = tuple(map(tuple,sheep_loc))\n",
    "    # use sheep_loc to determine how many sheep there are\n",
    "    nsheep = len(sheep_loc[0])\n",
    "    \n",
    "    # write a loop to iterate over each sheep\n",
    "    for i in range(nsheep):\n",
    "        sheep_x = sheep_loc[1][i]\n",
    "        sheep_y = sheep_loc[0][i]\n",
    "        # call move_sheep for each sheep_x and sheep_y position\n",
    "        state = move_sheep(state,sheep_x,sheep_y,pmove,fenceline)\n",
    "\n",
    "    return state"
   ]
  },
  {
   "cell_type": "markdown",
   "metadata": {},
   "source": [
    "OK, now we'll test out our code:"
   ]
  },
  {
   "cell_type": "code",
   "execution_count": 17,
   "metadata": {},
   "outputs": [
    {
     "data": {
      "image/png": "[encoded data removed]",
      "text/plain": [
       "<Figure size 576x576 with 1 Axes>"
      ]
     },
     "metadata": {},
     "output_type": "display_data"
    }
   ],
   "source": [
    "from copy import copy\n",
    "from IPython.display import display, clear_output\n",
    "import time \n",
    "\n",
    "nsteps = 20\n",
    "pmove = 0.5\n",
    "fenceline = 10\n",
    "\n",
    "state = copy(initial_state)\n",
    "\n",
    "fig = plt.figure(figsize=(8,8))\n",
    "for i in range(nsteps): \n",
    "    state = evolve_system(state,pmove,fenceline)\n",
    "    plotstate(state,time=i)\n",
    "    time.sleep(0.01)         # Sleep for 0.01 s to slow down the animation\n",
    "    clear_output(wait=True) # Clear output for dynamic display\n",
    "    display(fig)            # Reset display\n",
    "    fig.clear()             # Prevent overlapping and layered plots\n",
    "\n",
    "plt.close()                 # Close dynamic display"
   ]
  },
  {
   "cell_type": "markdown",
   "metadata": {},
   "source": [
    "Wow!  Just... wow.\n",
    "\n",
    "---"
   ]
  },
  {
   "cell_type": "markdown",
   "metadata": {},
   "source": [
    "## Question 3:  All bark and no bite (6 points)\n",
    "\n",
    "Now we need some sheep-sheepdog interaction.  Time to make some changes to our rule set:\n",
    "\n",
    "```\n",
    "- choose to move with probability p_move\n",
    "- if moving\n",
    "     - choose x dir or y dir with equal probability\n",
    "     - choose toward dog or away from dog as follows\n",
    "         * p = 0.5 - delta (towards dog)\n",
    "         * p = 0.5 + delta (away from dog)\n",
    "     - do not execute the move if it goes beyond the borders\n",
    "     - only execute the move if the new space is empty\n",
    "     - do not execute an upward move if sheep is at the fenceline\n",
    "```\n",
    "where we've introduced another parameter `delta` which can take on values between 0 and 0.5."
   ]
  },
  {
   "cell_type": "markdown",
   "metadata": {},
   "source": [
    "Here is a new `move_sheep_bias` function that accounts for the dog's position:"
   ]
  },
  {
   "cell_type": "code",
   "execution_count": 18,
   "metadata": {},
   "outputs": [],
   "source": [
    "def move_sheep_bias(state,sheep_x,sheep_y,pmove,fenceline,delta):\n",
    "\n",
    "    # set default \"try\" position at current position\n",
    "    try_x = sheep_x\n",
    "    try_y = sheep_y\n",
    "    \n",
    "    # get dog's position\n",
    "    dog_y = np.where(state==3)[0][0]\n",
    "    dog_x = np.where(state==3)[1][0]\n",
    "    \n",
    "    # choose whether to move\n",
    "    r1 = np.random.random()\n",
    "    if r1 < pmove:\n",
    "        # first decide x dir or y dir\n",
    "        r2 = np.random.random()\n",
    "        if r2 < 0.5:\n",
    "            x_or_y = 'x'\n",
    "        else:\n",
    "            x_or_y = 'y'\n",
    "        \n",
    "        # choose toward dog or away from dog\n",
    "        r3 = np.random.random()\n",
    "        if r3 < 0.5 + delta:\n",
    "            # move away from dog\n",
    "            if x_or_y == 'x':\n",
    "                if sheep_x < dog_x:\n",
    "                    try_x = sheep_x - 1\n",
    "                else:\n",
    "                    try_x = sheep_x + 1\n",
    "            elif x_or_y == 'y':\n",
    "                if sheep_y < dog_y:\n",
    "                    try_y = sheep_y - 1\n",
    "                else:\n",
    "                    # moving up, check if you are at the fenceline\n",
    "                    if sheep_y != fenceline:\n",
    "                        try_y = sheep_y + 1\n",
    "        else:\n",
    "            # move towards dog\n",
    "            if x_or_y == 'x':\n",
    "                if sheep_x < dog_x:\n",
    "                    try_x = sheep_x + 1\n",
    "                else:\n",
    "                    try_x = sheep_x - 1\n",
    "            elif x_or_y == 'y':\n",
    "                if sheep_y < dog_y:\n",
    "                    # moving up, check if you are at the fenceline\n",
    "                    if sheep_y != fenceline:\n",
    "                        try_y = sheep_y + 1\n",
    "                else:\n",
    "                    try_y = sheep_y - 1\n",
    "    \n",
    "        # check and see if the move is good\n",
    "        good_move = True\n",
    "        if try_x < 0 or try_x >= state.shape[1]:\n",
    "            good_move = False\n",
    "        elif try_y < 0 or try_y >= state.shape[0]:\n",
    "            good_move = False\n",
    "        elif state[try_y,try_x] != 0:\n",
    "            good_move = False\n",
    "            \n",
    "        if good_move is True:\n",
    "            # make the move\n",
    "            state[sheep_y,sheep_x] = 0\n",
    "            state[try_y,try_x] = 2\n",
    "    \n",
    "    return state"
   ]
  },
  {
   "cell_type": "markdown",
   "metadata": {},
   "source": [
    "**Below create an `evolve_system_bias` function to call this new function. (Don't forget to include the delta parameter)**:"
   ]
  },
  {
   "cell_type": "code",
   "execution_count": 19,
   "metadata": {},
   "outputs": [],
   "source": [
    "def evolve_system_bias(state,pmove,fenceline,delta):\n",
    "    dog_loc = np.array(np.where(state==3))\n",
    "    dog_X = dog_loc[1][0]\n",
    "    dog_y = dog_loc[0][0]\n",
    "    sheep_loc = np.array(np.where(state==2))\n",
    "    # use sheep_loc to determine how many sheep there are\n",
    "    nsheep = len(sheep_loc[0])\n",
    "    \n",
    "    # write a loop to iterate over each sheep\n",
    "    for i in range(nsheep):\n",
    "        sheep_x = sheep_loc[1][i]\n",
    "        sheep_y = sheep_loc[0][i]\n",
    "        # call move_sheep for each sheep_x and sheep_y position\n",
    "        state = move_sheep_bias(state,sheep_x,sheep_y,pmove,fenceline,delta)\n",
    "    \n",
    "    return state"
   ]
  },
  {
   "cell_type": "markdown",
   "metadata": {},
   "source": [
    "Then test our code again, this time only plotting every 10 steps:"
   ]
  },
  {
   "cell_type": "code",
   "execution_count": 20,
   "metadata": {},
   "outputs": [
    {
     "data": {
      "image/png": "[encoded data removed]",
      "text/plain": [
       "<Figure size 576x576 with 1 Axes>"
      ]
     },
     "metadata": {},
     "output_type": "display_data"
    }
   ],
   "source": [
    "from IPython.display import display, clear_output\n",
    "import time \n",
    "\n",
    "nsteps = 500\n",
    "plot_every = 10\n",
    "pmove = 0.5\n",
    "fenceline = 10\n",
    "delta = 0.25\n",
    "\n",
    "state = copy(initial_state)\n",
    "\n",
    "fig = plt.figure(figsize=(8,8))\n",
    "for i in range(nsteps): \n",
    "    state = evolve_system_bias(state,pmove,fenceline,delta)\n",
    "    if i % plot_every == 0:\n",
    "        plotstate(state,time=i)\n",
    "        time.sleep(0.01)         # Sleep for 0.01 s to slow down the animation\n",
    "        clear_output(wait=True) # Clear output for dynamic display\n",
    "        display(fig)            # Reset display\n",
    "        fig.clear()             # Prevent overlapping and layered plots\n",
    "\n",
    "plt.close()                 # Close dynamic display"
   ]
  },
  {
   "cell_type": "markdown",
   "metadata": {},
   "source": [
    "Maybe a little too intense.  I don't think our dog should be that scary.  \n",
    "\n",
    "**Add a cutoff distance (`d_cut`), where if sheep are closer to the dog than `d_cut` then they use `move_sheep_bias`, but if they are farther then they move normally with `move_sheep`.**\n",
    "\n",
    "Note: calculate distance as $d = \\sqrt{(x_s - x_d)^2 + (y_s - y_d)^2}$, where $x_s$ is the x-position of the sheep, and $x_d$ is the x-position of the dog, etc."
   ]
  },
  {
   "cell_type": "code",
   "execution_count": 25,
   "metadata": {},
   "outputs": [],
   "source": [
    "def evolve_system_bias_cutoff(state,pmove,fenceline,delta,dcut):\n",
    "    # find the dog\n",
    "    dog_loc = np.array(np.where(state==3))\n",
    "    dog_x = dog_loc[1][0]\n",
    "    dog_y = dog_loc[0][0]\n",
    "    \n",
    "    sheep_loc = np.array(np.where(state==2))\n",
    "    \n",
    "    # determine how many sheep there are\n",
    "    nsheep = len(sheep_loc[0])\n",
    "    \n",
    "    # write a loop to iterate over each sheep\n",
    "    for i in range(nsheep):\n",
    "        sheep_x = sheep_loc[1][i]\n",
    "        sheep_y = sheep_loc[0][i]\n",
    "        \n",
    "        # use distance to dog to decide which move_sheep function to use\n",
    "        d = pow(pow((sheep_x - dog_x), 2) + pow((sheep_y - dog_y), 2), .5)\n",
    "        #print(d)\n",
    "        #print(dcut)\n",
    "        # INSERT CODE HERE\n",
    "        if d >= dcut:\n",
    "            state = move_sheep(state,sheep_x,sheep_y,pmove,fenceline)\n",
    "        else:\n",
    "            state = move_sheep_bias(state,sheep_x,sheep_y,pmove,fenceline,delta)\n",
    "\n",
    "    return state"
   ]
  },
  {
   "cell_type": "code",
   "execution_count": 27,
   "metadata": {},
   "outputs": [
    {
     "data": {
      "image/png": "[encoded data removed]",
      "text/plain": [
       "<Figure size 576x576 with 1 Axes>"
      ]
     },
     "metadata": {},
     "output_type": "display_data"
    }
   ],
   "source": [
    "nsteps = 500\n",
    "plot_every = 10\n",
    "pmove = 0.5\n",
    "fenceline = 10\n",
    "delta = 0.25\n",
    "dcut = 15\n",
    "\n",
    "state = copy(initial_state)\n",
    "\n",
    "fig = plt.figure(figsize=(8,8))\n",
    "for i in range(nsteps): \n",
    "    state = evolve_system_bias_cutoff(state,pmove,fenceline,delta,dcut)\n",
    "    if i % plot_every == 0:\n",
    "        plotstate(state,time=i)\n",
    "        time.sleep(0.01)         # Sleep for 0.01 s to slow down the animation\n",
    "        clear_output(wait=True) # Clear output for dynamic display\n",
    "        display(fig)            # Reset display\n",
    "        fig.clear()             # Prevent overlapping and layered plots\n",
    "\n",
    "plt.close()                 # Close dynamic display"
   ]
  },
  {
   "cell_type": "markdown",
   "metadata": {},
   "source": [
    "That's better."
   ]
  },
  {
   "cell_type": "markdown",
   "metadata": {},
   "source": [
    "## Question 4:  Go dog go (6 points)\n",
    "\n",
    "Here's the chance we've been waiting for!  Time to make our dog move.  But how?  We'll assume our robot can move much faster than the sheep, so we'll allow it to move one square every timestep.  \n",
    "\n",
    "**But how should it move?**  To allow us to try out a set of different strategies, we'll assume we have a path that the dog follows, which is a list of states that are no more than one square apart."
   ]
  },
  {
   "cell_type": "code",
   "execution_count": 28,
   "metadata": {},
   "outputs": [],
   "source": [
    "y0,x0 = dog_start_pos\n",
    "short_dog_path = [(y0,x0),(y0,x0-1),(y0,x0-2),(y0,x0-1)]"
   ]
  },
  {
   "cell_type": "markdown",
   "metadata": {},
   "source": [
    "**How many states are in this path?  What does this path describe?**"
   ]
  },
  {
   "cell_type": "markdown",
   "metadata": {},
   "source": [
    "there are 4 states, and each one represents a location where the dog will be at\n"
   ]
  },
  {
   "cell_type": "markdown",
   "metadata": {},
   "source": [
    "**Make a path where the dog runs all the way to the left wall, then all the way to the right wall, and then back to its starting position.**  Do this by filling in the missing lines below:"
   ]
  },
  {
   "cell_type": "code",
   "execution_count": 30,
   "metadata": {},
   "outputs": [
    {
     "name": "stdout",
     "output_type": "stream",
     "text": [
      "[(39, 20), (39, 19), (39, 18), (39, 17), (39, 16), (39, 15), (39, 14), (39, 13), (39, 12), (39, 11), (39, 10), (39, 9), (39, 8), (39, 7), (39, 6), (39, 5), (39, 4), (39, 3), (39, 2), (39, 1), (39, 0), (39, 1), (39, 2), (39, 3), (39, 4), (39, 5), (39, 6), (39, 7), (39, 8), (39, 9), (39, 10), (39, 11), (39, 12), (39, 13), (39, 14), (39, 15), (39, 16), (39, 17), (39, 18), (39, 19), (39, 20), (39, 21), (39, 22), (39, 23), (39, 24), (39, 25), (39, 26), (39, 27), (39, 28), (39, 29), (39, 30), (39, 31), (39, 32), (39, 33), (39, 34), (39, 35), (39, 36), (39, 37), (39, 38), (39, 39), (39, 38), (39, 37), (39, 36), (39, 35), (39, 34), (39, 33), (39, 32), (39, 31), (39, 30), (39, 29), (39, 28), (39, 27), (39, 26), (39, 25), (39, 24), (39, 23), (39, 22), (39, 21)]\n"
     ]
    }
   ],
   "source": [
    "dog_path = [(y0,x0)]\n",
    "x = x0\n",
    "y = y0\n",
    "\n",
    "# first run to the left wall\n",
    "while x > 0:\n",
    "    # update x\n",
    "    x = x-1\n",
    "    # append (x,y) tuple to dog_path\n",
    "    dog_path.append((y,x))\n",
    "# then run to the right wall\n",
    "while x < nx - 1:\n",
    "    # update x\n",
    "    x = x + 1\n",
    "    # append (x,y) tuple to dog_path\n",
    "    dog_path.append((y,x))\n",
    "# then run back to the middle\n",
    "while x > x0+1:\n",
    "    # update x\n",
    "    x = x - 1\n",
    "    # append (x,y) tuple to dog_path\n",
    "    dog_path.append((y,x))\n",
    "    \n",
    "print(dog_path)"
   ]
  },
  {
   "cell_type": "markdown",
   "metadata": {},
   "source": [
    "Remember the dog can't move more than one square per loop, and since the dog will be running this loop over and over again (until the sheep are in the pen), we need to check the endpoints as well.  **Run this function below to see if your path is a good one:**"
   ]
  },
  {
   "cell_type": "code",
   "execution_count": 33,
   "metadata": {},
   "outputs": [],
   "source": [
    "def pathcheck(path):\n",
    "    # checks to see if the dog moves more than one square per timestep\n",
    "    oldp = path[-1]\n",
    "    goodpath = True\n",
    "    for p in path:\n",
    "        dy = p[0]-oldp[0]\n",
    "        dx = p[1]-oldp[1]\n",
    "        if abs(dx) + abs(dy) > 1:\n",
    "            goodpath = False\n",
    "        oldp = p\n",
    "    return goodpath"
   ]
  },
  {
   "cell_type": "code",
   "execution_count": 34,
   "metadata": {},
   "outputs": [
    {
     "name": "stdout",
     "output_type": "stream",
     "text": [
      "True\n"
     ]
    }
   ],
   "source": [
    "print(pathcheck(dog_path))"
   ]
  },
  {
   "cell_type": "markdown",
   "metadata": {},
   "source": [
    "OK, now we'll make a `move_dog` function that uses this path:"
   ]
  },
  {
   "cell_type": "code",
   "execution_count": 35,
   "metadata": {},
   "outputs": [],
   "source": [
    "def move_dog(state,path,current_pos):\n",
    "    \n",
    "    # check if the next position is occupied\n",
    "    next_pos = current_pos + 1\n",
    "    if next_pos >= len(path):\n",
    "        next_pos = 0\n",
    "    next_y,next_x = path[next_pos]\n",
    "    \n",
    "    if state[next_y,next_x] == 0 or state[next_y,next_x] == 3:\n",
    "        # empty!  or the dog is already there. \n",
    "        # Either way, its ok to move the dog\n",
    "    \n",
    "        # find the dog\n",
    "        dog_loc = np.array(np.where(state==3))\n",
    "        dog_x = dog_loc[1][0]\n",
    "        dog_y = dog_loc[0][0]\n",
    "    \n",
    "        # delete dog from current position\n",
    "        state[dog_y,dog_x] = 0\n",
    "        \n",
    "        # add dog to next position\n",
    "        state[next_y,next_x] = 3\n",
    "        \n",
    "        # update current_pos\n",
    "        current_pos = next_pos\n",
    "    \n",
    "    return current_pos, state"
   ]
  },
  {
   "cell_type": "markdown",
   "metadata": {},
   "source": [
    "Now let's add this `move_dog` command to a new `evolve_system` function:"
   ]
  },
  {
   "cell_type": "code",
   "execution_count": 36,
   "metadata": {},
   "outputs": [],
   "source": [
    "def evolve_system_dog(state,pmove,fenceline,delta,dcut,path,current_pos):\n",
    "    state = evolve_system_bias_cutoff(state,pmove,fenceline,delta,dcut)  \n",
    "    current_pos, state = move_dog(state,path,current_pos)\n",
    "\n",
    "    return current_pos, state"
   ]
  },
  {
   "cell_type": "markdown",
   "metadata": {},
   "source": [
    "Let's test it out!"
   ]
  },
  {
   "cell_type": "code",
   "execution_count": 37,
   "metadata": {},
   "outputs": [
    {
     "data": {
      "image/png": "[encoded data removed]",
      "text/plain": [
       "<Figure size 576x576 with 1 Axes>"
      ]
     },
     "metadata": {},
     "output_type": "display_data"
    }
   ],
   "source": [
    "nsteps = 500\n",
    "plot_every = 10\n",
    "pmove = 0.5\n",
    "fenceline = 10\n",
    "delta = 0.25\n",
    "dcut = 15\n",
    "path = dog_path\n",
    "dog_pos = 0\n",
    "\n",
    "state = copy(initial_state)\n",
    "\n",
    "fig = plt.figure(figsize=(8,8))\n",
    "for i in range(nsteps): \n",
    "    dog_pos, state = evolve_system_dog(state,pmove,fenceline,delta,dcut,path,dog_pos)\n",
    "    if i % plot_every == 0:\n",
    "        plotstate(state,time=i)\n",
    "        time.sleep(0.01)         # Sleep for 0.01 s to slow down the animation\n",
    "        clear_output(wait=True) # Clear output for dynamic display\n",
    "        display(fig)            # Reset display\n",
    "        fig.clear()             # Prevent overlapping and layered plots\n",
    "\n",
    "plt.close()                 # Close dynamic display"
   ]
  },
  {
   "cell_type": "markdown",
   "metadata": {},
   "source": [
    "**Run this code for 5000 steps, with `plot_every` = 100, and for 20000 steps, with `plot_every` = 400**"
   ]
  },
  {
   "cell_type": "code",
   "execution_count": 38,
   "metadata": {},
   "outputs": [
    {
     "data": {
      "image/png": "[encoded data removed]",
      "text/plain": [
       "<Figure size 576x576 with 1 Axes>"
      ]
     },
     "metadata": {},
     "output_type": "display_data"
    }
   ],
   "source": [
    "nsteps = 5000\n",
    "plot_every = 100\n",
    "pmove = 0.5\n",
    "fenceline = 10\n",
    "delta = 0.25\n",
    "dcut = 15\n",
    "path = dog_path\n",
    "dog_pos = 0\n",
    "\n",
    "state = copy(initial_state)\n",
    "\n",
    "fig = plt.figure(figsize=(8,8))\n",
    "for i in range(nsteps): \n",
    "    dog_pos, state = evolve_system_dog(state,pmove,fenceline,delta,dcut,path,dog_pos)\n",
    "    if i % plot_every == 0:\n",
    "        plotstate(state,time=i)\n",
    "        time.sleep(0.01)         # Sleep for 0.01 s to slow down the animation\n",
    "        clear_output(wait=True) # Clear output for dynamic display\n",
    "        display(fig)            # Reset display\n",
    "        fig.clear()             # Prevent overlapping and layered plots\n",
    "\n",
    "plt.close()                 # Close dynamic display"
   ]
  },
  {
   "cell_type": "code",
   "execution_count": 122,
   "metadata": {},
   "outputs": [
    {
     "data": {
      "image/png": "[encoded data removed]",
      "text/plain": [
       "<Figure size 576x576 with 1 Axes>"
      ]
     },
     "metadata": {},
     "output_type": "display_data"
    }
   ],
   "source": [
    "nsteps = 5000 * 4\n",
    "plot_every = 100 * 4\n",
    "pmove = 0.5\n",
    "fenceline = 10\n",
    "delta = 0.25\n",
    "dcut = 15\n",
    "path = dog_path\n",
    "dog_pos = 0\n",
    "\n",
    "state = copy(initial_state)\n",
    "\n",
    "fig = plt.figure(figsize=(8,8))\n",
    "for i in range(nsteps): \n",
    "    dog_pos, state = evolve_system_dog(state,pmove,fenceline,delta,dcut,path,dog_pos)\n",
    "    if i % plot_every == 0:\n",
    "        plotstate(state,time=i)\n",
    "        time.sleep(0.01)         # Sleep for 0.01 s to slow down the animation\n",
    "        clear_output(wait=True) # Clear output for dynamic display\n",
    "        display(fig)            # Reset display\n",
    "        fig.clear()             # Prevent overlapping and layered plots\n",
    "\n",
    "plt.close()                 # Close dynamic display"
   ]
  },
  {
   "cell_type": "markdown",
   "metadata": {},
   "source": [
    "**What do you observe?**"
   ]
  },
  {
   "cell_type": "markdown",
   "metadata": {},
   "source": [
    "It takes a while but they all get under the fence eventually "
   ]
  },
  {
   "cell_type": "markdown",
   "metadata": {},
   "source": [
    "## Question 5: Test for success (6 points)\n",
    "\n",
    "OK our sheepdog is not very effective right now.  Let's quantify exactly how bad it is.  Write a function that will check and see how many sheep are out of the pen (return an integer):"
   ]
  },
  {
   "cell_type": "code",
   "execution_count": 124,
   "metadata": {},
   "outputs": [],
   "source": [
    "def sheep_still_out(state,fenceline):\n",
    "    # return the number of sheep that are above the fenceline\n",
    "    # in the current state\n",
    "    sheep_loc = np.array(np.where(state==2))\n",
    "    #print(sheep_loc)\n",
    "    \n",
    "    mask = sheep_loc[0,:] > fenceline\n",
    "    new_arr = sheep_loc[0][mask]\n",
    "    #print(new_arr)\n",
    "    return len(new_arr)"
   ]
  },
  {
   "cell_type": "code",
   "execution_count": 115,
   "metadata": {},
   "outputs": [
    {
     "name": "stdout",
     "output_type": "stream",
     "text": [
      "20\n"
     ]
    }
   ],
   "source": [
    "print(len(sheep_loc[0,:]))"
   ]
  },
  {
   "cell_type": "markdown",
   "metadata": {},
   "source": [
    "**Test this function to see how many are out of the pen in the initial and final states from above:**"
   ]
  },
  {
   "cell_type": "code",
   "execution_count": 125,
   "metadata": {},
   "outputs": [
    {
     "name": "stdout",
     "output_type": "stream",
     "text": [
      "Sheep out, initially: 15\n",
      "Sheep out, finally: 0\n"
     ]
    }
   ],
   "source": [
    "initial = sheep_still_out(initial_state,fenceline)\n",
    "final = sheep_still_out(state,fenceline)\n",
    "#print(state[10])\n",
    "#print(initial_state)\n",
    "print(\"Sheep out, initially: {0}\".format(initial))\n",
    "print(\"Sheep out, finally: {0}\".format(final))"
   ]
  },
  {
   "cell_type": "markdown",
   "metadata": {},
   "source": [
    "Now let's use this function in a `while` loop to see how long it will take:"
   ]
  },
  {
   "cell_type": "code",
   "execution_count": 126,
   "metadata": {},
   "outputs": [
    {
     "name": "stdout",
     "output_type": "stream",
     "text": [
      "At time = 1000 there are 13 sheep still out\n",
      "At time = 2000 there are 9 sheep still out\n",
      "At time = 3000 there are 7 sheep still out\n",
      "At time = 4000 there are 6 sheep still out\n",
      "At time = 5000 there are 5 sheep still out\n",
      "At time = 6000 there are 4 sheep still out\n",
      "At time = 7000 there are 4 sheep still out\n",
      "At time = 8000 there are 2 sheep still out\n",
      "At time = 9000 there are 1 sheep still out\n",
      "At time = 10000 there are 1 sheep still out\n",
      "At time = 11000 there are 1 sheep still out\n",
      "All sheep in the pen at time = 11902\n"
     ]
    }
   ],
   "source": [
    "pmove = 0.5\n",
    "fenceline = 10\n",
    "delta = 0.25\n",
    "dcut = 15\n",
    "path = dog_path\n",
    "dog_pos = 0\n",
    "report_every = 1000\n",
    "\n",
    "state = copy(initial_state)\n",
    "\n",
    "i = 0\n",
    "while (sheep_still_out(state,fenceline) > 0):\n",
    "    i += 1\n",
    "    dog_pos, state = evolve_system_dog(state,pmove,fenceline,delta,dcut,path,dog_pos)\n",
    "    if i % report_every == 0:\n",
    "        print(\"At time = {0} there are {1} sheep still out\".format(i,sheep_still_out(state,fenceline)))\n",
    "\n",
    "print(\"All sheep in the pen at time = {0}\".format(i))"
   ]
  },
  {
   "cell_type": "markdown",
   "metadata": {},
   "source": [
    "**Put the above code in a `for` loop, and run this simulation 10 times.  Save the times in a list called `times`.** "
   ]
  },
  {
   "cell_type": "code",
   "execution_count": 129,
   "metadata": {},
   "outputs": [
    {
     "name": "stdout",
     "output_type": "stream",
     "text": [
      "At time = 1000 there are 10 sheep still out\n",
      "At time = 2000 there are 6 sheep still out\n",
      "At time = 3000 there are 3 sheep still out\n",
      "At time = 4000 there are 2 sheep still out\n",
      "At time = 5000 there are 2 sheep still out\n",
      "All sheep in the pen at time = 5772\n",
      "At time = 1000 there are 10 sheep still out\n",
      "At time = 2000 there are 6 sheep still out\n",
      "At time = 3000 there are 4 sheep still out\n",
      "At time = 4000 there are 2 sheep still out\n",
      "At time = 5000 there are 1 sheep still out\n",
      "At time = 6000 there are 1 sheep still out\n",
      "All sheep in the pen at time = 6768\n",
      "At time = 1000 there are 12 sheep still out\n",
      "At time = 2000 there are 8 sheep still out\n",
      "At time = 3000 there are 6 sheep still out\n",
      "At time = 4000 there are 3 sheep still out\n",
      "At time = 5000 there are 1 sheep still out\n",
      "At time = 6000 there are 1 sheep still out\n",
      "At time = 7000 there are 1 sheep still out\n",
      "All sheep in the pen at time = 7302\n",
      "At time = 1000 there are 13 sheep still out\n",
      "At time = 2000 there are 8 sheep still out\n",
      "At time = 3000 there are 7 sheep still out\n",
      "At time = 4000 there are 6 sheep still out\n",
      "At time = 5000 there are 2 sheep still out\n",
      "At time = 6000 there are 2 sheep still out\n",
      "At time = 7000 there are 2 sheep still out\n",
      "At time = 8000 there are 2 sheep still out\n",
      "At time = 9000 there are 2 sheep still out\n",
      "At time = 10000 there are 2 sheep still out\n",
      "At time = 11000 there are 1 sheep still out\n",
      "At time = 12000 there are 1 sheep still out\n",
      "At time = 13000 there are 1 sheep still out\n",
      "All sheep in the pen at time = 13757\n",
      "At time = 1000 there are 12 sheep still out\n",
      "At time = 2000 there are 6 sheep still out\n",
      "At time = 3000 there are 3 sheep still out\n",
      "At time = 4000 there are 3 sheep still out\n",
      "At time = 5000 there are 2 sheep still out\n",
      "At time = 6000 there are 2 sheep still out\n",
      "At time = 7000 there are 2 sheep still out\n",
      "At time = 8000 there are 1 sheep still out\n",
      "At time = 9000 there are 1 sheep still out\n",
      "All sheep in the pen at time = 9416\n",
      "At time = 1000 there are 12 sheep still out\n",
      "At time = 2000 there are 6 sheep still out\n",
      "At time = 3000 there are 4 sheep still out\n",
      "At time = 4000 there are 3 sheep still out\n",
      "At time = 5000 there are 2 sheep still out\n",
      "At time = 6000 there are 2 sheep still out\n",
      "At time = 7000 there are 2 sheep still out\n",
      "At time = 8000 there are 1 sheep still out\n",
      "All sheep in the pen at time = 8727\n",
      "At time = 1000 there are 11 sheep still out\n",
      "At time = 2000 there are 6 sheep still out\n",
      "At time = 3000 there are 3 sheep still out\n",
      "At time = 4000 there are 2 sheep still out\n",
      "At time = 5000 there are 1 sheep still out\n",
      "At time = 6000 there are 1 sheep still out\n",
      "All sheep in the pen at time = 6017\n",
      "At time = 1000 there are 11 sheep still out\n",
      "At time = 2000 there are 8 sheep still out\n",
      "At time = 3000 there are 4 sheep still out\n",
      "At time = 4000 there are 4 sheep still out\n",
      "At time = 5000 there are 3 sheep still out\n",
      "At time = 6000 there are 1 sheep still out\n",
      "At time = 7000 there are 1 sheep still out\n",
      "At time = 8000 there are 1 sheep still out\n",
      "At time = 9000 there are 1 sheep still out\n",
      "At time = 10000 there are 1 sheep still out\n",
      "At time = 11000 there are 1 sheep still out\n",
      "At time = 12000 there are 1 sheep still out\n",
      "At time = 13000 there are 1 sheep still out\n",
      "All sheep in the pen at time = 13618\n",
      "At time = 1000 there are 13 sheep still out\n",
      "At time = 2000 there are 7 sheep still out\n",
      "At time = 3000 there are 4 sheep still out\n",
      "At time = 4000 there are 3 sheep still out\n",
      "At time = 5000 there are 3 sheep still out\n",
      "At time = 6000 there are 1 sheep still out\n",
      "At time = 7000 there are 1 sheep still out\n",
      "At time = 8000 there are 1 sheep still out\n",
      "At time = 9000 there are 1 sheep still out\n",
      "At time = 10000 there are 1 sheep still out\n",
      "All sheep in the pen at time = 10884\n",
      "At time = 1000 there are 11 sheep still out\n",
      "At time = 2000 there are 8 sheep still out\n",
      "At time = 3000 there are 5 sheep still out\n",
      "At time = 4000 there are 3 sheep still out\n",
      "At time = 5000 there are 1 sheep still out\n",
      "All sheep in the pen at time = 5329\n",
      "At time = 1000 there are 10 sheep still out\n",
      "At time = 2000 there are 7 sheep still out\n",
      "At time = 3000 there are 4 sheep still out\n",
      "At time = 4000 there are 3 sheep still out\n",
      "At time = 5000 there are 2 sheep still out\n",
      "At time = 6000 there are 1 sheep still out\n",
      "At time = 7000 there are 1 sheep still out\n",
      "At time = 8000 there are 1 sheep still out\n",
      "All sheep in the pen at time = 8451\n"
     ]
    }
   ],
   "source": [
    "pmove = 0.5\n",
    "fenceline = 10\n",
    "delta = 0.25\n",
    "dcut = 15\n",
    "path = dog_path\n",
    "dog_pos = 0\n",
    "report_every = 1000\n",
    "times = []\n",
    "for j in range(11):\n",
    "    state = copy(initial_state)\n",
    "\n",
    "    i = 0\n",
    "    while (sheep_still_out(state,fenceline) > 0):\n",
    "        i += 1\n",
    "        dog_pos, state = evolve_system_dog(state,pmove,fenceline,delta,dcut,path,dog_pos)\n",
    "        if i % report_every == 0:\n",
    "            print(\"At time = {0} there are {1} sheep still out\".format(i,sheep_still_out(state,fenceline)))\n",
    "\n",
    "    print(\"All sheep in the pen at time = {0}\".format(i))\n",
    "    times.append(i)"
   ]
  },
  {
   "cell_type": "markdown",
   "metadata": {},
   "source": [
    "**Run the cell below to get statistics of your sheepdog.**"
   ]
  },
  {
   "cell_type": "code",
   "execution_count": 130,
   "metadata": {},
   "outputs": [
    {
     "name": "stdout",
     "output_type": "stream",
     "text": [
      "It takes an average of 8731.0 +- 852.4005285996864 s for this sheepdog to work\n"
     ]
    }
   ],
   "source": [
    "from math import sqrt\n",
    "a = np.array(times)\n",
    "print(\"It takes an average of {0} +- {1} s for this sheepdog to work\".format(a.mean(),a.std()/sqrt(len(times))))"
   ]
  },
  {
   "cell_type": "markdown",
   "metadata": {},
   "source": [
    "**What quantity is being reported after the +- signs?**"
   ]
  },
  {
   "cell_type": "markdown",
   "metadata": {},
   "source": [
    "// The std deviation for the time"
   ]
  },
  {
   "cell_type": "markdown",
   "metadata": {},
   "source": [
    "## Question 6: Better dog path (4 points)\n",
    "\n",
    "Now that we have a well-defined measure of success, we can test out different `dog_path` lists to see which is better.  Let's try running in a rectangle, going down to y = 30, which is 20 above the fenceline."
   ]
  },
  {
   "cell_type": "code",
   "execution_count": 131,
   "metadata": {},
   "outputs": [
    {
     "name": "stdout",
     "output_type": "stream",
     "text": [
      "[(39, 20), (39, 19), (39, 18), (39, 17), (39, 16), (39, 15), (39, 14), (39, 13), (39, 12), (39, 11), (39, 10), (39, 9), (39, 8), (39, 7), (39, 6), (39, 5), (39, 4), (39, 3), (39, 2), (39, 1), (39, 0), (38, 0), (37, 0), (36, 0), (35, 0), (34, 0), (33, 0), (32, 0), (31, 0), (30, 0), (30, 1), (30, 2), (30, 3), (30, 4), (30, 5), (30, 6), (30, 7), (30, 8), (30, 9), (30, 10), (30, 11), (30, 12), (30, 13), (30, 14), (30, 15), (30, 16), (30, 17), (30, 18), (30, 19), (30, 20), (30, 21), (30, 22), (30, 23), (30, 24), (30, 25), (30, 26), (30, 27), (30, 28), (30, 29), (30, 30), (30, 31), (30, 32), (30, 33), (30, 34), (30, 35), (30, 36), (30, 37), (30, 38), (30, 39), (31, 39), (32, 39), (33, 39), (34, 39), (35, 39), (36, 39), (37, 39), (38, 39), (39, 39), (39, 38), (39, 37), (39, 36), (39, 35), (39, 34), (39, 33), (39, 32), (39, 31), (39, 30), (39, 29), (39, 28), (39, 27), (39, 26), (39, 25), (39, 24), (39, 23), (39, 22), (39, 21)]\n"
     ]
    }
   ],
   "source": [
    "y0,x0 = dog_start_pos\n",
    "dog_path2 = [(y0,x0)]\n",
    "x = x0\n",
    "y = y0\n",
    "\n",
    "\n",
    "\n",
    "# first run to the left wall\n",
    "while x > 0:\n",
    "    # update x\n",
    "    x = x-1\n",
    "    # append (x,y) tuple to dog_path\n",
    "    dog_path2.append((y,x))\n",
    "    \n",
    "while y > 30:\n",
    "    y -= 1\n",
    "    dog_path2.append((y,x))\n",
    "# then run to the right wall\n",
    "while x < nx - 1:\n",
    "    # update x\n",
    "    x = x + 1\n",
    "    # append (x,y) tuple to dog_path\n",
    "    dog_path2.append((y,x))\n",
    "    \n",
    "while y < ny - 1:\n",
    "    y += 1\n",
    "    dog_path2.append((y,x))\n",
    "# then run back to the middle\n",
    "while x > x0+1:\n",
    "    # update x\n",
    "    x = x - 1\n",
    "    # append (x,y) tuple to dog_path\n",
    "    dog_path2.append((y,x))\n",
    "    \n",
    "print(dog_path)\n",
    "\n"
   ]
  },
  {
   "cell_type": "markdown",
   "metadata": {},
   "source": [
    "First we'll check if this is a good path:"
   ]
  },
  {
   "cell_type": "code",
   "execution_count": 132,
   "metadata": {},
   "outputs": [
    {
     "data": {
      "text/plain": [
       "True"
      ]
     },
     "execution_count": 132,
     "metadata": {},
     "output_type": "execute_result"
    }
   ],
   "source": [
    "pathcheck(dog_path2)"
   ]
  },
  {
   "cell_type": "markdown",
   "metadata": {},
   "source": [
    "**Run a single 1000-step simulation with this dog path while visualizing every 10 steps**"
   ]
  },
  {
   "cell_type": "code",
   "execution_count": 133,
   "metadata": {},
   "outputs": [
    {
     "data": {
      "image/png": "[encoded data removed]",
      "text/plain": [
       "<Figure size 576x576 with 1 Axes>"
      ]
     },
     "metadata": {},
     "output_type": "display_data"
    }
   ],
   "source": [
    "nsteps = 1000\n",
    "plot_every = 10\n",
    "pmove = 0.5\n",
    "fenceline = 10\n",
    "delta = 0.25\n",
    "dcut = 15\n",
    "path = dog_path2\n",
    "dog_pos = 0\n",
    "\n",
    "state = copy(initial_state)\n",
    "\n",
    "fig = plt.figure(figsize=(8,8))\n",
    "for i in range(nsteps): \n",
    "    dog_pos, state = evolve_system_dog(state,pmove,fenceline,delta,dcut,path,dog_pos)\n",
    "    if i % plot_every == 0:\n",
    "        plotstate(state,time=i)\n",
    "        time.sleep(0.01)         # Sleep for 0.01 s to slow down the animation\n",
    "        clear_output(wait=True) # Clear output for dynamic display\n",
    "        display(fig)            # Reset display\n",
    "        fig.clear()             # Prevent overlapping and layered plots\n",
    "\n",
    "plt.close()                 # Close dynamic display"
   ]
  },
  {
   "cell_type": "markdown",
   "metadata": {},
   "source": [
    "**Now, use `dog_path2` to run 10 simulations, and report the results**"
   ]
  },
  {
   "cell_type": "code",
   "execution_count": 134,
   "metadata": {},
   "outputs": [
    {
     "name": "stdout",
     "output_type": "stream",
     "text": [
      "At time = 1000 there are 12 sheep still out\n",
      "At time = 2000 there are 9 sheep still out\n",
      "At time = 3000 there are 8 sheep still out\n",
      "At time = 4000 there are 4 sheep still out\n",
      "At time = 5000 there are 3 sheep still out\n",
      "At time = 6000 there are 2 sheep still out\n",
      "At time = 7000 there are 1 sheep still out\n",
      "At time = 8000 there are 1 sheep still out\n",
      "All sheep in the pen at time = 8874\n",
      "At time = 1000 there are 13 sheep still out\n",
      "At time = 2000 there are 10 sheep still out\n",
      "At time = 3000 there are 4 sheep still out\n",
      "At time = 4000 there are 3 sheep still out\n",
      "At time = 5000 there are 2 sheep still out\n",
      "At time = 6000 there are 2 sheep still out\n",
      "At time = 7000 there are 2 sheep still out\n",
      "At time = 8000 there are 2 sheep still out\n",
      "All sheep in the pen at time = 8833\n",
      "At time = 1000 there are 10 sheep still out\n",
      "At time = 2000 there are 8 sheep still out\n",
      "At time = 3000 there are 6 sheep still out\n",
      "At time = 4000 there are 4 sheep still out\n",
      "At time = 5000 there are 2 sheep still out\n",
      "At time = 6000 there are 2 sheep still out\n",
      "At time = 7000 there are 2 sheep still out\n",
      "At time = 8000 there are 1 sheep still out\n",
      "At time = 9000 there are 1 sheep still out\n",
      "At time = 10000 there are 1 sheep still out\n",
      "At time = 11000 there are 1 sheep still out\n",
      "At time = 12000 there are 1 sheep still out\n",
      "At time = 13000 there are 1 sheep still out\n",
      "At time = 14000 there are 1 sheep still out\n",
      "At time = 15000 there are 1 sheep still out\n",
      "At time = 16000 there are 1 sheep still out\n",
      "At time = 17000 there are 1 sheep still out\n",
      "At time = 18000 there are 1 sheep still out\n",
      "At time = 19000 there are 1 sheep still out\n",
      "All sheep in the pen at time = 19774\n",
      "At time = 1000 there are 13 sheep still out\n",
      "At time = 2000 there are 9 sheep still out\n",
      "At time = 3000 there are 6 sheep still out\n",
      "At time = 4000 there are 4 sheep still out\n",
      "At time = 5000 there are 4 sheep still out\n",
      "At time = 6000 there are 4 sheep still out\n",
      "At time = 7000 there are 1 sheep still out\n",
      "At time = 8000 there are 1 sheep still out\n",
      "At time = 9000 there are 1 sheep still out\n",
      "At time = 10000 there are 1 sheep still out\n",
      "At time = 11000 there are 1 sheep still out\n",
      "All sheep in the pen at time = 11753\n",
      "At time = 1000 there are 13 sheep still out\n",
      "At time = 2000 there are 8 sheep still out\n",
      "At time = 3000 there are 6 sheep still out\n",
      "At time = 4000 there are 5 sheep still out\n",
      "At time = 5000 there are 4 sheep still out\n",
      "At time = 6000 there are 3 sheep still out\n",
      "At time = 7000 there are 3 sheep still out\n",
      "At time = 8000 there are 2 sheep still out\n",
      "At time = 9000 there are 2 sheep still out\n",
      "At time = 10000 there are 1 sheep still out\n",
      "At time = 11000 there are 1 sheep still out\n",
      "All sheep in the pen at time = 11174\n",
      "At time = 1000 there are 10 sheep still out\n",
      "At time = 2000 there are 5 sheep still out\n",
      "At time = 3000 there are 1 sheep still out\n",
      "At time = 4000 there are 1 sheep still out\n",
      "At time = 5000 there are 1 sheep still out\n",
      "At time = 6000 there are 1 sheep still out\n",
      "At time = 7000 there are 1 sheep still out\n",
      "At time = 8000 there are 1 sheep still out\n",
      "At time = 9000 there are 1 sheep still out\n",
      "At time = 10000 there are 1 sheep still out\n",
      "All sheep in the pen at time = 10237\n",
      "At time = 1000 there are 9 sheep still out\n",
      "At time = 2000 there are 5 sheep still out\n",
      "At time = 3000 there are 5 sheep still out\n",
      "At time = 4000 there are 2 sheep still out\n",
      "At time = 5000 there are 1 sheep still out\n",
      "At time = 6000 there are 1 sheep still out\n",
      "All sheep in the pen at time = 6628\n",
      "At time = 1000 there are 12 sheep still out\n",
      "At time = 2000 there are 10 sheep still out\n",
      "At time = 3000 there are 6 sheep still out\n",
      "At time = 4000 there are 5 sheep still out\n",
      "At time = 5000 there are 4 sheep still out\n",
      "At time = 6000 there are 1 sheep still out\n",
      "All sheep in the pen at time = 6684\n",
      "At time = 1000 there are 11 sheep still out\n",
      "At time = 2000 there are 6 sheep still out\n",
      "At time = 3000 there are 4 sheep still out\n",
      "At time = 4000 there are 3 sheep still out\n",
      "At time = 5000 there are 2 sheep still out\n",
      "All sheep in the pen at time = 5929\n",
      "At time = 1000 there are 9 sheep still out\n",
      "At time = 2000 there are 5 sheep still out\n",
      "At time = 3000 there are 4 sheep still out\n",
      "At time = 4000 there are 3 sheep still out\n",
      "At time = 5000 there are 2 sheep still out\n",
      "At time = 6000 there are 2 sheep still out\n",
      "At time = 7000 there are 1 sheep still out\n",
      "All sheep in the pen at time = 7421\n",
      "At time = 1000 there are 13 sheep still out\n",
      "At time = 2000 there are 6 sheep still out\n",
      "At time = 3000 there are 4 sheep still out\n",
      "At time = 4000 there are 2 sheep still out\n",
      "At time = 5000 there are 1 sheep still out\n",
      "At time = 6000 there are 1 sheep still out\n",
      "All sheep in the pen at time = 6668\n",
      "It takes an average of 9452.272727272728 +- 1135.6760981238167 s for this sheepdog to work\n"
     ]
    }
   ],
   "source": [
    "pmove = 0.5\n",
    "fenceline = 10\n",
    "delta = 0.25\n",
    "dcut = 15\n",
    "path = dog_path2\n",
    "dog_pos = 0\n",
    "report_every = 1000\n",
    "times = []\n",
    "for j in range(11):\n",
    "    state = copy(initial_state)\n",
    "\n",
    "    i = 0\n",
    "    while (sheep_still_out(state,fenceline) > 0):\n",
    "        i += 1\n",
    "        dog_pos, state = evolve_system_dog(state,pmove,fenceline,delta,dcut,path,dog_pos)\n",
    "        if i % report_every == 0:\n",
    "            print(\"At time = {0} there are {1} sheep still out\".format(i,sheep_still_out(state,fenceline)))\n",
    "\n",
    "    print(\"All sheep in the pen at time = {0}\".format(i))\n",
    "    times.append(i)\n",
    "    \n",
    "a = np.array(times)\n",
    "print(\"It takes an average of {0} +- {1} s for this sheepdog to work\".format(a.mean(),a.std()/sqrt(len(times))))"
   ]
  },
  {
   "cell_type": "code",
   "execution_count": 135,
   "metadata": {},
   "outputs": [
    {
     "name": "stdout",
     "output_type": "stream",
     "text": [
      "It takes an average of 9452.272727272728 +- 1135.6760981238167 s for this sheepdog to work\n"
     ]
    }
   ],
   "source": [
    "a = np.array(times)\n",
    "print(\"It takes an average of {0} +- {1} s for this sheepdog to work\".format(a.mean(),a.std()/sqrt(len(times))))"
   ]
  },
  {
   "cell_type": "markdown",
   "metadata": {},
   "source": [
    "**Which worked better, and why?**"
   ]
  },
  {
   "cell_type": "markdown",
   "metadata": {},
   "source": [
    "The first path worked better because sheep kept getting trapped up and didn't know which way to go. The first way made it so they could only go down if they got too far up. "
   ]
  },
  {
   "cell_type": "markdown",
   "metadata": {},
   "source": [
    "---\n",
    "## Question 7: Your turn (5 points)\n",
    "\n",
    "Make a new dog path of your choosing, test it using `pathcheck`, and then run it 10 times.  Compare the average time and standard error measurements with the two paths above."
   ]
  },
  {
   "cell_type": "code",
   "execution_count": 136,
   "metadata": {},
   "outputs": [
    {
     "name": "stdout",
     "output_type": "stream",
     "text": [
      "[(39, 20), (39, 19), (39, 18), (39, 17), (39, 16), (39, 15), (39, 14), (39, 13), (39, 12), (39, 11), (39, 10), (39, 9), (39, 8), (39, 7), (39, 6), (39, 5), (39, 4), (39, 3), (39, 2), (39, 1), (39, 0), (38, 0), (37, 0), (36, 0), (35, 0), (34, 0), (33, 0), (32, 0), (31, 0), (30, 0), (30, 1), (30, 2), (30, 3), (30, 4), (30, 5), (30, 6), (30, 7), (30, 8), (30, 9), (30, 10), (30, 11), (30, 12), (30, 13), (30, 14), (30, 15), (30, 16), (30, 17), (30, 18), (30, 19), (30, 20), (30, 21), (30, 22), (30, 23), (30, 24), (30, 25), (30, 26), (30, 27), (30, 28), (30, 29), (30, 30), (30, 31), (30, 32), (30, 33), (30, 34), (30, 35), (30, 36), (30, 37), (30, 38), (30, 39), (31, 39), (32, 39), (33, 39), (34, 39), (35, 39), (36, 39), (37, 39), (38, 39), (39, 39), (39, 38), (39, 37), (39, 36), (39, 35), (39, 34), (39, 33), (39, 32), (39, 31), (39, 30), (39, 29), (39, 28), (39, 27), (39, 26), (39, 25), (39, 24), (39, 23), (39, 22), (39, 21)]\n"
     ]
    }
   ],
   "source": [
    "y0,x0 = dog_start_pos\n",
    "dog_path3 = [(y0,x0)]\n",
    "x = x0\n",
    "y = y0\n",
    "\n",
    "\n",
    "\n",
    "# first run to the left wall but not quite\n",
    "while x > 3:\n",
    "    # update x\n",
    "    x = x-1\n",
    "    # append (x,y) tuple to dog_path\n",
    "    dog_path3.append((y,x))\n",
    "    \n",
    "# then run to the right wall but not quite\n",
    "while x < nx - 4:\n",
    "    # update x\n",
    "    x = x + 1\n",
    "    # append (x,y) tuple to dog_path\n",
    "    dog_path3.append((y,x))\n",
    "    \n",
    "# then run back to the middle\n",
    "while x > x0+1:\n",
    "    # update x\n",
    "    x = x - 1\n",
    "    # append (x,y) tuple to dog_path\n",
    "    dog_path3.append((y,x))\n",
    "    \n",
    "print(dog_path)\n"
   ]
  },
  {
   "cell_type": "code",
   "execution_count": 137,
   "metadata": {},
   "outputs": [
    {
     "data": {
      "text/plain": [
       "True"
      ]
     },
     "execution_count": 137,
     "metadata": {},
     "output_type": "execute_result"
    }
   ],
   "source": [
    "pathcheck(dog_path3)"
   ]
  },
  {
   "cell_type": "code",
   "execution_count": 138,
   "metadata": {},
   "outputs": [
    {
     "data": {
      "image/png": "[encoded data removed]",
      "text/plain": [
       "<Figure size 576x576 with 1 Axes>"
      ]
     },
     "metadata": {},
     "output_type": "display_data"
    }
   ],
   "source": [
    "nsteps = 1000\n",
    "plot_every = 10\n",
    "pmove = 0.5\n",
    "fenceline = 10\n",
    "delta = 0.25\n",
    "dcut = 15\n",
    "path = dog_path3\n",
    "dog_pos = 0\n",
    "\n",
    "state = copy(initial_state)\n",
    "\n",
    "fig = plt.figure(figsize=(8,8))\n",
    "for i in range(nsteps): \n",
    "    dog_pos, state = evolve_system_dog(state,pmove,fenceline,delta,dcut,path,dog_pos)\n",
    "    if i % plot_every == 0:\n",
    "        plotstate(state,time=i)\n",
    "        time.sleep(0.01)         # Sleep for 0.01 s to slow down the animation\n",
    "        clear_output(wait=True) # Clear output for dynamic display\n",
    "        display(fig)            # Reset display\n",
    "        fig.clear()             # Prevent overlapping and layered plots\n",
    "\n",
    "plt.close()       "
   ]
  },
  {
   "cell_type": "code",
   "execution_count": 139,
   "metadata": {},
   "outputs": [
    {
     "name": "stdout",
     "output_type": "stream",
     "text": [
      "At time = 1000 there are 13 sheep still out\n",
      "At time = 2000 there are 9 sheep still out\n",
      "At time = 3000 there are 9 sheep still out\n",
      "At time = 4000 there are 7 sheep still out\n",
      "At time = 5000 there are 6 sheep still out\n",
      "At time = 6000 there are 5 sheep still out\n",
      "At time = 7000 there are 4 sheep still out\n",
      "At time = 8000 there are 4 sheep still out\n",
      "At time = 9000 there are 3 sheep still out\n",
      "At time = 10000 there are 2 sheep still out\n",
      "At time = 11000 there are 1 sheep still out\n",
      "At time = 12000 there are 1 sheep still out\n",
      "At time = 13000 there are 1 sheep still out\n",
      "At time = 14000 there are 1 sheep still out\n",
      "At time = 15000 there are 1 sheep still out\n",
      "At time = 16000 there are 1 sheep still out\n",
      "All sheep in the pen at time = 16768\n",
      "At time = 1000 there are 12 sheep still out\n",
      "At time = 2000 there are 10 sheep still out\n",
      "At time = 3000 there are 7 sheep still out\n",
      "At time = 4000 there are 6 sheep still out\n",
      "At time = 5000 there are 3 sheep still out\n",
      "At time = 6000 there are 3 sheep still out\n",
      "At time = 7000 there are 2 sheep still out\n",
      "At time = 8000 there are 2 sheep still out\n",
      "At time = 9000 there are 1 sheep still out\n",
      "At time = 10000 there are 1 sheep still out\n",
      "At time = 11000 there are 1 sheep still out\n",
      "All sheep in the pen at time = 11818\n",
      "At time = 1000 there are 12 sheep still out\n",
      "At time = 2000 there are 9 sheep still out\n",
      "At time = 3000 there are 7 sheep still out\n",
      "At time = 4000 there are 7 sheep still out\n",
      "At time = 5000 there are 7 sheep still out\n",
      "At time = 6000 there are 5 sheep still out\n",
      "At time = 7000 there are 5 sheep still out\n",
      "At time = 8000 there are 5 sheep still out\n",
      "At time = 9000 there are 4 sheep still out\n",
      "At time = 10000 there are 4 sheep still out\n",
      "At time = 11000 there are 3 sheep still out\n",
      "At time = 12000 there are 1 sheep still out\n",
      "All sheep in the pen at time = 12375\n",
      "At time = 1000 there are 14 sheep still out\n",
      "At time = 2000 there are 13 sheep still out\n",
      "At time = 3000 there are 12 sheep still out\n",
      "At time = 4000 there are 9 sheep still out\n",
      "At time = 5000 there are 8 sheep still out\n",
      "At time = 6000 there are 5 sheep still out\n",
      "At time = 7000 there are 3 sheep still out\n",
      "At time = 8000 there are 2 sheep still out\n",
      "At time = 9000 there are 1 sheep still out\n",
      "At time = 10000 there are 1 sheep still out\n",
      "At time = 11000 there are 1 sheep still out\n",
      "At time = 12000 there are 1 sheep still out\n",
      "At time = 13000 there are 1 sheep still out\n",
      "All sheep in the pen at time = 13176\n",
      "At time = 1000 there are 12 sheep still out\n",
      "At time = 2000 there are 12 sheep still out\n",
      "At time = 3000 there are 9 sheep still out\n",
      "At time = 4000 there are 8 sheep still out\n",
      "At time = 5000 there are 6 sheep still out\n",
      "At time = 6000 there are 4 sheep still out\n",
      "At time = 7000 there are 4 sheep still out\n",
      "At time = 8000 there are 4 sheep still out\n",
      "At time = 9000 there are 3 sheep still out\n",
      "At time = 10000 there are 2 sheep still out\n",
      "At time = 11000 there are 2 sheep still out\n",
      "At time = 12000 there are 2 sheep still out\n",
      "At time = 13000 there are 2 sheep still out\n",
      "At time = 14000 there are 2 sheep still out\n",
      "At time = 15000 there are 2 sheep still out\n",
      "At time = 16000 there are 1 sheep still out\n",
      "At time = 17000 there are 1 sheep still out\n",
      "At time = 18000 there are 1 sheep still out\n",
      "At time = 19000 there are 1 sheep still out\n",
      "At time = 20000 there are 1 sheep still out\n",
      "At time = 21000 there are 1 sheep still out\n",
      "All sheep in the pen at time = 21112\n",
      "At time = 1000 there are 12 sheep still out\n",
      "At time = 2000 there are 10 sheep still out\n",
      "At time = 3000 there are 7 sheep still out\n",
      "At time = 4000 there are 6 sheep still out\n",
      "At time = 5000 there are 5 sheep still out\n",
      "At time = 6000 there are 4 sheep still out\n",
      "At time = 7000 there are 4 sheep still out\n",
      "At time = 8000 there are 3 sheep still out\n",
      "At time = 9000 there are 3 sheep still out\n",
      "At time = 10000 there are 3 sheep still out\n",
      "At time = 11000 there are 3 sheep still out\n",
      "At time = 12000 there are 3 sheep still out\n",
      "At time = 13000 there are 2 sheep still out\n",
      "At time = 14000 there are 2 sheep still out\n",
      "At time = 15000 there are 2 sheep still out\n",
      "At time = 16000 there are 1 sheep still out\n",
      "At time = 17000 there are 1 sheep still out\n",
      "At time = 18000 there are 1 sheep still out\n",
      "At time = 19000 there are 1 sheep still out\n",
      "At time = 20000 there are 1 sheep still out\n",
      "At time = 21000 there are 1 sheep still out\n",
      "All sheep in the pen at time = 21828\n",
      "At time = 1000 there are 14 sheep still out\n",
      "At time = 2000 there are 13 sheep still out\n",
      "At time = 3000 there are 12 sheep still out\n",
      "At time = 4000 there are 9 sheep still out\n",
      "At time = 5000 there are 7 sheep still out\n",
      "At time = 6000 there are 5 sheep still out\n",
      "At time = 7000 there are 5 sheep still out\n",
      "At time = 8000 there are 5 sheep still out\n",
      "At time = 9000 there are 5 sheep still out\n",
      "At time = 10000 there are 5 sheep still out\n",
      "At time = 11000 there are 4 sheep still out\n",
      "At time = 12000 there are 2 sheep still out\n",
      "At time = 13000 there are 1 sheep still out\n",
      "All sheep in the pen at time = 13452\n",
      "At time = 1000 there are 11 sheep still out\n",
      "At time = 2000 there are 6 sheep still out\n",
      "At time = 3000 there are 4 sheep still out\n",
      "At time = 4000 there are 2 sheep still out\n",
      "At time = 5000 there are 1 sheep still out\n",
      "All sheep in the pen at time = 5576\n",
      "At time = 1000 there are 12 sheep still out\n",
      "At time = 2000 there are 10 sheep still out\n",
      "At time = 3000 there are 7 sheep still out\n",
      "At time = 4000 there are 5 sheep still out\n",
      "At time = 5000 there are 4 sheep still out\n",
      "At time = 6000 there are 4 sheep still out\n",
      "At time = 7000 there are 2 sheep still out\n",
      "At time = 8000 there are 1 sheep still out\n",
      "At time = 9000 there are 1 sheep still out\n",
      "At time = 10000 there are 1 sheep still out\n",
      "At time = 11000 there are 1 sheep still out\n",
      "At time = 12000 there are 1 sheep still out\n",
      "At time = 13000 there are 1 sheep still out\n",
      "At time = 14000 there are 1 sheep still out\n",
      "At time = 15000 there are 1 sheep still out\n",
      "At time = 16000 there are 1 sheep still out\n",
      "At time = 17000 there are 1 sheep still out\n",
      "At time = 18000 there are 1 sheep still out\n",
      "At time = 19000 there are 1 sheep still out\n",
      "At time = 20000 there are 1 sheep still out\n",
      "All sheep in the pen at time = 20530\n",
      "At time = 1000 there are 13 sheep still out\n",
      "At time = 2000 there are 6 sheep still out\n",
      "At time = 3000 there are 4 sheep still out\n",
      "At time = 4000 there are 3 sheep still out\n",
      "At time = 5000 there are 3 sheep still out\n",
      "At time = 6000 there are 1 sheep still out\n",
      "At time = 7000 there are 1 sheep still out\n",
      "At time = 8000 there are 1 sheep still out\n",
      "At time = 9000 there are 1 sheep still out\n",
      "At time = 10000 there are 1 sheep still out\n",
      "At time = 11000 there are 1 sheep still out\n",
      "At time = 12000 there are 1 sheep still out\n",
      "At time = 13000 there are 1 sheep still out\n",
      "At time = 14000 there are 1 sheep still out\n",
      "At time = 15000 there are 1 sheep still out\n",
      "All sheep in the pen at time = 15129\n",
      "At time = 1000 there are 13 sheep still out\n",
      "At time = 2000 there are 9 sheep still out\n",
      "At time = 3000 there are 8 sheep still out\n",
      "At time = 4000 there are 7 sheep still out\n",
      "At time = 5000 there are 5 sheep still out\n",
      "At time = 6000 there are 5 sheep still out\n",
      "At time = 7000 there are 3 sheep still out\n",
      "At time = 8000 there are 1 sheep still out\n",
      "All sheep in the pen at time = 8495\n",
      "It takes an average of 14569.0 +- 1492.4713322827845 s for this sheepdog to work\n"
     ]
    }
   ],
   "source": [
    "pmove = 0.5\n",
    "fenceline = 10\n",
    "delta = 0.25\n",
    "dcut = 15\n",
    "path = dog_path3\n",
    "dog_pos = 0\n",
    "report_every = 1000\n",
    "times = []\n",
    "for j in range(11):\n",
    "    state = copy(initial_state)\n",
    "\n",
    "    i = 0\n",
    "    while (sheep_still_out(state,fenceline) > 0):\n",
    "        i += 1\n",
    "        dog_pos, state = evolve_system_dog(state,pmove,fenceline,delta,dcut,path,dog_pos)\n",
    "        if i % report_every == 0:\n",
    "            print(\"At time = {0} there are {1} sheep still out\".format(i,sheep_still_out(state,fenceline)))\n",
    "\n",
    "    print(\"All sheep in the pen at time = {0}\".format(i))\n",
    "    times.append(i)\n",
    "    \n",
    "a = np.array(times)\n",
    "print(\"It takes an average of {0} +- {1} s for this sheepdog to work\".format(a.mean(),a.std()/sqrt(len(times))))"
   ]
  },
  {
   "cell_type": "code",
   "execution_count": 140,
   "metadata": {},
   "outputs": [
    {
     "name": "stdout",
     "output_type": "stream",
     "text": [
      "It takes an average of 14569.0 +- 1492.4713322827845 s for this sheepdog to work\n"
     ]
    }
   ],
   "source": [
    "a = np.array(times)\n",
    "print(\"It takes an average of {0} +- {1} s for this sheepdog to work\".format(a.mean(),a.std()/sqrt(len(times))))"
   ]
  },
  {
   "cell_type": "markdown",
   "metadata": {},
   "source": [
    "**Do you have any tips for an even better sheepdog herding strategy?**"
   ]
  },
  {
   "cell_type": "markdown",
   "metadata": {},
   "source": [
    "// you would have to check that no sheeps are above the dog, if there aren't go down one, and then do that a few times until they are boxed in I think seems like the best strategy. "
   ]
  },
  {
   "cell_type": "markdown",
   "metadata": {},
   "source": [
    "**Would this require any changes to the code above?**"
   ]
  },
  {
   "cell_type": "markdown",
   "metadata": {},
   "source": [
    "Yeah it would require changes to the dog movement instead of just a constant movement, it would have to look at all the sheep location. "
   ]
  },
  {
   "cell_type": "markdown",
   "metadata": {},
   "source": [
    "---\n",
    "## Assignment Wrap-up\n",
    "\n",
    "Fill out the following Google form before you submit your assignment. "
   ]
  },
  {
   "cell_type": "code",
   "execution_count": 141,
   "metadata": {},
   "outputs": [
    {
     "data": {
      "text/html": [
       "\n",
       "<iframe \n",
       "\tsrc=\"https://goo.gl/forms/3LOVMSs5AUm6L3s52\" \n",
       "\twidth=\"800px\" \n",
       "\theight=\"600px\" \n",
       "\tframeborder=\"0\" \n",
       "\tmarginheight=\"0\" \n",
       "\tmarginwidth=\"0\">\n",
       "\tLoading...\n",
       "</iframe>\n"
      ],
      "text/plain": [
       "<IPython.core.display.HTML object>"
      ]
     },
     "execution_count": 141,
     "metadata": {},
     "output_type": "execute_result"
    }
   ],
   "source": [
    "from IPython.display import HTML\n",
    "HTML(\n",
    "\"\"\"\n",
    "<iframe \n",
    "\tsrc=\"https://goo.gl/forms/3LOVMSs5AUm6L3s52\" \n",
    "\twidth=\"800px\" \n",
    "\theight=\"600px\" \n",
    "\tframeborder=\"0\" \n",
    "\tmarginheight=\"0\" \n",
    "\tmarginwidth=\"0\">\n",
    "\tLoading...\n",
    "</iframe>\n",
    "\"\"\"\n",
    ")"
   ]
  },
  {
   "cell_type": "markdown",
   "metadata": {},
   "source": [
    "---\n",
    "\n",
    "### Congratulations, you're done!\n",
    "\n",
    "Submit this assignment by uploading it to the course Desire2Learn web page.  Go to the \"Homework Assignments\" section, find the submission folder link for Homework #3, and upload it there. **Make sure to upload the pictures of your compartmental models as well!**"
   ]
  },
  {
   "cell_type": "markdown",
   "metadata": {},
   "source": [
    "&#169; Copyright 2018,  Michigan State University Board of Trustees"
   ]
  }
 ],
 "metadata": {
  "kernelspec": {
   "display_name": "Python 3",
   "language": "python",
   "name": "python3"
  },
  "language_info": {
   "codemirror_mode": {
    "name": "ipython",
    "version": 3
   },
   "file_extension": ".py",
   "mimetype": "text/x-python",
   "name": "python",
   "nbconvert_exporter": "python",
   "pygments_lexer": "ipython3",
   "version": "3.6.6"
  }
 },
 "nbformat": 4,
 "nbformat_minor": 2
}
