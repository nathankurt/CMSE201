{
 "cells": [
  {
   "cell_type": "markdown",
   "metadata": {},
   "source": [
    "## <p style=\"text-align: right;\"> &#9989; Nathan Kurt</p>"
   ]
  },
  {
   "cell_type": "markdown",
   "metadata": {},
   "source": [
    "# Day 25 Pre-class assignment: The global carbon cycle\n",
    "\n",
    "## Goals for today's pre-class assignment\n",
    "\n",
    "* Read about the global carbon cycle\n",
    "* Think and write about how to turn the information you've read into a [compartmental model](https://en.wikipedia.org/wiki/Multi-compartment_model)!\n",
    "\n",
    "## Assignment instructions\n",
    "\n",
    "**This assignment is due by 11:59 p.m. the day before class,** and should be uploaded into the \"Pre-class assignments\" dropbox folder for <font color='red'>Day 25</font>.  If you run into issues with your code, make sure to use Slack to help each other out and receive some assistance from the instructors. Submission instructions can be found at the end of the notebook."
   ]
  },
  {
   "cell_type": "markdown",
   "metadata": {},
   "source": [
    "---\n",
    "## The global carbon cycle\n",
    "\n",
    "Read the following web pages, which you will use to answer the questions below. Then answer the questions.\n",
    "\n",
    "### Readings\n",
    "\n",
    "* Read carefully:  [Wikipedia article on the carbon cycle](https://en.wikipedia.org/wiki/Carbon_cycle)\n",
    "* Read carefully: [UNH web page on carbon pools and fluxes](http://globecarboncycle.unh.edu/CarbonPoolsFluxes.shtml)\n",
    "* Read to get main points:  [Wikipedia page on carbon sequestration](https://en.wikipedia.org/wiki/Carbon_sequestration)\n",
    "* Useful backround information: [EPA global greenhouse gas emission data](https://www.epa.gov/ghgemissions/global-greenhouse-gas-emissions-data)\n",
    "\n",
    "### Questions\n",
    "\n",
    "**Question 1.**  What is the global carbon cycle?"
   ]
  },
  {
   "cell_type": "markdown",
   "metadata": {},
   "source": [
    "The cycle where Carbon is exchanged through all the layers that make up earth"
   ]
  },
  {
   "cell_type": "markdown",
   "metadata": {},
   "source": [
    "**Question 2.**  What are the main reservoirs of carbon on Earth, and how much carbon is in each of them?"
   ]
  },
  {
   "cell_type": "markdown",
   "metadata": {},
   "source": [
    "* The atmosphere 750 PgC\n",
    "* The terrestrial biosphere 560 PgC\n",
    "* The ocean, including dissolved inorganic carbon and living and non-living marine biota 38,000 PgC\n",
    "* The sediments, including fossil fuels, freshwater systems, and non-living organic material.1500 PgC\n",
    "* The Earth's interior (mantle and crust). These carbon stores interact with the other components through geological processes. 100,000,000 PgC\n",
    "   "
   ]
  },
  {
   "cell_type": "markdown",
   "metadata": {},
   "source": [
    "**Question 3.**  What are the natural and human-caused fluxes of carbon?  In particular, how much carbon flows out of and into each reservoir of carbon, where does it go to (or come from)? Make sure you understand the units of the fluxes as these flux values will be important for the in-class assignment."
   ]
  },
  {
   "cell_type": "markdown",
   "metadata": {},
   "source": [
    "**Put your answer here!**\n",
    "* Photosynthesis\n",
    "* Plant Respiration\n",
    "* Litterfall\n",
    "* Soil Respiration\n",
    "* Ocean - Atmosphere exchange\n",
    "\n",
    "Human : \n",
    "\n",
    "* Fossil fuel combustion and land cover change from deforestation\n"
   ]
  },
  {
   "cell_type": "markdown",
   "metadata": {},
   "source": [
    "**Question 4.**  Explain how you might make a [compartment model](https://en.wikipedia.org/wiki/Multi-compartment_model) of the carbon cycle."
   ]
  },
  {
   "cell_type": "markdown",
   "metadata": {},
   "source": [
    "If you connect all of them together maybe have a compartment for man made fluxes and what's already there. rates and stuff"
   ]
  },
  {
   "cell_type": "markdown",
   "metadata": {},
   "source": [
    "---\n",
    "## Assignment wrap-up\n",
    "\n",
    "Please fill out the form that appears when you run the code below.  **You must completely fill this out in order to receive credit for the assignment!**"
   ]
  },
  {
   "cell_type": "code",
   "execution_count": 1,
   "metadata": {},
   "outputs": [
    {
     "data": {
      "text/html": [
       "\n",
       "<iframe \n",
       "\tsrc=\"https://goo.gl/forms/1revFpkfK6j6oZES2\" \n",
       "\twidth=\"800px\" \n",
       "\theight=\"600px\" \n",
       "\tframeborder=\"0\" \n",
       "\tmarginheight=\"0\" \n",
       "\tmarginwidth=\"0\">\n",
       "\tLoading...\n",
       "</iframe>\n"
      ],
      "text/plain": [
       "<IPython.core.display.HTML object>"
      ]
     },
     "execution_count": 1,
     "metadata": {},
     "output_type": "execute_result"
    }
   ],
   "source": [
    "from IPython.display import HTML\n",
    "HTML(\n",
    "\"\"\"\n",
    "<iframe \n",
    "\tsrc=\"https://goo.gl/forms/1revFpkfK6j6oZES2\" \n",
    "\twidth=\"800px\" \n",
    "\theight=\"600px\" \n",
    "\tframeborder=\"0\" \n",
    "\tmarginheight=\"0\" \n",
    "\tmarginwidth=\"0\">\n",
    "\tLoading...\n",
    "</iframe>\n",
    "\"\"\"\n",
    ")"
   ]
  },
  {
   "cell_type": "markdown",
   "metadata": {},
   "source": [
    "### Congratulations, you're done!\n",
    "\n",
    "Submit this assignment by uploading it to the course Desire2Learn web page.  Go to the \"Pre-class assignments\" folder, find the appropriate submission link, and upload it there.\n",
    "\n",
    "See you in class!"
   ]
  },
  {
   "cell_type": "markdown",
   "metadata": {},
   "source": [
    "&#169; Copyright 2018,  Michigan State University Board of Trustees"
   ]
  }
 ],
 "metadata": {
  "kernelspec": {
   "display_name": "Python 3",
   "language": "python",
   "name": "python3"
  },
  "language_info": {
   "codemirror_mode": {
    "name": "ipython",
    "version": 3
   },
   "file_extension": ".py",
   "mimetype": "text/x-python",
   "name": "python",
   "nbconvert_exporter": "python",
   "pygments_lexer": "ipython3",
   "version": "3.7.0"
  }
 },
 "nbformat": 4,
 "nbformat_minor": 2
}
