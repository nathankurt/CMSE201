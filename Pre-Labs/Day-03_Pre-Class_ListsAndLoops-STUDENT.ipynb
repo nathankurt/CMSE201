{
 "cells": [
  {
   "cell_type": "markdown",
   "metadata": {},
   "source": [
    "### <p style=\"text-align: right;\"> &#9989; Nathan Kurt</p>"
   ]
  },
  {
   "cell_type": "markdown",
   "metadata": {},
   "source": [
    "# Day 3: Pre-Class Assignment\n",
    "## Lists and Loops"
   ]
  },
  {
   "cell_type": "markdown",
   "metadata": {},
   "source": [
    "### Goals for Today's Pre-Class Assignment\n",
    "By the end of this assignment, you should be able to:\n",
    "* Create and manipulate lists in Python\n",
    "* Write `for` loops and `while` loops in Python\n",
    "* Combine lists and loops to compute new values.\n",
    "\n",
    "### Assignment instructions\n",
    "\n",
    "Watch the videos below, do the readings linked to below the videos, and complete the assigned programming problems.  Please get started early, and come to office hours if you have any questions!\n",
    "\n",
    "Recall that to make notebook cells that have Python code in them do something, hold down the 'shift' key and then press the 'enter' key (you'll have to do this to get the YouTube videos to run).  To edit a cell (to add answers, for example) you double-click on the cell, add your text, and then enter it by holding down 'shift' and pressing 'enter'\n",
    "\n",
    "**This assignment is due by 11:59 p.m. the day before class,** and should be uploaded into the \"Pre-class assignments\" submission folder for Day 3.  Submission instructions can be found at the end of the notebook."
   ]
  },
  {
   "cell_type": "markdown",
   "metadata": {},
   "source": [
    "---\n",
    "### Some possibly useful links and information\n",
    "\n",
    "Before we dive into the pre-class assignment, here are some links that might be useful if you're looking to learn some extra iPython (which is what the Jupyter Notebooks are built on) and Jupyter Notebook skills:  \n",
    "\n",
    "* [IPython tutorial](http://ipython.readthedocs.org/en/stable/interactive/tutorial.html) -- this contains some *very* useful suggestions about IPython commands that allow you to get help on Python, figure out what specific variables or objects do, and many other things.\n",
    "\n",
    "* [Jupyter notebook tips and tricks](http://blog.dominodatalab.com/lesser-known-ways-of-using-notebooks/) -- some clever things you can do with Jupyter notebooks\n",
    "\n",
    "* [Another Jupyter notebook tip page](http://jupyter.cs.brynmawr.edu/hub/dblank/public/Jupyter%20Magics.ipynb)\n",
    "\n",
    "Also, if you want to start using keyboard shortcuts in Jupyter Notebooks to make your life easier and more efficient, **try pressing `ESC` to enter command mode and then press `H`**. This will bring up the list of the keyboard shortcuts. Some of the useful shortcuts include `A` and `B`, which insert cells into the notebook \"above\" and \"below\" the current cell, respectively. `X` is also useful for cutting out cells that you don't need."
   ]
  },
  {
   "cell_type": "markdown",
   "metadata": {},
   "source": [
    "## Part 1: Lists in Python\n",
    "\n",
    "Once very useful data type/container in Python is the \"list\". A list is consider a \"mutable\" Python data type which means that once you create a list, you are free to change the contents of that lists. Lists are also handy because they can store pretty much any other type of python variable within them -- include other lists! Creating lists of lists can actually be extremely handy at times. The following table should serve as a simple reference guide for lists. Note that you might have to scroll side to side to see the whole table."
   ]
  },
  {
   "cell_type": "markdown",
   "metadata": {},
   "source": [
    "\n",
    "|Container Type|Mutable or Immutable|Initialization *Without* Values|Initializtion *With* Values|Adding Values to Container|Removing Values from Container|Modifying Values|Access Method        |Notable Operations and Additional Information|\n",
    "|:----------|:----------|:----------|:----------|:----------|:----------|:----------|:----------|:----------|\n",
    "|**List** $\\hspace{0.5in}$| Mutable $\\hspace{0.5in}$|<ul><li>`a=list()` </li><li> `a=[]` </li></ul> $\\hspace{1.0in}$| `a=['1', '2', '3']` $\\hspace{1.5in}$|  <ul><li>` list.append(item) #Adds item to the end of the list` </li><li> ` list.insert(index, item) #Adds item to the specified index in the list`</li></ul> $\\hspace{2.5in}$|`list.remove(item) #removes the first instance of 'item' from the list. If there is not such element, this will cause an error` $\\hspace{2.0in}$|`>>> a[0] = 'cat'` <br> `>>> a` <br> `['cat', '2', '3']` $\\hspace{1.5in}$|Access by index: <br> `>>> a[0]` <br> `1` $\\hspace{1.2in}$|See webpage at [here](http://www.linuxtopia.org/online_books/programming_books/python_programming/python_ch14s07.html) for some helpful methods when dealing with lists. $\\hspace{1.5in}$|"
   ]
  },
  {
   "cell_type": "markdown",
   "metadata": {},
   "source": [
    "**Now**, watch the following video about lists."
   ]
  },
  {
   "cell_type": "code",
   "execution_count": null,
   "metadata": {
    "collapsed": true,
    "scrolled": false
   },
   "outputs": [],
   "source": [
    "# Imports the functionality that we need to display YouTube videos in a Jupyter notebook.  \n",
    "# You need to run this cell before you run ANY of the YouTube videos.\n",
    "from IPython.display import YouTubeVideo\n",
    "\n",
    "# Watch this video to learn about the list type in Python \n",
    "YouTubeVideo(\"TJ_bGrigAMg\",width=640,height=360)"
   ]
  },
  {
   "cell_type": "markdown",
   "metadata": {},
   "source": [
    "**Question 1:**  In the cell below, create a list that contains, in this order:\n",
    "\n",
    "   1. Your first name as a string\n",
    "   2. Your age as a floating-point number in years. Include one decimal point of precision and a comment about how you calcuated the decimal value.\n",
    "   3. Your room or apartment number as an integer\n",
    "\n",
    "* Print this list out.  \n",
    "* Replace your first name in the list with your last name, and replace your age with the current year as an integer.\n",
    "* Append one or more new variables (anything you like), print out the length of the list using the len() function, and then print out the entire list again."
   ]
  },
  {
   "cell_type": "code",
   "execution_count": 2,
   "metadata": {},
   "outputs": [
    {
     "name": "stdout",
     "output_type": "stream",
     "text": [
      "['Nathan', 21.6, 6124]\n",
      "['Kurt', 2018, 6124, 'New_var']\n"
     ]
    }
   ],
   "source": [
    "# Write your program here, using multiple cells if necessary. Add extra cells using\n",
    "# the 'Cell' menu at the top of this notebook or by using the keyboard shortcut. Don't forget that you can execute \n",
    "# your program by holding down 'shift' and pressing 'enter' in each cell!\n",
    "#21.6 because 217 since February 1st 217/365 = .59 so round to .6\n",
    "ls = [\"Nathan\", 21.6, 6124]\n",
    "print(ls)\n",
    "ls[ls.index(\"Nathan\")] = \"Kurt\"\n",
    "ls[ls.index(21.6)] = 2018\n",
    "ls.append(\"New_var\")\n",
    "print(ls)\n"
   ]
  },
  {
   "cell_type": "markdown",
   "metadata": {},
   "source": [
    "---\n",
    "## Part 2: For loops and While loops\n",
    "\n",
    "### Part 2.1: For loops\n",
    "\n",
    "Watch the following video, which introduces the concepts of <code>for</code> loops and how they work in Python. After you watch the video, answer the questions below."
   ]
  },
  {
   "cell_type": "code",
   "execution_count": null,
   "metadata": {
    "collapsed": true
   },
   "outputs": [],
   "source": [
    "# Video on \"for\" loops in Python\n",
    "# Make sure to watch it in full-screen mode!\n",
    "YouTubeVideo(\"VnTN5sFIPD0\",width=640,height=360,end=629)"
   ]
  },
  {
   "cell_type": "markdown",
   "metadata": {},
   "source": [
    "**Question 2**: Write a for loop that prints the numbers 0 through 9 in the cell below."
   ]
  },
  {
   "cell_type": "code",
   "execution_count": 4,
   "metadata": {},
   "outputs": [
    {
     "name": "stdout",
     "output_type": "stream",
     "text": [
      "0\n",
      "1\n",
      "2\n",
      "3\n",
      "4\n",
      "5\n",
      "6\n",
      "7\n",
      "8\n",
      "9\n"
     ]
    }
   ],
   "source": [
    "# put your code here!\n",
    "for i in range(10):\n",
    "    print(i)"
   ]
  },
  {
   "cell_type": "markdown",
   "metadata": {},
   "source": [
    "**Question 3**: Write a for loop that iterates through the items in the \"cmse_grab_bag\" list provided in the cell below."
   ]
  },
  {
   "cell_type": "code",
   "execution_count": 5,
   "metadata": {},
   "outputs": [
    {
     "name": "stdout",
     "output_type": "stream",
     "text": [
      "Dr. Wang\n",
      "201\n",
      "Section 003\n",
      "Dr. Munch\n",
      "pre-class\n",
      "3\n",
      "CMSE\n",
      "Day\n",
      "Section 001\n",
      "Dr. Rapinchuk\n",
      "Section 002\n",
      "9\n"
     ]
    }
   ],
   "source": [
    "cmse_grab_bag = [\"Dr. Wang\", 201, \"Section 003\", \"Dr. Munch\",\n",
    "            \"pre-class\", 3, \"CMSE\", \"Day\", \"Section 001\", \"Dr. Rapinchuk\", \"Section 002\", 9]\n",
    "\n",
    "# put your code here!\n",
    "for i in cmse_grab_bag:\n",
    "    print(i)\n"
   ]
  },
  {
   "cell_type": "markdown",
   "metadata": {},
   "source": [
    "### Part 2.2: While loops\n",
    "\n",
    "Watch the following video clip, which introduces the concept of <code>while</code> loops in Python. After you watch the video, answer the questions below.\n",
    "\n",
    "**Note**: Ignore the little bit at the end of the video clip that mentions numpy arrays and the <code>nditer</code> function."
   ]
  },
  {
   "cell_type": "code",
   "execution_count": null,
   "metadata": {
    "collapsed": true
   },
   "outputs": [],
   "source": [
    "# Video on \"while\" loops in Python\n",
    "# Make sure to watch it in full-screen mode!\n",
    "YouTubeVideo(\"VnTN5sFIPD0\",width=640,height=360,start=823)"
   ]
  },
  {
   "cell_type": "markdown",
   "metadata": {},
   "source": [
    "**Question 4**: Write a <code>while</code> loop that starts with a value of \"<code>x = 2</code>\", multiples <code>x</code> by 2 for each iteration, prints the value of <code>x</code>, and runs until <code>x</code> is greater than 4096."
   ]
  },
  {
   "cell_type": "code",
   "execution_count": 11,
   "metadata": {},
   "outputs": [
    {
     "name": "stdout",
     "output_type": "stream",
     "text": [
      "4\n",
      "8\n",
      "16\n",
      "32\n",
      "64\n",
      "128\n",
      "256\n",
      "512\n",
      "1024\n",
      "2048\n",
      "4096\n",
      "8192\n"
     ]
    }
   ],
   "source": [
    "# put your code here!\n",
    "x = 2\n",
    "while x <= 4096:\n",
    "    x *= 2\n",
    "    print(x)\n",
    "    \n"
   ]
  },
  {
   "cell_type": "markdown",
   "metadata": {},
   "source": [
    "---\n",
    "## Part 3: Combining lists and loops.\n",
    "\n",
    "**Question 5**: Now we want you to try to use various components of everything you just learned to calculate some values. The cell below includes two lists of values, `x` and `y`. Your task is to initialize two new empty lists, `xsquared` and `ycubed`, iterate through the lists using loops to compute $x^2$ and $y^3$, and store these values in your new lists. Once you've computed all the values, print out the results. **Yes**, this might seem a bit complicated -- that's totally expected. After all, you're still learning to write code! If you find yourself spending too much time to figure this out, make use of Slack or try to drop by office hours or help room hours.\n",
    "\n",
    "**Hint**: If you take a look at the table above that contains information about lists, you see that it mentions adding values to a list using `.append()`, this is what you'll want to use to fill your `xsquared` and `ycubed` lists. Also, remember that we use `**` to compute powers in Python. So \"2 cubed\" would be `2**3`."
   ]
  },
  {
   "cell_type": "code",
   "execution_count": 9,
   "metadata": {},
   "outputs": [
    {
     "name": "stdout",
     "output_type": "stream",
     "text": [
      "xsquared: [4, 16, 36, 64, 100, 144, 196, 256, 324]\n",
      "ycubed: [1000, 561.515625, 421.875, 343, 274.625, 343, 421.875, 561.515625, 1000]\n"
     ]
    }
   ],
   "source": [
    "x = [2,4,6,8,10,12,14,16,18]\n",
    "y = [10,8.25,7.5,7,6.5,7,7.5,8.25,10]\n",
    "\n",
    "# Put your commands for intializing your new lists below this comment\n",
    "# yeah i'm just gonna use list comprehension here\n",
    "xsquared = [i**2 for i in x]\n",
    "ycubed = [i**3 for i in y]\n",
    "print(\"xsquared:\", xsquared)\n",
    "print(\"ycubed:\", ycubed)\n",
    "\n"
   ]
  },
  {
   "cell_type": "markdown",
   "metadata": {},
   "source": [
    "---\n",
    "## Assignment wrap-up\n",
    "\n",
    "Please fill out the form that appears when you run the code below.  **You must completely fill this out in order to receive credit for the assignment!**"
   ]
  },
  {
   "cell_type": "code",
   "execution_count": 10,
   "metadata": {},
   "outputs": [
    {
     "data": {
      "text/html": [
       "\n",
       "<iframe \n",
       "\tsrc=\"https://goo.gl/forms/xOUuqBZtoWqEGbVy1\" \n",
       "\twidth=\"1000\" \n",
       "\theight=\"1000px\" \n",
       "\tframeborder=\"0\" \n",
       "\tmarginheight=\"0\" \n",
       "\tmarginwidth=\"0\">\n",
       "\tLoading...\n",
       "</iframe>\n"
      ],
      "text/plain": [
       "<IPython.core.display.HTML object>"
      ]
     },
     "execution_count": 10,
     "metadata": {},
     "output_type": "execute_result"
    }
   ],
   "source": [
    "from IPython.display import HTML\n",
    "HTML(\n",
    "\"\"\"\n",
    "<iframe \n",
    "\tsrc=\"https://goo.gl/forms/xOUuqBZtoWqEGbVy1\" \n",
    "\twidth=\"1000\" \n",
    "\theight=\"1000px\" \n",
    "\tframeborder=\"0\" \n",
    "\tmarginheight=\"0\" \n",
    "\tmarginwidth=\"0\">\n",
    "\tLoading...\n",
    "</iframe>\n",
    "\"\"\"\n",
    ")"
   ]
  },
  {
   "cell_type": "markdown",
   "metadata": {},
   "source": [
    "### Congratulations, you're done!\n",
    "\n",
    "Submit this assignment by uploading it to the course Desire2Learn web page.  Go to the \"Pre-class assignments\" folder, find the submission folder link for Day 3, and upload it there.\n",
    "\n",
    "See you in class!"
   ]
  },
  {
   "cell_type": "markdown",
   "metadata": {},
   "source": [
    "&#169; Copyright 2018,  Michigan State University Board of Trustees"
   ]
  }
 ],
 "metadata": {
  "kernelspec": {
   "display_name": "Python 3",
   "language": "python",
   "name": "python3"
  },
  "language_info": {
   "codemirror_mode": {
    "name": "ipython",
    "version": 3
   },
   "file_extension": ".py",
   "mimetype": "text/x-python",
   "name": "python",
   "nbconvert_exporter": "python",
   "pygments_lexer": "ipython3",
   "version": "3.7.0"
  }
 },
 "nbformat": 4,
 "nbformat_minor": 2
}
