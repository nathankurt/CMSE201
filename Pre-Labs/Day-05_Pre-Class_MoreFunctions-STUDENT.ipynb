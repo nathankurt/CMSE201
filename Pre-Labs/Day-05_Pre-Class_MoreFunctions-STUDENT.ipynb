{
 "cells": [
  {
   "cell_type": "markdown",
   "metadata": {},
   "source": [
    "### <p style=\"text-align: right;\"> &#9989; Put your name here</p>"
   ]
  },
  {
   "cell_type": "markdown",
   "metadata": {},
   "source": [
    "# Day 5 Pre-class Assignment: Thinking more about functions"
   ]
  },
  {
   "cell_type": "markdown",
   "metadata": {},
   "source": [
    "### Goals for Today's Pre-Class Assignment\n",
    "By the end of this assignment, you should be able to:\n",
    "* More easily define and use functions in Python.\n",
    "\n",
    "### Assignment instructions\n",
    "\n",
    "Watch any videos below, read all included and linked to content, and complete any assigned programming problems.  Please get started early, and come to office hours if you have any questions and make use of Slack!\n",
    "\n",
    "**This assignment is due by 11:59 p.m. the day before class,** and should be uploaded into the \"Pre-class assignments\" submission folder for Day 5.  Submission instructions can be found at the end of the notebook."
   ]
  },
  {
   "cell_type": "markdown",
   "metadata": {},
   "source": [
    "---\n",
    "## 1. Basic function structure\n",
    "\n",
    "The following short video serves as a reminder of the basic structure of a function and how you call functions that you write."
   ]
  },
  {
   "cell_type": "code",
   "execution_count": null,
   "metadata": {},
   "outputs": [],
   "source": [
    "# Don't forget to watch the video in full-screen mode!\n",
    "from IPython.display import YouTubeVideo  \n",
    "YouTubeVideo(\"owglNL1KQf0\",width=640,height=360)  # Writing functions"
   ]
  },
  {
   "cell_type": "markdown",
   "metadata": {},
   "source": [
    "---\n",
    "## 2. Defining function input parameters\n",
    "\n",
    "Here's another short video that reminds you how to define input parameters in Python. The video also points out how you can be specific about defining your input variable to be exactly what you want them to be, without worrying about the specific order of the variables. "
   ]
  },
  {
   "cell_type": "code",
   "execution_count": null,
   "metadata": {},
   "outputs": [],
   "source": [
    "# Don't forget to watch the video in full-screen mode!\n",
    "from IPython.display import YouTubeVideo  \n",
    "YouTubeVideo(\"CGRKqnoQGgM\",width=640,height=360)  # Defining function inputs"
   ]
  },
  {
   "cell_type": "markdown",
   "metadata": {},
   "source": [
    "---\n",
    "## 3. Setting default function values\n",
    "\n",
    "Now that we're comfortable with writing functions and defining our input variables, this next video will show us how to define defaults for our input variables so that we don't always have to define every single input value. This can be useful if we want a function to have a default mode of operation that works *most* of the time, but we still want to be able to change the values of some of the variables when necessary."
   ]
  },
  {
   "cell_type": "code",
   "execution_count": null,
   "metadata": {},
   "outputs": [],
   "source": [
    "# Don't forget to watch the video in full-screen mode!\n",
    "from IPython.display import YouTubeVideo  \n",
    "YouTubeVideo(\"KeRxe9rll2Q\",width=640,height=360)  # Default function parameters"
   ]
  },
  {
   "cell_type": "markdown",
   "metadata": {},
   "source": [
    "Now let's try to incorporate the things we learned in the last three videos into one small function.\n",
    "\n",
    "**Question:** Create a function that takes a person's name as a string and prints \"Happy Birthday to < name >\" where \"< name >\" is the person's name that is given to the function. Set up the function so that if no name is given, it just says \"Happy Birthday to you!\". You can give the function any name you want, but you should try to pick a function name that makes sense to someone else who might be using the function! Also, make sure to comment the function to explain what it does!"
   ]
  },
  {
   "cell_type": "code",
   "execution_count": 2,
   "metadata": {},
   "outputs": [
    {
     "name": "stdout",
     "output_type": "stream",
     "text": [
      "Happy Birthday to joe\n"
     ]
    }
   ],
   "source": [
    "def happy_birthday(name=\"you\"):\n",
    "    print(f'Happy Birthday to {name}')\n",
    "happy_birthday(\"joe\")"
   ]
  },
  {
   "cell_type": "markdown",
   "metadata": {},
   "source": [
    "___\n",
    "## 4 Writing functions that return values\n",
    "\n",
    "The previous three videos focused on defining the input variables for function, giving them defaults, and walking you through different ways to feed your input values into your functions, but they didn't talk about **returning** variables from functions. In Python, we commonly want to write functions that not only take in a variety of input values, but we also want the function to return some new values when the function exits. For example, I might have a bit of code that looks like this:"
   ]
  },
  {
   "cell_type": "code",
   "execution_count": null,
   "metadata": {},
   "outputs": [],
   "source": [
    "def compute_average(v1, v2, v3):\n",
    "    total = v1 + v2 + v3\n",
    "    average = total/3\n",
    "    return average"
   ]
  },
  {
   "cell_type": "markdown",
   "metadata": {},
   "source": [
    "Now, this function takes in three values, `v1`, `v2`, and `v3`, computes the average of those three values, and then **returns** that average.  That means when I call the function, I can assign a new variables to be the value that is **returned** by the function. Specifically, I might do something that looks like this:  "
   ]
  },
  {
   "cell_type": "code",
   "execution_count": null,
   "metadata": {},
   "outputs": [],
   "source": [
    "my_average = compute_average(4, -8, 12)\n",
    "print(my_average)"
   ]
  },
  {
   "cell_type": "markdown",
   "metadata": {},
   "source": [
    "With that first line of code, I've create a new variable call `my_average` that stores the result of my `compute_average` function. It is important to note that if I don't intentionally \"catch\" the returned value from my function, I won't have access to that average value later on because the `average` variable in my function is *local to the function*. When we say that a variable is local to the function, it means that it can only be accessed in the place that it was created, inside the function. This means that if we simply do:"
   ]
  },
  {
   "cell_type": "code",
   "execution_count": null,
   "metadata": {},
   "outputs": [],
   "source": [
    "compute_average(4, -8, 12)"
   ]
  },
  {
   "cell_type": "markdown",
   "metadata": {},
   "source": [
    "We aren't actually ***storing*** the value we want. Python will print the value to the screen *because* we didn't catch the value with a variable. Again, if I wanted to access that value later, I don't have any way of doing that. The function computed the value, but we never stored the result anywhere, so calling the function was only useful if we wanted to *see* the number but didn't care about *using* the number. Remembering to store the output from your functions is very important when writing code!"
   ]
  },
  {
   "cell_type": "markdown",
   "metadata": {},
   "source": [
    "**Important reminder**: The moment a function comes across a `return` statement, it will exit the function and ignore any code that comes later in the function. This can actually be kind of useful if you want a function to return a value based on set of conditional statements. So I might write a function that looks like this:"
   ]
  },
  {
   "cell_type": "code",
   "execution_count": null,
   "metadata": {
    "scrolled": true
   },
   "outputs": [],
   "source": [
    "def do_math(v1, v2, v3, calculation='sum'):\n",
    "    if calculation == 'sum':\n",
    "        total = v1 + v2 + v3\n",
    "        return total\n",
    "    elif calculation == 'average':\n",
    "        total = v1 + v2 + v3\n",
    "        average = total/3\n",
    "        return average\n",
    "    else:\n",
    "        print(\"You didn't specificy a valid calculation option\")"
   ]
  },
  {
   "cell_type": "markdown",
   "metadata": {},
   "source": [
    "This function would allow me to run the following commands:"
   ]
  },
  {
   "cell_type": "code",
   "execution_count": null,
   "metadata": {
    "scrolled": true
   },
   "outputs": [],
   "source": [
    "my_sum = do_math(4, -8, 12, calculation='sum')\n",
    "my_average = do_math(4, -8, 12, calculation='average')\n",
    "print(\"sum =\", my_sum)\n",
    "print(\"average =\", my_average)"
   ]
  },
  {
   "cell_type": "markdown",
   "metadata": {},
   "source": [
    "**Question**: What happens if I don't use either 'sum' or 'average' for the `calculation` input in my function?"
   ]
  },
  {
   "cell_type": "markdown",
   "metadata": {},
   "source": [
    "It would default to sum"
   ]
  },
  {
   "cell_type": "markdown",
   "metadata": {},
   "source": [
    "---\n",
    "## 5. Putting it all together\n",
    "\n",
    "**Now**, let's try to put all of this into practice by revisiting a task from a previous pre-class assignment.\n",
    "\n",
    "**Do the following**:\n",
    "\n",
    "1. Write function called `x_squared`.\n",
    "2. The function should take in a list of $x$-values of any length, but should have a default of [1,2,3].\n",
    "3. The function should return a new list of values that are $x^2$ values of the original input values.\n",
    "4. Print the resulting new list.\n",
    "\n",
    "*Make sure your code works as intended!*"
   ]
  },
  {
   "cell_type": "code",
   "execution_count": 3,
   "metadata": {},
   "outputs": [
    {
     "name": "stdout",
     "output_type": "stream",
     "text": [
      "[1, 4, 9, 16, 25, 36]\n"
     ]
    }
   ],
   "source": [
    "# Put your code here\n",
    "def x_squared(ls=[1,2,3]):\n",
    "    return [i**2 for i in ls]\n",
    "\n",
    "print(x_squared([1,2,3,4,5,6]))"
   ]
  },
  {
   "cell_type": "markdown",
   "metadata": {},
   "source": [
    "---\n",
    "## Assignment wrap-up\n",
    "\n",
    "**For convenience, we're going to include a couple of Python function references again so that you can check them out if you're still looking for more information about functions**:\n",
    "* [Tutorial on functions in python](https://docs.python.org/3/tutorial/controlflow.html#defining-functions)\n",
    "* [Dive Into Python - section on functions](http://www.diveintopython3.net/your-first-python-program.html#declaringfunctions)\n",
    "\n",
    "**Now**, please fill out the form that appears when you run the code below.  **You must completely fill this out in order to receive credit for the assignment!**"
   ]
  },
  {
   "cell_type": "code",
   "execution_count": 4,
   "metadata": {},
   "outputs": [
    {
     "data": {
      "text/html": [
       "\n",
       "<iframe \n",
       "\tsrc=\"https://goo.gl/forms/viSSfcWEtO7W0Qnu1\" \n",
       "\twidth=\"80%\" \n",
       "\theight=\"800px\" \n",
       "\tframeborder=\"0\" \n",
       "\tmarginheight=\"0\" \n",
       "\tmarginwidth=\"0\">\n",
       "\tLoading...\n",
       "</iframe>\n"
      ],
      "text/plain": [
       "<IPython.core.display.HTML object>"
      ]
     },
     "execution_count": 4,
     "metadata": {},
     "output_type": "execute_result"
    }
   ],
   "source": [
    "from IPython.display import HTML\n",
    "HTML(\n",
    "\"\"\"\n",
    "<iframe \n",
    "\tsrc=\"https://goo.gl/forms/viSSfcWEtO7W0Qnu1\" \n",
    "\twidth=\"80%\" \n",
    "\theight=\"800px\" \n",
    "\tframeborder=\"0\" \n",
    "\tmarginheight=\"0\" \n",
    "\tmarginwidth=\"0\">\n",
    "\tLoading...\n",
    "</iframe>\n",
    "\"\"\"\n",
    ")"
   ]
  },
  {
   "cell_type": "markdown",
   "metadata": {},
   "source": [
    "### Congratulations, you're done!\n",
    "\n",
    "Submit this assignment by uploading it to the course Desire2Learn web page.  Go to the \"Pre-class assignments\" folder, find the appropriate dropbox link, and upload it there.\n",
    "\n",
    "See you in class!"
   ]
  }
 ],
 "metadata": {
  "kernelspec": {
   "display_name": "Python 3",
   "language": "python",
   "name": "python3"
  },
  "language_info": {
   "codemirror_mode": {
    "name": "ipython",
    "version": 3
   },
   "file_extension": ".py",
   "mimetype": "text/x-python",
   "name": "python",
   "nbconvert_exporter": "python",
   "pygments_lexer": "ipython3",
   "version": "3.7.0"
  }
 },
 "nbformat": 4,
 "nbformat_minor": 2
}
