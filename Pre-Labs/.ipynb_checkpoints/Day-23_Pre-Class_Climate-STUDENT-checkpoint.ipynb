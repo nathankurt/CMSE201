{
 "cells": [
  {
   "cell_type": "markdown",
   "metadata": {},
   "source": [
    "## <p style=\"text-align: right;\"> &#9989; Put your name here</p>"
   ]
  },
  {
   "cell_type": "markdown",
   "metadata": {},
   "source": [
    "# Day 23 Pre-class:  Global warming and climate modeling\n",
    "\n",
    "## Goals for today's pre-class assignment\n",
    "\n",
    "* Read about the greenhouse effect and the ways that global temperature and carbon dioxide levels are calculated\n",
    "* Make plots to explore the relationship between global temperature and sea level over the past three million years\n",
    "\n",
    "## Assignment instructions\n",
    "\n",
    "**This assignment is due by 11:59 p.m. the day before class,** and should be uploaded into the \"Pre-class assignments\" submission folder for <font color='red'>Day 23</font>.  If you run into issues with your code, make sure to use Slack to help each other out and receive some assistance from the instructors. Submission instructions can be found at the end of the notebook."
   ]
  },
  {
   "cell_type": "markdown",
   "metadata": {},
   "source": [
    "---\n",
    "## Understanding the Earth's climate\n",
    "\n",
    "Over the next three days of class, you will be using a combination of data analysis and modeling to understand the Earth's climate, the relationship between greenhouse gases and temperature in the Earth's atmosphere, and the global carbon cycle and how it relates to climate and global temperature.  We'll use many of the techniques that you have learned this semester to do so!\n",
    "\n",
    "Global climate change is a huge and complex issue, with important consequences for [global peace and human development](https://blog.oup.com/2017/06/climate-change-global-peace-security/), particularly in countries that are not particularly wealthy or technologically advanced (and thus will have greater challenges dealing with a changing world).\n",
    "\n",
    "**In preparation for the in-class assignment,** you need to read and think about how global temperatures are measured, and examine historical climate and sea level data.\n",
    "\n",
    "---\n",
    "\n",
    "First, read the Wikipedia articles on [the global temperature record](https://en.wikipedia.org/wiki/Global_temperature_record), [paleoclimatology](https://en.wikipedia.org/wiki/Paleoclimatology) (that is, the study of climate changes over the entire history of the Earth), and [this NASA article on estimating historical temperatures](https://www.giss.nasa.gov/research/briefs/schmidt_01/).  In the box below, describe how we estimate the Earth's  atmospheric temperature in the last few hundred, tens of thousands, and millions of years.  How confident are scientists in these predictions? "
   ]
  },
  {
   "cell_type": "markdown",
   "metadata": {},
   "source": [
    "**Put your answers in this cell!**"
   ]
  },
  {
   "cell_type": "markdown",
   "metadata": {},
   "source": [
    "---\n",
    "\n",
    "The file ```bintanja2008.txt``` is included with this assignment, and is from the journal article \"North American ice-sheet dynamics and the onset of 100,000-year glacial cycles,\" by Bintanja and van de Wald ([2008, Nature, **454**, 869-872](https://www.nature.com/articles/nature07158)).  The dataset that comes from [this archive](https://www.ncdc.noaa.gov/paleo-search/study/11933) at the [National Centers for Environmental Information](https://www.ncdc.noaa.gov/), and is a reconstruction of the global surface temperature, deep-sea temperature, ice volume, and relative sea level for the last **3 million years**.  Note that this file has been very slightly modified to remove some characters that Numpy and Pandas have problems with (letters with accents), but actual data has not been changed!\n",
    "\n",
    "Before you make any plots, open up the file and look at the header.  In particular, look at the description of the various columns of data!  Note that column 9, \"Global sea level relative to present,\" is in confusing units - more positive values actually correspond to *lower* sea levels than less positive values. Also \"BP\" means \"Before Present.\" \n",
    "\n",
    "Now, let's load up the data and make some plots!  **First**, read in the data file using Numpy's [loadtxt()](https://docs.scipy.org/doc/numpy-1.13.0/reference/generated/numpy.loadtxt.html) method and put the various columns into Numpy arrays.  It's fine to load all of the data into a single combined multi-dimensional array if you want, or split the data into multiple arrays.  **HINTS:**  The header is 109 rows long, and the file is set up so that each column is a separate dataset (so you may wish to remind yourself of how the ```unpack``` argument for ```loadtxt``` works)"
   ]
  },
  {
   "cell_type": "code",
   "execution_count": null,
   "metadata": {
    "collapsed": true
   },
   "outputs": [],
   "source": [
    "# Put your code in this cell!\n"
   ]
  },
  {
   "cell_type": "markdown",
   "metadata": {},
   "source": [
    "Now, make a [subplot](https://matplotlib.org/api/_as_gen/matplotlib.pyplot.subplot.html) that has four panels, which show:\n",
    "\n",
    "1. The atmospheric surface temperature as a function of time (column 5 in the dataset)\n",
    "2. The deep sea temperature as a function of time (column 6 in the dataset)\n",
    "3. The depth of ice covering North America as a function of time (column 8 in the dataset)\n",
    "4. The global sea level relative to the present (column 9 in the dataset)\n",
    "\n",
    "**Plot the relationships for all three million years of the dataset.**  Please note that column 9, \"Global sea level relative to present,\" is in confusing units - more positive values actually correspond to *lower* sea levels than less positive values.  You may want to multiply column 9 by -1 in order to get more sensible values.  Also, [modify the x-axis](https://matplotlib.org/api/_as_gen/matplotlib.pyplot.xlim.html) of each subplot so that it goes from (3000,0) instead of (0,3000), so that time moves forward from left to right! (Note that the time is reported in kiloyears; 1 kyr = 1000 yr; 1 million years = 1000 kyr). You can do this using the `plt.xlim()` function!"
   ]
  },
  {
   "cell_type": "code",
   "execution_count": null,
   "metadata": {},
   "outputs": [],
   "source": [
    "# Put your code in this cell!\n"
   ]
  },
  {
   "cell_type": "markdown",
   "metadata": {},
   "source": [
    "Now, make a copy of the previous plot that **zooms in on the last 500,000 years of the dataset.** We'll use this to examine some trends. You can do this by changing the values you feed to the `plt.xlim()` function."
   ]
  },
  {
   "cell_type": "code",
   "execution_count": null,
   "metadata": {},
   "outputs": [],
   "source": [
    "# Put your code in this cell!\n"
   ]
  },
  {
   "cell_type": "markdown",
   "metadata": {},
   "source": [
    "**Based on the plot you've made, answer the following questions:**\n",
    "\n",
    "1.  What relationship do you see between the global atmospheric temperature and the deep sea temperature?\n",
    "2.  What relationship do you see between the global atmospheric temperature and the estimated volume of ice on land?\n",
    "3.  What relationship do you see between the volume of ice and the estimated sea level?\n",
    "4.  Do the relationships that you're seeing make sense to you?  Why or why not?\n",
    "5.  Do you see patterns that repeat in time?  And if so, on what timescales do they seem to occur?"
   ]
  },
  {
   "cell_type": "markdown",
   "metadata": {},
   "source": [
    "**Put your answers in this cell!**\n"
   ]
  },
  {
   "cell_type": "markdown",
   "metadata": {},
   "source": [
    "---\n",
    "## Assignment wrap-up\n",
    "\n",
    "Please fill out the form that appears when you run the code below.  **You must completely fill this out in order to receive credit for the assignment!**"
   ]
  },
  {
   "cell_type": "code",
   "execution_count": null,
   "metadata": {
    "collapsed": true
   },
   "outputs": [],
   "source": [
    "from IPython.display import HTML\n",
    "HTML(\n",
    "\"\"\"\n",
    "<iframe \n",
    "\tsrc=\"https://goo.gl/forms/we9zWv6Hd5yIpYXB3\" \n",
    "\twidth=\"800px\" \n",
    "\theight=\"600px\" \n",
    "\tframeborder=\"0\" \n",
    "\tmarginheight=\"0\" \n",
    "\tmarginwidth=\"0\">\n",
    "\tLoading...\n",
    "</iframe>\n",
    "\"\"\"\n",
    ")"
   ]
  },
  {
   "cell_type": "markdown",
   "metadata": {},
   "source": [
    "### Congratulations, you're done!\n",
    "\n",
    "Submit this assignment by uploading it to the course Desire2Learn web page.  Go to the \"Pre-class assignments\" folder, find the appropriate submission link, and upload it there.\n",
    "\n",
    "See you in class!"
   ]
  },
  {
   "cell_type": "markdown",
   "metadata": {},
   "source": [
    "&#169; Copyright 2018,  Michigan State University Board of Trustees"
   ]
  }
 ],
 "metadata": {
  "kernelspec": {
   "display_name": "Python 3",
   "language": "python",
   "name": "python3"
  },
  "language_info": {
   "codemirror_mode": {
    "name": "ipython",
    "version": 3
   },
   "file_extension": ".py",
   "mimetype": "text/x-python",
   "name": "python",
   "nbconvert_exporter": "python",
   "pygments_lexer": "ipython3",
   "version": "3.7.0"
  }
 },
 "nbformat": 4,
 "nbformat_minor": 2
}
