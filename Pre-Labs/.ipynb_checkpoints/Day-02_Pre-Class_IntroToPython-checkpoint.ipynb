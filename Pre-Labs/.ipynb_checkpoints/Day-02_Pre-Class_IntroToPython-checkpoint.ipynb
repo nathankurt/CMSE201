{
 "cells": [
  {
   "cell_type": "markdown",
   "metadata": {},
   "source": [
    "<p style=\"text-align: right;\"> &#9989; Put your name here</p>"
   ]
  },
  {
   "cell_type": "markdown",
   "metadata": {},
   "source": [
    "# Day 2 Pre-class Assignment: Intro to Python"
   ]
  },
  {
   "cell_type": "markdown",
   "metadata": {},
   "source": [
    "## Goals for today's pre-class assignment\n",
    "\n",
    "* Explore the nature of flipped classrooms and why we used a flipped classroom model in CMSE 201\n",
    "* Learn more about Jupyter notebooks and Markdown \n",
    "* Write a Python program to make simple calculations\n",
    "* Work with number and string data types\n",
    "* Work with the list data type\n",
    "* Learn how to do order-of-magnitude approximations"
   ]
  },
  {
   "cell_type": "markdown",
   "metadata": {},
   "source": [
    "**This assignment is due by 11:59 p.m. the day before class,** and should be uploaded into the \"Pre-Class Assignments\" dropbox folder for Day 2.  Submission instructions can be found at the end of the notebook."
   ]
  },
  {
   "cell_type": "markdown",
   "metadata": {},
   "source": [
    "---\n",
    "**Note**: The following cell must be executed in order for YouTuve video to run within the notebook. If you ever find that your YouTube videos are throwing an error claiming that \"`YouTubeVideo is not defined`\", it likely means that this little piece of code is either missed or what never executed."
   ]
  },
  {
   "cell_type": "code",
   "execution_count": null,
   "metadata": {},
   "outputs": [],
   "source": [
    "# Imports the functionality that we need to display YouTube videos in a Jupyter notebook.  \n",
    "# You need to run this cell before you run ANY of the YouTube videos.\n",
    "from IPython.display import YouTubeVideo"
   ]
  },
  {
   "cell_type": "markdown",
   "metadata": {},
   "source": [
    "---\n",
    "# Part 1: What is a Flipped Classroom?"
   ]
  },
  {
   "cell_type": "markdown",
   "metadata": {},
   "source": [
    "One aspect of CMSE 201 that is very important to understand, aside from Python programming, is understanding how the class is structured. CMSE 201 is being taught using what is known as the \"flipped classroom\" model. This may or may not be familiar to you, so watch the following video on what a flipped classroom is to help you get up to speed."
   ]
  },
  {
   "cell_type": "code",
   "execution_count": null,
   "metadata": {},
   "outputs": [],
   "source": [
    "# Watch this short video to get an overview of what a \"flipped\" classroom is\n",
    "YouTubeVideo(\"ojiebVw8O0g\",width=640,height=360)"
   ]
  },
  {
   "cell_type": "markdown",
   "metadata": {},
   "source": [
    "In short, a flipped classroom has students spending time outside of class working through instructional materials developed by the professor known as pre-class assignments. In the context of this course, this will entail things such as watching video lectures made by the instructional staff or found online, reading articles, and working through structured coding activities. One benefit to doing this is it allows students to learn from these materials at their own pace. During a lecture, students must work at the pace of whoever is giving the lecture. But here, one can rewind videos as needed, reread passages, or move past material they feel they have already mastered.\n",
    "\n",
    "The main purpose of the work being done at home is so that the time in class can be spent working on what would have traditionally been labeled as “homework assignments” with other students in this class. We will be referring to these as \"in-class assignments.\" During these in-class assignments, the instructional staff are there to provide focused support where needed and help to alleviate any confusion surrounding the material. This model of instruction allows for students to get more one-on-one attention from teachers as well as additional support that comes from working with other people. \n",
    "\n",
    "Need an example of how this works? Here’s an example from our own state! Watch the following video and think about what you’re seeing being done here (And yes, we know vine isn’t a thing anymore)."
   ]
  },
  {
   "cell_type": "code",
   "execution_count": null,
   "metadata": {},
   "outputs": [],
   "source": [
    "# Watch this video for an example of how flipped classrooms are being used right here in Michigan\n",
    "YouTubeVideo(\"G_p63W_2F_4\",width=640,height=360)"
   ]
  },
  {
   "cell_type": "markdown",
   "metadata": {},
   "source": [
    "The classroom is “flipped” in the sense that what would have traditionally been done in class (e.g. lecturing) is now being done at home (pre-class assignments), and the aspects that would normally be done at home (in-class assignments) is being worked on during class where the instructional staff can provide needed support.\n",
    "\n",
    "The rationale for adopting this model in the specific context of our course is so that time outside of class can be spent learning about the underlying concepts of computational modeling and data analysis, and in-class time can be spent ***doing*** computational modeling and data analysis.\n",
    "\n",
    "This approach to learning might be quite different than what you are used to, especially if most of your prior classes have used traditional lecture formats. However, although this classroom experience is different, the end result will still be the same -- you **will** learn the content! In fact, research has shown that there are many benefits to learning in a flipped classroom and many times students learn **more** than they would in a more traditional classroom.\n",
    "\n",
    "Of course, in order to get the most of out of the flipped classrooms model used by CMSE 201, **you need to complete the pre-class assignments and fully engage with the in-class activities**. If you don't invest the time before coming to class, you will find that the in-class activities are much more challenging. \n",
    "\n",
    "If you have any questions about the format of CMSE 201, contact your section instructor!"
   ]
  },
  {
   "cell_type": "markdown",
   "metadata": {},
   "source": [
    "---\n",
    "# Part 2: Working on Python fundamentals and thinking about \"Order-of-magnitude\" approximations\n",
    "\n",
    "## Jupyter notebooks and Markdown\n",
    "\n",
    "The following video will provide you with a bit more information about Jupyter notebooks, how they work, and how you can use them to write both code and text. Note that when you execute the cell below, the code will run only a poriton of the video, going from ~3:30 to ~11:30. You only need to watch that portion of the video as the rest of the video is related to material from past versions of CMSE 201."
   ]
  },
  {
   "cell_type": "code",
   "execution_count": null,
   "metadata": {
    "scrolled": false
   },
   "outputs": [],
   "source": [
    "# Watch this video to learn about Markdown in Jupyter notebooks\n",
    "# Please get familiar with this, since we will be using these all semester\n",
    "YouTubeVideo(\"zSDfRY8-3QE\",width=640,height=360,start=202,end=719)"
   ]
  },
  {
   "cell_type": "markdown",
   "metadata": {},
   "source": [
    "**Question 1:** Create a cell below, write your first name in italics and last name in bold. "
   ]
  },
  {
   "cell_type": "markdown",
   "metadata": {},
   "source": [
    "_Nathan_ **Kurt**"
   ]
  },
  {
   "cell_type": "markdown",
   "metadata": {},
   "source": [
    "## Python 101\n",
    "\n",
    "Watch the following video to see an example of how to write a very simple piece of code in Python."
   ]
  },
  {
   "cell_type": "code",
   "execution_count": null,
   "metadata": {},
   "outputs": [],
   "source": [
    "# Write a simple Python program by example \n",
    "YouTubeVideo(\"cCLB1sNpNYo\",width=640,height=360)"
   ]
  },
  {
   "cell_type": "markdown",
   "metadata": {},
   "source": [
    "**Question 2:** In the cell below, write a simple program to calculate the area of a rectangle, where you give it the length and width of the rectangle as variables, store the area in a third variable and print it out.  Add comments to each line (using `#`) to explain what you're doing!"
   ]
  },
  {
   "cell_type": "code",
   "execution_count": 3,
   "metadata": {},
   "outputs": [
    {
     "name": "stdout",
     "output_type": "stream",
     "text": [
      "12\n"
     ]
    }
   ],
   "source": [
    "# Write your Python program here.  Don't forget that you execute your program by holding\n",
    "# down 'shift' and pressing 'enter'\n",
    "#function for area\n",
    "def area(length, width):\n",
    "    return length*width\n",
    "#call function, not going to use an extra variable because that uses more space than necessary\n",
    "print(area(4,3))\n"
   ]
  },
  {
   "cell_type": "markdown",
   "metadata": {},
   "source": [
    "## Variable types \n",
    "\n",
    "Watch the following video to learn a bit about variable types in Python"
   ]
  },
  {
   "cell_type": "code",
   "execution_count": null,
   "metadata": {},
   "outputs": [],
   "source": [
    "# Watch this video to learn about some fundamental Python variable types \n",
    "YouTubeVideo(\"yv7klK57Ezc\",width=640,height=360)"
   ]
  },
  {
   "cell_type": "markdown",
   "metadata": {},
   "source": [
    "**Question 3:** In the cells below, \n",
    "* Create a variable containing a floating-point number and a second variable containing an integer. \n",
    "* Turn both into strings, concatenate them, and store the result in a new variable. \n",
    "* Print out the *last* value in your concatenated variable.  \n",
    "You can use more than one cell if you need to print out multiple quantities!"
   ]
  },
  {
   "cell_type": "code",
   "execution_count": 4,
   "metadata": {},
   "outputs": [
    {
     "name": "stdout",
     "output_type": "stream",
     "text": [
      "Concat Value:  5.04\n"
     ]
    }
   ],
   "source": [
    "# Write your program here, using multiple cells if necessary. Add extra cells using\n",
    "# the 'Cell' menu at the top of this notebook.  Don't forget that you can execute \n",
    "# your program by holding down 'shift' and pressing 'enter' in each cell!\n",
    "\n",
    "\n",
    "def concat(float_val,int_val):\n",
    "    return str(float_val) + str(int_val)\n",
    "print(\"Concat Value: \", concat(5.0,4))"
   ]
  },
  {
   "cell_type": "markdown",
   "metadata": {},
   "source": [
    "## Approximation and modeling"
   ]
  },
  {
   "cell_type": "code",
   "execution_count": null,
   "metadata": {
    "scrolled": true
   },
   "outputs": [],
   "source": [
    "# Watch this video to learn about order-of-magnitude approximation and how to build a model\n",
    "# We will do more model-building in class; make sure you are comfortable with the concept\n",
    "YouTubeVideo(\"rVhV_9YZZXw\",width=640,height=360)"
   ]
  },
  {
   "cell_type": "markdown",
   "metadata": {},
   "source": [
    "**Question 4**\n",
    "\n",
    "As a human being, you need water to survive. \n",
    "\n",
    "How many Olympic-sized swimming pools could you fill with \n",
    "the water an average human being will drink in their lifetime? \n",
    "\n",
    "Create a cell below, explain how you would solve this problem and provide \n",
    "an estimate of the answer (and range of possible solutions).\n",
    "    "
   ]
  },
  {
   "cell_type": "markdown",
   "metadata": {},
   "source": [
    "I know that an olympic swimming pool is 50 meters in length, 25m in width,  and about 2m in depth. so the volume is 88,263 cubic feet. that equals 660,253.09 gallons of water. I know the average person drinks about 50 gallons of water a year starting at say age 7 i think when they start growing. to average out for the other years we'll say 51 gallons of water a year. \n",
    "\n",
    "The average person lives about 85 years now. so if we do 660,253.09/(85-7)*51 we get about .006 swimming pools in their lifetime give or take .0005 swimming pools. \n"
   ]
  },
  {
   "cell_type": "markdown",
   "metadata": {},
   "source": [
    "### Having problems? \n",
    "\n",
    "If you're running into issues with any parts of this pre-class assignment, **you should trying sending a message in the CMSE 201 \"help\" channel in Slack**. Some of your fellow students or one of the instructors might be able to lend a hand!"
   ]
  },
  {
   "cell_type": "markdown",
   "metadata": {},
   "source": [
    "---\n",
    "### Assignment wrap-up\n",
    "\n",
    "Please fill out the form that appears when you run the code below.  **You must completely fill this out in order to receive credit for the assignment!**"
   ]
  },
  {
   "cell_type": "code",
   "execution_count": 8,
   "metadata": {},
   "outputs": [
    {
     "data": {
      "text/html": [
       "\n",
       "<iframe \n",
       "\tsrc=\"https://goo.gl/forms/IiGh7vUCXlxAbOWq1\" \n",
       "\twidth=\"80%\" \n",
       "\theight=\"800px\" \n",
       "\tframeborder=\"0\" \n",
       "\tmarginheight=\"0\" \n",
       "\tmarginwidth=\"0\">\n",
       "\tLoading...\n",
       "</iframe>\n"
      ],
      "text/plain": [
       "<IPython.core.display.HTML object>"
      ]
     },
     "execution_count": 8,
     "metadata": {},
     "output_type": "execute_result"
    }
   ],
   "source": [
    "from IPython.display import HTML\n",
    "HTML(\n",
    "\"\"\"\n",
    "<iframe \n",
    "\tsrc=\"https://goo.gl/forms/IiGh7vUCXlxAbOWq1\" \n",
    "\twidth=\"80%\" \n",
    "\theight=\"800px\" \n",
    "\tframeborder=\"0\" \n",
    "\tmarginheight=\"0\" \n",
    "\tmarginwidth=\"0\">\n",
    "\tLoading...\n",
    "</iframe>\n",
    "\"\"\"\n",
    ")"
   ]
  },
  {
   "cell_type": "markdown",
   "metadata": {},
   "source": [
    "### Congratulations, you're done!\n",
    "\n",
    "Submit this assignment by uploading it to the course Desire2Learn web page.  Go to the \"Pre-class assignments\" folder, find the submission folder link for Day 2, and upload it there.\n",
    "\n",
    "See you in class!"
   ]
  },
  {
   "cell_type": "markdown",
   "metadata": {},
   "source": [
    "&#169; Copyright 2018,  Michigan State University Board of Trustees"
   ]
  }
 ],
 "metadata": {
  "kernelspec": {
   "display_name": "Python 3",
   "language": "python",
   "name": "python3"
  },
  "language_info": {
   "codemirror_mode": {
    "name": "ipython",
    "version": 3
   },
   "file_extension": ".py",
   "mimetype": "text/x-python",
   "name": "python",
   "nbconvert_exporter": "python",
   "pygments_lexer": "ipython3",
   "version": "3.7.0"
  }
 },
 "nbformat": 4,
 "nbformat_minor": 2
}
