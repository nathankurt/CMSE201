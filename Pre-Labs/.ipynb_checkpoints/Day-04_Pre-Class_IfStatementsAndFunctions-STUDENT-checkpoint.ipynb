{
 "cells": [
  {
   "cell_type": "markdown",
   "metadata": {},
   "source": [
    "### <p style=\"text-align: right;\"> &#9989; Nathan Kurt</p>"
   ]
  },
  {
   "cell_type": "markdown",
   "metadata": {},
   "source": [
    "# Day 4: Pre-class Assignment: Boolean logic, if statements, and an introduction to functions"
   ]
  },
  {
   "cell_type": "markdown",
   "metadata": {},
   "source": [
    "### Goals for Today's Pre-Class Assignment\n",
    "By the end of this assignment, you should be able to:\n",
    "* Use if/else statements with true/false (boolean) conditional statements in Python.\n",
    "* Write simple functions in Python\n",
    "\n",
    "### Assignment instructions\n",
    "\n",
    "Watch any videos below, read all included and linked to content, and complete any assigned programming problems.  Please get started early, and come to office hours if you have any questions and make use of Slack!\n",
    "\n",
    "**This assignment is due by 11:59 p.m. the day before class,** and should be uploaded into the \"Pre-class assignments\" submission folder for Day 4.  Submission instructions can be found at the end of the notebook."
   ]
  },
  {
   "cell_type": "markdown",
   "metadata": {},
   "source": [
    "---\n",
    "## 1. Making decisions in Python\n",
    "\n",
    "Sometimes when we're writing a program, we run into a situation where the right next step is contigent on whether or not a particular condition is true or not. If it *is* true, we might want to do one thing, but if it *is not* true, we might want to do something else entirely. This is sometimes referred to as \"branching\". Basically, conditional statements, where something is evaluated to be `True` or `False`, allow Python to make decisions about how to move forward. When it comes to making decisions in Python, there are two ideas that you need to understand:\n",
    "1. The main command in Python is the `if` statement; or, more generally, the `if-then-else` construct\n",
    "2. Boolean logic (the conditional True/False statement) allows you to perform tests that return `True` or `False`, which you then use to move foward.\n",
    "\n",
    "Taken together, these two features of a programming language are essential for getting our codes to carry out complex tasks. These statments generally play a key role in data science as we often need the computer to sift through large data sets depending on what we wish to analyze.\n",
    "\n",
    "You should also pause for a moment to reflect on that fact that you're already been exposed to Boolean logic statement when you've written `while` loops. Basically, the `while` loops tells Python to keep doing the same thing until the conditional statement becomes `False`.\n",
    "\n",
    "**Now**, to learn more about boolean logic and if statements, watch the video below."
   ]
  },
  {
   "cell_type": "code",
   "execution_count": null,
   "metadata": {},
   "outputs": [],
   "source": [
    "# Don't forget to watch the video in full-screen mode!\n",
    "from IPython.display import YouTubeVideo  \n",
    "YouTubeVideo(\"cozbOliNwSs\",width=640,height=360)  # Boolean logic and if statements"
   ]
  },
  {
   "cell_type": "markdown",
   "metadata": {},
   "source": [
    "---\n",
    "## 2. Practice with `if` statements\n",
    "\n",
    "\n",
    "Now that you've learned a bit about `if` statements in Python, let's get some practice with those conditional statements!\n",
    "\n",
    "Remember, `if` statements can be used for situations when we only want certain code to execute when a particular thing happens to be true.\n",
    "\n",
    "For example, the following code loops over a range of values but only actually prints the value if the value is greater than 5. Try running the code!"
   ]
  },
  {
   "cell_type": "code",
   "execution_count": null,
   "metadata": {},
   "outputs": [],
   "source": [
    "# loop over the values\n",
    "for i in range(11):\n",
    "    # If the value is great than 5, print it\n",
    "    if i > 5:\n",
    "        print(i)"
   ]
  },
  {
   "cell_type": "markdown",
   "metadata": {},
   "source": [
    "Note that `if` statements can be used with any conditional statement that returns a `True` or `False`. For example, we can also do something like checking to see if a number is evenly divisible by 2. For this, we can use the \"modulus\" operator, which is a represented by a `%` sign in Python. When you use the `%` sign, Python divides the first number by the second number and returns the remainder. Try running the following code."
   ]
  },
  {
   "cell_type": "code",
   "execution_count": 1,
   "metadata": {},
   "outputs": [
    {
     "name": "stdout",
     "output_type": "stream",
     "text": [
      "0\n",
      "2\n",
      "4\n",
      "6\n",
      "8\n",
      "10\n"
     ]
    }
   ],
   "source": [
    "# loop over the values\n",
    "for i in range(11):\n",
    "    # If the value is divisible by 2, print it\n",
    "    if i%2 == 0:\n",
    "        print(i)"
   ]
  },
  {
   "cell_type": "markdown",
   "metadata": {},
   "source": [
    "**Question**: What is the above code doing?"
   ]
  },
  {
   "cell_type": "markdown",
   "metadata": {},
   "source": [
    "loops through a list of values ranging from 0-10 and if the value is divisible by 2, it prints it out. "
   ]
  },
  {
   "cell_type": "markdown",
   "metadata": {},
   "source": [
    "### Using `and` and `or`:\n",
    "\n",
    "We can also perform `if` statements using multiple conditions. Let's say we want all the numbers in the range from 0 to 10 that are greater than 5 **and** divisible by 2. How might we do that? Review and run the code below. Make sure you understand what's happening."
   ]
  },
  {
   "cell_type": "code",
   "execution_count": null,
   "metadata": {},
   "outputs": [],
   "source": [
    "for i in range(11):\n",
    "    # If the value is greater than 5 and divisible by two, print it\n",
    "    # Notice that the word \"and\" is bold and in green, this means it serves a special purpose in Python\n",
    "    if i > 5 and i%2 == 0:\n",
    "        print(i)"
   ]
  },
  {
   "cell_type": "markdown",
   "metadata": {},
   "source": [
    "Now, what if we replace that `and` statement with an `or` statement? Try running the code!"
   ]
  },
  {
   "cell_type": "code",
   "execution_count": null,
   "metadata": {},
   "outputs": [],
   "source": [
    "for i in range(11):\n",
    "    # If the value is greater than five or divisible by 2, print it\n",
    "    # Notice that the word \"or\" is also bold and in green\n",
    "    if i > 5 or i%2==0:\n",
    "        print(i)"
   ]
  },
  {
   "cell_type": "markdown",
   "metadata": {},
   "source": [
    "**Question**: How is the `or` statement different than the `and` statement?"
   ]
  },
  {
   "cell_type": "markdown",
   "metadata": {},
   "source": [
    "Or is just one or the other has to happen, and means that both has to happen"
   ]
  },
  {
   "cell_type": "markdown",
   "metadata": {},
   "source": [
    "**Challenge Task:** Define `x` to be a list of the numbers 1 through 10. For all the numbers in `x`, if that number is even, remove that number from the list. Create a cell below and type your answer there. It will prove helpful for you to [search the web](https://stackoverflow.com/questions/2793324/is-there-a-simple-way-to-delete-a-list-element-by-value)  to find the function for removing an object from a list. Don't worry about spending a ton of time on this, if you can't figure it out, just make a note of that and we'll take a look at it in class as a group."
   ]
  },
  {
   "cell_type": "code",
   "execution_count": 6,
   "metadata": {},
   "outputs": [
    {
     "name": "stdout",
     "output_type": "stream",
     "text": [
      "[1, 3, 5, 7, 9]\n"
     ]
    }
   ],
   "source": [
    "# Put your code here\n",
    "x = [1,2,3,4,5,6,7,8,9,10]\n",
    "for i in x:\n",
    "    if i % 2 == 0:\n",
    "        x.remove(i)\n",
    "print(x)"
   ]
  },
  {
   "cell_type": "markdown",
   "metadata": {},
   "source": [
    "---\n",
    "## 3. More complex `if` statements\n",
    "\n",
    "Sometimes just using several simple `if` statements in our code isn't enough to make sure the program does what it is supposed to do. Other times even more complicated `if` statements that use `and` or `or` to combine multiple conditional statements aren't sufficent either, so what do we do then?\n",
    "\n",
    "You may often discover that you need to solve a problem that requires the code to do one thing if a particular condition is true and *something else* if that condition is not true. This is where the `else` command comes into play. Basically, the program knows to execute a certain piece of code when the `if` statement is true and a different piece of code for all other cases.\n",
    "\n",
    "We can actually build even more complicated code by using the `elif` or \"else-if\" statement, which is basically a second `if` statement that is only executed if the first `if` statement was not satisfied. We can even tag an `else` on the end of all of that as well. Below is a diagram that helps illustrate the flow of an `if-elif-else` statement.\n",
    "\n",
    "![If_Flow](https://cdn.programiz.com/sites/tutorial2program/files/Python_if_elif_else_statement.jpg)\n",
    "\n",
    "**Now**, watch the following video to get a sense for how all of these statements work together. The video starts out with some simple examples and then builds a progressively more complex bit of code that uses a combination of an `if` statement, a few `elif` statements, and a final `else` statement."
   ]
  },
  {
   "cell_type": "code",
   "execution_count": null,
   "metadata": {},
   "outputs": [],
   "source": [
    "# Don't forget to watch the video in full-screen mode!\n",
    "from IPython.display import YouTubeVideo  \n",
    "YouTubeVideo(\"8_wSb927nH0\",width=640,height=360)  # Complex if statements"
   ]
  },
  {
   "cell_type": "markdown",
   "metadata": {},
   "source": [
    "**Question**: Let's say that you were recently promoted to manager at work. While you're excited about all of the extra money that comes with the new position, you've started to realize that there's a bunch of extra responsbility associated with the job as well. One of those responsibilities is to create the work schedule based on all of the preferences of your new minions. You're thinking that you might be able to use a bit of Python to figure out which hours each person should work. Your employees have made the following requests:\n",
    "\n",
    "* Luke would like to work in the morning\n",
    "* Ningyu would like to work in the evening\n",
    "* Nate didn't submit his request\n",
    "* Justin would like to work in the evening\n",
    "* Katrina would like to work in the evening\n",
    "* Jacob would like to work in the morning\n",
    "\n",
    "Create a `for` loop that loops through the list of employee names (provided below) and prints out the following statements based on their preferences:\n",
    "\n",
    "* If the employee requested mornings, print \"You have to work from 9am-12pm.\"\n",
    "* If the employee requested evenings, print \"You have to work from 6-9pm.\"\n",
    "* If the employee failed to submit a request, print \"You have to work from 12-6pm.\"\n",
    "\n",
    "You can use any combination of `if`, `elif`, and `else` statements to get the job done."
   ]
  },
  {
   "cell_type": "code",
   "execution_count": 12,
   "metadata": {},
   "outputs": [
    {
     "name": "stdout",
     "output_type": "stream",
     "text": [
      "Luke, you have to work from 9am-12pm.\n",
      "Ningyu, you have to work from 6-9pm.\n",
      "Nate, you have to work from 12-6pm.\n",
      "Justin, you have to work from 6-9pm.\n",
      "Katrina, you have to work from 6-9pm.\n",
      "Jacob, you have to work from 6-9pm.\n"
     ]
    }
   ],
   "source": [
    "employees = ['Luke', 'Ningyu', 'Nate', 'Justin', 'Katrina', 'Jacob']\n",
    "\n",
    "morning_ls = [\"Luke\"]\n",
    "evening_ls = [\"Ningyu\", \"Justin\", \"Katrina\", \"Jacob\"]\n",
    "\n",
    "\n",
    "for employee in employees:\n",
    "    if employee in morning_ls:\n",
    "        print(\"%s, you have to work from 9am-12pm.\" %employee)\n",
    "    elif employee in evening_ls:\n",
    "        print(\"%s, you have to work from 6-9pm.\" % employee)\n",
    "    else:\n",
    "        print(\"%s, you have to work from 12-6pm.\" % employee)\n"
   ]
  },
  {
   "cell_type": "markdown",
   "metadata": {},
   "source": [
    "___\n",
    "## 4 Introduction to functions\n",
    "\n",
    "The last bit of this assignment is designed to get you start thinking about an extremely useful tool in Python, the Python **function** construct!\n",
    "\n",
    "Functions in Python are really handy when you have a bit of code that serves a specific purpose and you want to be able to use that bit of code over and over again without having to copy and paste it repeatedly. It also means that if you need to change how that code works, you can change the code inside the function and you don't have to change that code in several different places. Functions can also make your code much easier to read because you can compartmentalize your code into separate functions and then just call those function in the main body of your code.\n",
    "\n",
    "### 4.1 What are functions and why would we use them?\n",
    "\n",
    "Watch the following video for an overview of what functions are and why they can be **extremely useful!**"
   ]
  },
  {
   "cell_type": "code",
   "execution_count": 16,
   "metadata": {
    "scrolled": false
   },
   "outputs": [
    {
     "data": {
      "image/jpeg": "[encoded data removed]",
      "text/html": [
       "\n",
       "        <iframe\n",
       "            width=\"640\"\n",
       "            height=\"360\"\n",
       "            src=\"https://www.youtube.com/embed/kY3yMXUu5qY\"\n",
       "            frameborder=\"0\"\n",
       "            allowfullscreen\n",
       "        ></iframe>\n",
       "        "
      ],
      "text/plain": [
       "<IPython.lib.display.YouTubeVideo at 0x10ae0a0b8>"
      ]
     },
     "execution_count": 16,
     "metadata": {},
     "output_type": "execute_result"
    }
   ],
   "source": [
    "# Don't forget to watch the video in full-screen mode!\n",
    "from IPython.display import YouTubeVideo\n",
    "YouTubeVideo(\"kY3yMXUu5qY\",width=640,height=360) # Intro to Functions!"
   ]
  },
  {
   "cell_type": "markdown",
   "metadata": {},
   "source": [
    "**Question**: In your own words, explain what a function is and why it is a very useful tool in programming?"
   ]
  },
  {
   "cell_type": "markdown",
   "metadata": {},
   "source": [
    "It basically lets you set some code somewhere and reuse it over and over. You would do this because it gets annoying to rewrite code over and over and you can use it for different problems in multiple place"
   ]
  },
  {
   "cell_type": "markdown",
   "metadata": {},
   "source": [
    "**Question**: What are the three main things that functions provide?"
   ]
  },
  {
   "cell_type": "markdown",
   "metadata": {},
   "source": [
    "Reusability, Modularity, Utility"
   ]
  },
  {
   "cell_type": "markdown",
   "metadata": {},
   "source": [
    "### 4.2 How do we write functions in Python?\n",
    "\n",
    "Watch the following video, to learn how functions are written in Python."
   ]
  },
  {
   "cell_type": "code",
   "execution_count": 17,
   "metadata": {},
   "outputs": [
    {
     "data": {
      "image/jpeg": "[encoded data removed]",
      "text/html": [
       "\n",
       "        <iframe\n",
       "            width=\"640\"\n",
       "            height=\"360\"\n",
       "            src=\"https://www.youtube.com/embed/HWzDv1UHLZo\"\n",
       "            frameborder=\"0\"\n",
       "            allowfullscreen\n",
       "        ></iframe>\n",
       "        "
      ],
      "text/plain": [
       "<IPython.lib.display.YouTubeVideo at 0x10ae0acc0>"
      ]
     },
     "execution_count": 17,
     "metadata": {},
     "output_type": "execute_result"
    }
   ],
   "source": [
    "# Don't forget to watch the video in full-screen mode!\n",
    "from IPython.display import YouTubeVideo\n",
    "YouTubeVideo(\"HWzDv1UHLZo\",width=640,height=360) # How do we write functions?"
   ]
  },
  {
   "cell_type": "markdown",
   "metadata": {},
   "source": [
    "**Question**: What are the four main pieces that make up a function in Python?"
   ]
  },
  {
   "cell_type": "markdown",
   "metadata": {},
   "source": [
    "Name, Purpose, input(s), Result(s)"
   ]
  },
  {
   "cell_type": "markdown",
   "metadata": {},
   "source": [
    "**Question**: What is the critical term needed to initially define a function?"
   ]
  },
  {
   "cell_type": "markdown",
   "metadata": {},
   "source": [
    "def"
   ]
  },
  {
   "cell_type": "markdown",
   "metadata": {},
   "source": [
    "**Question**: How do you ensure that the results are your function are output in a way that will allow you to store the results in a new variable?"
   ]
  },
  {
   "cell_type": "markdown",
   "metadata": {},
   "source": [
    "you return the value "
   ]
  },
  {
   "cell_type": "markdown",
   "metadata": {},
   "source": [
    "### 4.3 Practice with writing functions\n",
    "\n",
    "Watch the following video to review how you can write functions in Python. Pay attention to the different ways that you can output information from functions and input variables into functions."
   ]
  },
  {
   "cell_type": "code",
   "execution_count": null,
   "metadata": {},
   "outputs": [],
   "source": [
    "# Don't forget to watch the video in full-screen mode!\n",
    "from IPython.display import YouTubeVideo\n",
    "YouTubeVideo(\"EXO3WYqlA6A\",width=640,height=360) # Practice writing functions"
   ]
  },
  {
   "cell_type": "markdown",
   "metadata": {},
   "source": [
    "**Question**: Create a Python function that takes three numbers as inputs and __*prints*__ the average of those three numbers. Call your function \"compute_average\". Test your function to make sure it works!"
   ]
  },
  {
   "cell_type": "code",
   "execution_count": 14,
   "metadata": {},
   "outputs": [
    {
     "name": "stdout",
     "output_type": "stream",
     "text": [
      "3.0\n"
     ]
    }
   ],
   "source": [
    "# Put your code here\n",
    "def compute_average(num1,num2,num3):\n",
    "    print((num1+num2+num3)/3)\n",
    "    #by the way that's gross\n",
    "\n",
    "compute_average(1,3,5)"
   ]
  },
  {
   "cell_type": "markdown",
   "metadata": {},
   "source": [
    "**Question**: Write a function that takes an $a$, $b$, and $c$ value and __*returns*__ the value of $2a^2 - 4b + c$. Test your function to make sure it works!"
   ]
  },
  {
   "cell_type": "code",
   "execution_count": 15,
   "metadata": {},
   "outputs": [
    {
     "name": "stdout",
     "output_type": "stream",
     "text": [
      "4\n"
     ]
    }
   ],
   "source": [
    "def math_prob(a,b,c):\n",
    "    return (2*a**2 - 4*b + c)\n",
    "\n",
    "print(math_prob(3,5,6))\n"
   ]
  },
  {
   "cell_type": "markdown",
   "metadata": {},
   "source": [
    "**For more information on defining functions in python, check out these links:**\n",
    "* [Tutorial on functions in python](https://docs.python.org/3/tutorial/controlflow.html#defining-functions)\n",
    "* [Dive Into Python - section on functions](http://www.diveintopython3.net/your-first-python-program.html#declaringfunctions)\n",
    "\n",
    "**Important**: One of the things you should remember is that when you want a function to return a values (rather than just print it), the `return` command needs to go at the end of the function. The moment a function comes across a `return` statement, it will exit the function and ignore any code that comes later in the function. The exception to this is when a function has mutiple return statements that are called only when certain conditions are true."
   ]
  },
  {
   "cell_type": "markdown",
   "metadata": {},
   "source": [
    "---\n",
    "## Assignment wrap-up\n",
    "\n",
    "Please fill out the form that appears when you run the code below.  **You must completely fill this out in order to receive credit for the assignment!**"
   ]
  },
  {
   "cell_type": "code",
   "execution_count": 18,
   "metadata": {},
   "outputs": [
    {
     "data": {
      "text/html": [
       "\n",
       "<iframe \n",
       "\tsrc=\"https://goo.gl/forms/sXZV9aCv65BPVtkc2\" \n",
       "\twidth=\"800\" \n",
       "\theight=\"800px\" \n",
       "\tframeborder=\"0\" \n",
       "\tmarginheight=\"0\" \n",
       "\tmarginwidth=\"0\">\n",
       "\tLoading...\n",
       "</iframe>\n"
      ],
      "text/plain": [
       "<IPython.core.display.HTML object>"
      ]
     },
     "execution_count": 18,
     "metadata": {},
     "output_type": "execute_result"
    }
   ],
   "source": [
    "from IPython.display import HTML\n",
    "HTML(\n",
    "\"\"\"\n",
    "<iframe \n",
    "\tsrc=\"https://goo.gl/forms/sXZV9aCv65BPVtkc2\" \n",
    "\twidth=\"800\" \n",
    "\theight=\"800px\" \n",
    "\tframeborder=\"0\" \n",
    "\tmarginheight=\"0\" \n",
    "\tmarginwidth=\"0\">\n",
    "\tLoading...\n",
    "</iframe>\n",
    "\"\"\"\n",
    ")"
   ]
  },
  {
   "cell_type": "markdown",
   "metadata": {},
   "source": [
    "### Congratulations, you're done!\n",
    "\n",
    "Submit this assignment by uploading it to the course Desire2Learn web page.  Go to the \"Pre-class assignments\" folder, find the appropriate dropbox link, and upload it there.\n",
    "\n",
    "See you in class!"
   ]
  }
 ],
 "metadata": {
  "kernelspec": {
   "display_name": "Python 3",
   "language": "python",
   "name": "python3"
  },
  "language_info": {
   "codemirror_mode": {
    "name": "ipython",
    "version": 3
   },
   "file_extension": ".py",
   "mimetype": "text/x-python",
   "name": "python",
   "nbconvert_exporter": "python",
   "pygments_lexer": "ipython3",
   "version": "3.7.0"
  }
 },
 "nbformat": 4,
 "nbformat_minor": 2
}
