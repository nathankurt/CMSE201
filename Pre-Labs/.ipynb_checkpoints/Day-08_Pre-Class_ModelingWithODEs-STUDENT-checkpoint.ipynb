{
 "cells": [
  {
   "cell_type": "markdown",
   "metadata": {},
   "source": [
    "### <p style=\"text-align: right;\"> &#9989; Put your name here</p>"
   ]
  },
  {
   "cell_type": "markdown",
   "metadata": {},
   "source": [
    "# Day 8: Pre-class Assignment: Modeling with Ordinary Different Equations\n",
    "\n",
    "<img src=\"https://i2.wp.com/sportey.org/wp-content/uploads/2016/09/sky-diving-main.jpg\" width= 400><p style=\"text-align: right;\">\n",
    "</p>"
   ]
  },
  {
   "cell_type": "markdown",
   "metadata": {},
   "source": [
    "### Goals for today's pre-class assignment\n",
    "In this assignment, you will:\n",
    "\n",
    "* Recall some of the things you learned in your Calc I course (derivatives and limits).\n",
    "* Build on that knowledge to allow you to be able to understand and solve simple differential equations. (Don't panic if you have not yet taken a course on differential equations! We'll cover all of the things you need to know to develop the models for this assignment and other upcoming assignments.)\n",
    "* Explore how you can use functions to define derivatives that model the evolution of a physical system.\n",
    "* Review how loops can be used to update the state of an evolving system.\n",
    "* Use <code>matplotlib</code> to plot the evolution of the system.\n",
    "* Use NumPy when necessary to manipulate arrays or perform mathematical operations\n",
    "\n",
    "### Assignment instructions\n",
    "\n",
    "In this assignment you're going to watch a series of videos that walk you through what Ordinary Different Equations (ODEs) are and how you can use them to model physical systems. This will begin our foray into the world of computational modeling!\n",
    "\n",
    "Although this assignment looks like a lot at first glance, the bulk of your time will be spent watching the videos. You'll then take what you learn and make minor modifications to provided code. That said, make sure you give yourself enough to watch the videos as the information presented will be useful more than once in this course!\n",
    "\n",
    "**This assignment is due by 11:59 p.m. the day before class,** and should be uploaded into the \"Pre-class assignments\" submission folder for Day 8.  Submission instructions can be found at the end of the notebook.\n",
    "\n",
    "---"
   ]
  },
  {
   "cell_type": "markdown",
   "metadata": {},
   "source": [
    "___\n",
    "## Role of ODEs in Computational Modeling\n",
    "\n",
    "It is an obvious statement that we very often use equations in computational modeling. It is also an obvious statement that many interesting things we wish to model involve things that are changing:\n",
    "* changing in time\n",
    "* changing in space\n",
    "* changing minds\n",
    "* changing strategies\n",
    "* changing numbers (of people,  molecules, stars, etc.)\n",
    "* changing stock prices\n",
    "* you get the idea.....\n",
    "\n",
    "In mathematics, the way we describe change is with calculus and derivatives in particular. When an equation has a derivative in it, it is called a \"[differential equation](https://en.wikipedia.org/wiki/Differential_equation)\" (as opposed to, say, an algebraic equation). We'll keep it simple here and only consider what are called \"[ordinary differential equations](https://en.wikipedia.org/wiki/Differential_equation#Ordinary_differential_equations)\" (ODEs), because who would want to think about abnormal differential equations? ;^)\n",
    "\n",
    "The types of equations can be used to model many diferent systems and in this assignment we'll see how they can be used to model the free-fall of a skydiver. \n",
    "\n",
    "So, here is the plan for the next week and a half. \n",
    "\n",
    "* In this pre-class you will learn the basics of differential equations and how they can be solved in Python.\n",
    "* In the next in-class assignment you will apply what you've learned to model the motion of a bungee jumper. \n",
    "* Then, next week we will start a new topic of _Compartmental Modeling_. That week nearly everything we do will use [`odeint`](https://docs.scipy.org/doc/scipy-0.19.1/reference/generated/scipy.integrate.odeint.html); we want you to be very good at `odeint` by the end of this week so that you can focus on modeling. You will model rumors, infectious diseases, weather, zombies, ecology and viral infections. \n",
    "\n",
    "Your first task is to watch the following video. This video will introduce you to what differential equations are and how they can be used to model the motion of a skydiver. "
   ]
  },
  {
   "cell_type": "code",
   "execution_count": null,
   "metadata": {},
   "outputs": [],
   "source": [
    "from IPython.display import YouTubeVideo\n",
    "YouTubeVideo(\"DCi_6-TPoRE\",width=640,height=360)"
   ]
  },
  {
   "cell_type": "markdown",
   "metadata": {},
   "source": [
    "**Question**: Explain in your own words what differential equations are and how they can be used to model a physical system."
   ]
  },
  {
   "cell_type": "markdown",
   "metadata": {},
   "source": [
    "*Put your response here*"
   ]
  },
  {
   "cell_type": "markdown",
   "metadata": {},
   "source": [
    "---\n",
    "# Modeling the motion of a skydiver\n",
    "\n",
    "Now you're going to watch a video that walks you through the process of using a set of different equations and model the motion of a skydiver. Once you've watched the video, you'll modify the code from the video (provided below) to take into account air resistance."
   ]
  },
  {
   "cell_type": "code",
   "execution_count": null,
   "metadata": {},
   "outputs": [],
   "source": [
    "from IPython.display import YouTubeVideo\n",
    "YouTubeVideo(\"5qzv8vZiCg8\",width=640,height=360)"
   ]
  },
  {
   "cell_type": "markdown",
   "metadata": {},
   "source": [
    "---\n",
    "## Review of the model for a falling skydiver without air resistance\n",
    "\n",
    "**The following information provides a recap of the content discussed in the video so that you don't have constantly jump back and forth in the video.**"
   ]
  },
  {
   "cell_type": "markdown",
   "metadata": {},
   "source": [
    "For simplicity, we're going to model this problem in only one dimension. We'll define this dimension to be \"height,\" which we'll call \"$h$\".\n",
    "\n",
    "We know that the **change in height** over some **change in time** is the **velocity** of the sky-diver, which we can write as:\n",
    "\n",
    "$$ \\frac{dh}{dt} = v$$\n",
    "\n",
    "where we can think of **dh** as some small change in the height and **dt** is some small change in time. \n",
    "\n",
    "Similarly, a **change in velocity** over **change in time** is the **acceleration**, which we can write as:\n",
    "\n",
    "$$ \\frac{dv}{dt} = a$$\n",
    "\n",
    "Now, if we combine these equations with the **initial conditions** of the skydiver, we have what is often referred to as an **initial value problem**.\n",
    "\n",
    "If we want to solve this system **numerically**, one way that we can do it is to use a set of **\"update equations\"**, that allow us to move the skydiver from one point in time to another. The simplest set of update equations we can use are the following:\n",
    "\n",
    "$$h_{\\mathrm{new}} = h_{\\mathrm{old}} + \\frac{dh}{dt}\\Delta t$$\n",
    "\n",
    "$$v_{\\mathrm{new}} = v_{\\mathrm{old}} + \\frac{dv}{dt}\\Delta t$$\n",
    "\n",
    "and since we know that $\\frac{dh}{dt} = v$ and $\\frac{dv}{dt} = a$, we can also write these equations this way:\n",
    "\n",
    "$$h_{\\mathrm{new}} = h_{\\mathrm{old}} + v~\\Delta t$$\n",
    "\n",
    "$$v_{\\mathrm{new}} = v_{\\mathrm{old}} + a~\\Delta t$$"
   ]
  },
  {
   "cell_type": "markdown",
   "metadata": {},
   "source": [
    "#### What else do we need to know to solve this this problem?\n",
    "\n",
    "Do we know what the initial conditions are? Do we know what the value of the acceleration, $a$, is?"
   ]
  },
  {
   "cell_type": "markdown",
   "metadata": {},
   "source": [
    "We first will begin by assuming: \n",
    "\n",
    "* $h_0 = 3000$ meters\n",
    "* $v_0 = 0$ meters/second\n",
    "* $g = -9.81$ gravity: meters/second^2\n",
    "* $t_{max} = 30$ falling duration: seconds\n",
    "* $dt = 1$ timestep"
   ]
  },
  {
   "cell_type": "markdown",
   "metadata": {},
   "source": [
    "**The following code is the same code from the video you watched above. This code numerically solves for the motion of the skydiver and plots the result. Review each line of code an make sure you understand what it's doing and then execute the code.**"
   ]
  },
  {
   "cell_type": "code",
   "execution_count": 2,
   "metadata": {},
   "outputs": [
    {
     "data": {
      "image/png": "[encoded data removed]",
      "text/plain": [
       "<Figure size 432x288 with 1 Axes>"
      ]
     },
     "metadata": {},
     "output_type": "display_data"
    },
    {
     "data": {
      "image/png": "[encoded data removed]",
      "text/plain": [
       "<Figure size 432x288 with 1 Axes>"
      ]
     },
     "metadata": {},
     "output_type": "display_data"
    }
   ],
   "source": [
    "# Import modules\n",
    "import matplotlib.pyplot as plt\n",
    "%matplotlib inline\n",
    "\n",
    "# Initialize variables\n",
    "h = 2000 # initial height: m\n",
    "v = 0 # initial velocoty: m/s \n",
    "g = -9.81 # gravity: m/s^2\n",
    "t = 0 # initial time\n",
    "tmax = 30 # Falling time\n",
    "dt = .1 # timestep\n",
    "area = .4\n",
    "mass = 80\n",
    "\n",
    "# Initialize lists for storing data\n",
    "height = []\n",
    "velocity = []\n",
    "time = []\n",
    "\n",
    "# Append initial values to lists\n",
    "height.append(h)\n",
    "velocity.append(v)\n",
    "time.append(t)\n",
    "\n",
    "# Create a function to compute derivaives of velocity and height\n",
    "def derivs(v,g):\n",
    "    \n",
    "    # derivative of height is velocity\n",
    "    dhdt = v\n",
    "    \n",
    "    a_air = ((-.65) * area * dhdt * abs(dhdt))/mass\n",
    "    # derivative of velocity is acceleration (gravity in this e.g.)\n",
    "    dvdt = g + a_air\n",
    "    \n",
    "    return dhdt, dvdt\n",
    "\n",
    "# Create a time loop that will update the skydiver over time\n",
    "# Use a while loop that will loop until t > tmax\n",
    "while t <= tmax:\n",
    "    \n",
    "    # Compute derivatives for use in update equations\n",
    "    dhdt, dvdt = derivs(v,g)\n",
    "    # Update Equations\n",
    "    h_new = h + dhdt*dt # new height\n",
    "    \n",
    "    v_new = v + dvdt*dt # new velocity\n",
    "    \n",
    "    # Append values to height and velocity lists\n",
    "    height.append(h_new)\n",
    "    velocity.append(v_new)\n",
    "    \n",
    "    # Update old height/velocity with new height\n",
    "    h = h_new\n",
    "    v = v_new\n",
    "    \n",
    "    # Increase time\n",
    "    t += dt # t = t + dt\n",
    "    \n",
    "    # Update time list\n",
    "    time.append(t)\n",
    "    \n",
    "# Plotting height/velocity vs time \n",
    "plt.figure(1)\n",
    "plt.plot(time, height, color = 'green')\n",
    "plt.xlabel('Time [seconds]')\n",
    "plt.ylabel('Height [meters]')\n",
    "plt.grid()\n",
    "\n",
    "plt.figure(2)\n",
    "plt.plot(time, velocity, color = 'purple')\n",
    "plt.xlabel('Time [seconds]')\n",
    "plt.ylabel('Veloctiy [meters/second]')\n",
    "plt.grid()"
   ]
  },
  {
   "cell_type": "markdown",
   "metadata": {},
   "source": [
    "**Question:** If you want the model to stop when the skydiver hits the ground (going far too fast at the moment!), how might you build that into the model?"
   ]
  },
  {
   "cell_type": "markdown",
   "metadata": {},
   "source": [
    "you could change the t <= tmax to something like while h > 0 or something like that. "
   ]
  },
  {
   "cell_type": "markdown",
   "metadata": {},
   "source": [
    "---\n",
    "## Adding air resistance to the model\n",
    "\n",
    "As we can see from our plots above, without air resistance the skydiver continously accelerates under the force of gravity. If they start high enough, they could reach *very high* velocities!  In reality, we know that this isn't how skydiving works, eventually the skydiver reaches what we call **terminal velocity**, which is the point at which the acceleration due to gravity is balanced by the acceleration due to air resistance, or drag, which opposes the motion of the skydiver.\n",
    "\n",
    "The acceleration due to friction with the air acts to slow down skydiver and is dependent on the skydiver's velocity. It is defined to be:\n",
    "\n",
    "$$a_{\\mathrm{air}} = \\frac{-0.65~A~v~\\left|v\\right|}{m}$$\n",
    "\n",
    "In this equation, $A$ is the projected area of the skydiver, $\\left|v\\right|$ is the absolute value of the velocity, and the $m$ is the mass of skydiver. When computing the *total* acceleration of the skydiver, we need to combine both the acceleration due to gravity *and* the acceleration due to air resistance. That makes the total acceleration:\n",
    "\n",
    "$$a_{\\mathrm{total}} = a_{\\mathrm{gravity}} + a_{\\mathrm{air}}$$\n",
    "\n",
    "As before, you are going to **model the free-fall of the sky-diver for a total of 30 seconds**, but now you need to take into account air resistance. You can assume that the projected area of the skydiver is **0.4 m$^2$** and their mass is **80 kg**. Also assume that the skydiver is jumping out of a helicopter at **an initial height of 2000 m** and use **a new timestep size of 0.1 seconds**.\n",
    "\n",
    "Ideally, you should find that eventually the skydiver approaches a constant velocity when the acceleration due to gravity is matched by the acceleration due to friction. \n",
    "\n",
    "**Modify the above code** (don't write new code from scratch!) to account for air resistance in the model while using the provided area of the skydiver and the new initial height. Make sure that your new plots make sense. You should see that the velocity flattens out to a constant value, the terminal velocity. If you can, create a list to store the acceleration and make a plot of that as well."
   ]
  },
  {
   "cell_type": "markdown",
   "metadata": {},
   "source": [
    "**Question**: Based on your results, what does the terminal velocity of the skydiver appear to be?"
   ]
  },
  {
   "cell_type": "markdown",
   "metadata": {},
   "source": [
    "about -55 m/s"
   ]
  },
  {
   "cell_type": "markdown",
   "metadata": {},
   "source": [
    "---\n",
    "## Modeling the falling skydiver using ODEINT\n",
    "\n",
    "As with many computational models, there is often more than one way to find a solution. In fact, Python has a software library called SciPy that includes a tool for solving sets of differential questions called `odeint`.\n",
    "\n",
    "Watch the following video to learn how we can use this tool to model the motion of the skydiver. The SciPy documentation highlighted in the video can be found [here](https://docs.scipy.org/doc/scipy/reference/generated/scipy.integrate.odeint.html)."
   ]
  },
  {
   "cell_type": "code",
   "execution_count": 3,
   "metadata": {},
   "outputs": [
    {
     "data": {
      "image/jpeg": "[encoded data removed]",
      "text/html": [
       "\n",
       "        <iframe\n",
       "            width=\"640\"\n",
       "            height=\"360\"\n",
       "            src=\"https://www.youtube.com/embed/QteGO3E0tZg\"\n",
       "            frameborder=\"0\"\n",
       "            allowfullscreen\n",
       "        ></iframe>\n",
       "        "
      ],
      "text/plain": [
       "<IPython.lib.display.YouTubeVideo at 0x116bf6860>"
      ]
     },
     "execution_count": 3,
     "metadata": {},
     "output_type": "execute_result"
    }
   ],
   "source": [
    "from IPython.display import YouTubeVideo\n",
    "YouTubeVideo(\"QteGO3E0tZg\",width=640,height=360)"
   ]
  },
  {
   "cell_type": "markdown",
   "metadata": {},
   "source": [
    "---\n",
    "## Reviewing the ODEINT solution for the skydiver problem.\n",
    "\n",
    "The code below is the same code used in the video to model the skydiver using the SciPy `odeint` tool. **Review the code and make sure you understand each line then execute the code.**"
   ]
  },
  {
   "cell_type": "code",
   "execution_count": 8,
   "metadata": {},
   "outputs": [
    {
     "data": {
      "image/png": "[encoded data removed]",
      "text/plain": [
       "<Figure size 432x288 with 1 Axes>"
      ]
     },
     "metadata": {},
     "output_type": "display_data"
    },
    {
     "data": {
      "image/png": "[encoded data removed]",
      "text/plain": [
       "<Figure size 432x288 with 1 Axes>"
      ]
     },
     "metadata": {},
     "output_type": "display_data"
    }
   ],
   "source": [
    "# Import commands\n",
    "import numpy as np\n",
    "import matplotlib.pyplot as plt\n",
    "%matplotlib inline\n",
    "from scipy.integrate import odeint # This one is new to you!\n",
    "\n",
    "# Derivative function\n",
    "def derivs(curr_vals, time):\n",
    "    \n",
    "    # Declare parameters\n",
    "    g = -9.81 # m/s^2\n",
    "    area = .4\n",
    "    mass = 80\n",
    "    # Unpack the current values of the variables we wish to \"update\" from the curr_vals list\n",
    "    h, v = curr_vals\n",
    "    \n",
    "    # Right-hand side of odes, which are used to computer the derivative\n",
    "    dhdt = v\n",
    "    a_air = ((-.65) * area * dhdt * abs(dhdt))/mass\n",
    "    dvdt = g + a_air\n",
    "    \n",
    "    return dhdt, dvdt\n",
    "\n",
    "# Declare Variables for initial conditions\n",
    "h0 = 2000 # meters\n",
    "v0 = 0 # m/s\n",
    "tmax = 30 # seconds\n",
    "dt = .1 # seconds\n",
    "\n",
    "# Define the time array\n",
    "time = np.arange(0, tmax + dt, dt)\n",
    "\n",
    "# Store the initial values in a list\n",
    "init = [h0, v0]\n",
    "\n",
    "# Solve the odes with odeint\n",
    "sol = odeint(derivs, init, time)\n",
    "\n",
    "# Plot the results using the values stored in the solution variable, \"sol\"\n",
    "\n",
    "# Plot the height using the \"0\" element from the solution\n",
    "plt.figure(1)\n",
    "plt.plot(time, sol[:,0],color=\"green\")\n",
    "plt.xlabel('Time [s]')\n",
    "plt.ylabel('Height [m]')\n",
    "plt.grid()\n",
    "\n",
    "# Plot the velocity using the \"1\" element from the solution\n",
    "plt.figure(2)\n",
    "plt.plot(time, sol[:,1],color=\"purple\")\n",
    "plt.xlabel('Time [s]')\n",
    "plt.ylabel('Velocity [m/s]')\n",
    "plt.grid()"
   ]
  },
  {
   "cell_type": "markdown",
   "metadata": {},
   "source": [
    "---\n",
    "## Adding air resistance to the ODEINT solution\n",
    "\n",
    "Now you're going to **modify the provided code that uses `odeint`** to include air resistance **using the same parameters you used when you added air resistance previously**. Make sure that the solution is computed for **30 seconds** of skydiver freefall time and ensure that you get plots that look similar to your previous solution. Don't worry about trying to plot the acceleration for this part of the assignment."
   ]
  },
  {
   "cell_type": "markdown",
   "metadata": {},
   "source": [
    "**Question**: Do your plots of the height and velocity of the skydiver from `odeint` agree with your solution when you used the update equations?"
   ]
  },
  {
   "cell_type": "markdown",
   "metadata": {},
   "source": [
    "Yes"
   ]
  },
  {
   "cell_type": "markdown",
   "metadata": {},
   "source": [
    "---\n",
    "### Assignment wrapup\n",
    "\n",
    "Please fill out the form that appears when you run the code below.  **You must completely fill this out in order to receive credit for the assignment!**"
   ]
  },
  {
   "cell_type": "code",
   "execution_count": 9,
   "metadata": {},
   "outputs": [
    {
     "data": {
      "text/html": [
       "\n",
       "<iframe \n",
       "\tsrc=\"https://goo.gl/forms/iGe7Hp2S49JteIur2\" \n",
       "\twidth=\"800\" \n",
       "\theight=\"600px\" \n",
       "\tframeborder=\"0\" \n",
       "\tmarginheight=\"0\" \n",
       "\tmarginwidth=\"0\">\n",
       "\tLoading...\n",
       "</iframe>\n"
      ],
      "text/plain": [
       "<IPython.core.display.HTML object>"
      ]
     },
     "execution_count": 9,
     "metadata": {},
     "output_type": "execute_result"
    }
   ],
   "source": [
    "from IPython.display import HTML\n",
    "HTML(\n",
    "\"\"\"\n",
    "<iframe \n",
    "\tsrc=\"https://goo.gl/forms/iGe7Hp2S49JteIur2\" \n",
    "\twidth=\"800\" \n",
    "\theight=\"600px\" \n",
    "\tframeborder=\"0\" \n",
    "\tmarginheight=\"0\" \n",
    "\tmarginwidth=\"0\">\n",
    "\tLoading...\n",
    "</iframe>\n",
    "\"\"\"\n",
    ")"
   ]
  },
  {
   "cell_type": "markdown",
   "metadata": {},
   "source": [
    "### Congratulations, you're done!\n",
    "\n",
    "Submit this assignment by uploading it to the course D2L web page.  Go to the \"Pre-class assignments\" folder, find the submission link for Day 8, and upload it there.\n",
    "\n",
    "See you in class!"
   ]
  },
  {
   "cell_type": "markdown",
   "metadata": {},
   "source": [
    "&#169; Copyright 2018,  Michigan State University Board of Trustees"
   ]
  }
 ],
 "metadata": {
  "kernelspec": {
   "display_name": "Python 3",
   "language": "python",
   "name": "python3"
  },
  "language_info": {
   "codemirror_mode": {
    "name": "ipython",
    "version": 3
   },
   "file_extension": ".py",
   "mimetype": "text/x-python",
   "name": "python",
   "nbconvert_exporter": "python",
   "pygments_lexer": "ipython3",
   "version": "3.7.0"
  }
 },
 "nbformat": 4,
 "nbformat_minor": 2
}
