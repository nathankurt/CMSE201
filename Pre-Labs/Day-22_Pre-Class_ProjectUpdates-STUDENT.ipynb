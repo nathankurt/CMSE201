{
 "cells": [
  {
   "cell_type": "markdown",
   "metadata": {},
   "source": [
    "## <p style=\"text-align: right;\"> &#9989; Put your name here</p>"
   ]
  },
  {
   "cell_type": "markdown",
   "metadata": {},
   "source": [
    "# Day 22 Pre-class assignment: Making project progress!\n",
    "\n",
    "The purpose of this pre-class assignment is to make sure you're making progress with your semester project. If you haven't really started on your project yet, now is the time!\n",
    "\n",
    "## Goals for today's pre-class assignment \n",
    "\n",
    "</p>\n",
    "1. Work on semester project\n",
    "2. Assess where you're at with your semester project.\n",
    "\n",
    "## Assignment instructions\n",
    "\n",
    "**This assignment is due by 11:59 p.m. the day before class** and should be uploaded into the appropriate \"Pre-class assignments\" dropbox folder in the Desire2Learn website. You should also upload the project update slides that you make!\n"
   ]
  },
  {
   "cell_type": "markdown",
   "metadata": {},
   "source": [
    "---\n",
    "# Project Updates Details\n",
    "\n",
    "At the beginning of the in-class activity for this day will be spending about 20 minutes where each person presents to the other members of the group to update everyone on their project progress and get feedback (~3-4 minutes each), much like we did with the project proposals. It's a great opportunity to give and get ideas from your classmates. Your job is to put together a short set of slides (2-5) that you can upload as a PDF to the D2L dropbox folder along with your notebook. Feel free to include some of the code/visualizations for you project in this notebook as well!\n",
    "\n",
    "Here is what you will want to include in your slides:\n",
    "\n",
    "1. quick review of your project: what is(are) the question(s) you want to answer?\n",
    "\n",
    "2. how have you set out to answer this?\n",
    "\n",
    "3. show progress to date - plots, animations, code, whatever you have so far. If you don't have anything, you might want to spend a bit of time working on it!\n",
    "\n",
    "4. what are the issues you have? are there stumbling blocks? does the data contain what you need to answer the question, or do you need to shift to something different? is your model too complicated to complete?\n",
    "\n",
    "5. what is your plan in the form of a timeline to allow you be complete the project? what form will the answer take?\n",
    "\n",
    "If you're having issues coming up with project information make a note of this in your slides!\n",
    "\n",
    "### The primary goal of this task is to make sure you have a project that’s going somewhere before it’s too late!"
   ]
  },
  {
   "cell_type": "code",
   "execution_count": null,
   "metadata": {},
   "outputs": [],
   "source": [
    "# Put any relevant code examples or visualizations for your project here\n"
   ]
  },
  {
   "cell_type": "markdown",
   "metadata": {},
   "source": [
    "----\n",
    "# Assignment wrap-up\n",
    "\n",
    "Please fill out the form that appears when you run the code below.  **You must completely fill this out in order to receive credit for the assignment!**"
   ]
  },
  {
   "cell_type": "code",
   "execution_count": null,
   "metadata": {},
   "outputs": [],
   "source": [
    "from IPython.display import HTML\n",
    "HTML(\n",
    "\"\"\"\n",
    "<iframe \n",
    "\tsrc=\"https://goo.gl/forms/deMV74ex0BRyHAWw2\" \n",
    "\twidth=\"800px\" \n",
    "\theight=\"600px\" \n",
    "\tframeborder=\"0\" \n",
    "\tmarginheight=\"0\" \n",
    "\tmarginwidth=\"0\">\n",
    "\tLoading...\n",
    "</iframe>\n",
    "\"\"\"\n",
    ")"
   ]
  },
  {
   "cell_type": "markdown",
   "metadata": {},
   "source": [
    "---------\n",
    "### Congratulations, you're done with your pre-class assignment!\n",
    "\n",
    "Now, you just need to submit this assignment by uploading it to the course <a href=\"https://d2l.msu.edu/\">Desire2Learn</a> web page, along with a PDF of your slides, for today's submission folder (Don't forget to add your name in the first cell)."
   ]
  },
  {
   "cell_type": "markdown",
   "metadata": {},
   "source": [
    "&#169; Copyright 2018,  Michigan State University Board of Trustees"
   ]
  }
 ],
 "metadata": {
  "kernelspec": {
   "display_name": "Python 3",
   "language": "python",
   "name": "python3"
  },
  "language_info": {
   "codemirror_mode": {
    "name": "ipython",
    "version": 3
   },
   "file_extension": ".py",
   "mimetype": "text/x-python",
   "name": "python",
   "nbconvert_exporter": "python",
   "pygments_lexer": "ipython3",
   "version": "3.7.0"
  }
 },
 "nbformat": 4,
 "nbformat_minor": 2
}
