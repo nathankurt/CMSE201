{
 "cells": [
  {
   "cell_type": "markdown",
   "metadata": {},
   "source": [
    "### <p style=\"text-align: right;\"> &#9989; Nathan Kurt .</p>\n",
    "\n",
    "#### <p style=\"text-align: right;\"> &#9989; Put your group member names here.</p>"
   ]
  },
  {
   "cell_type": "markdown",
   "metadata": {},
   "source": [
    "# Day 24 In-class Assignment: A simple model for global temperature\n",
    "\n",
    "<img src=\"https://3c1703fe8d.site.internapcdn.net/newman/csz/news/800/2017/listentothee.png\" width=400px>\n",
    "\n",
    "## Goals for today's in-class assignment\n",
    "\n",
    "* Use the simple model you implemented in the pre-class assignment, as well as the datasets that you analyzed in the previous class period, to make models that predict global climate change under a variety of circumstances.\n",
    "\n",
    "## Assignment instructions\n",
    "\n",
    "Work with your group to complete this assignment. Instructions for submitting this assignment are at the end of the notebook. The assignment is due at the end of class.  If you haven't completed all sections of the assignment, you still need to upload something!\n",
    "\n",
    "**In today's class**, we are going to work with the simple climate model you implemented in the pre-class assignment, as well as some of the datasets that you analyzed in the previous class period.  \n",
    "\n",
    "---\n",
    "**Before we do anything else,** check with the members of your group to make sure that you have correctly implemented the model - in particular, that you get the correct increase in temperature for the assumed carbon input!"
   ]
  },
  {
   "cell_type": "markdown",
   "metadata": {},
   "source": [
    "## Step 1: Verify the model parameters using data\n",
    "\n",
    "In the pre-class assignment, we started the model in the year 2000 with a CO$_2$ concentration of 368 parts per million (ppm) and an average global temperature was 14.3° C (57.7° F).  We also assumed that the climate sensitivity factor, S, in the model is 3° C.\n",
    "\n",
    "**Using the average global temperature and CO$_2$ concentration data from last class** (from the files ```GLB.Ts.csv``` and ```co2_mm_mlo.txt```), and assuming that the average global temperature in the year 2000 was **14.3° C** (since the data just provides the temperature *difference*, not the absolute temperature), make your best estimate of the climate sensitivity factor **using the observed data** over the period when you have both temperature and CO$_2$ concentration (approx. 1960 - present). You should overplot your modeled temperature values with the actual temperatures and change the sensitivity factor to see how it changes the results.\n",
    "\n",
    "How close is your \"best fit\" sensitivity value to the assumed 3° C?  In other words, is S = 3° C a reasonable choice?"
   ]
  },
  {
   "cell_type": "code",
   "execution_count": 3,
   "metadata": {},
   "outputs": [],
   "source": [
    "# Put your code here\n",
    "import pandas as pd\n",
    "import matplotlib.pyplot as plt\n",
    "import numpy as np\n",
    "\n"
   ]
  },
  {
   "cell_type": "code",
   "execution_count": 15,
   "metadata": {},
   "outputs": [],
   "source": [
    "air_temps = np.loadtxt(\"GLB.Ts.csv\",unpack= True, skiprows = 1, delimiter=\",\")\n",
    "carbon_di = np.loadtxt(\"co2_mm_mlo.txt\", unpack=True,skiprows = 72)\n",
    "air_temp_change = air_temps[1] / 100\n",
    "carbon_years, real_carbon = carbon_di[2], carbon_di[5]"
   ]
  },
  {
   "cell_type": "code",
   "execution_count": 25,
   "metadata": {},
   "outputs": [
    {
     "data": {
      "image/png": "[encoded data removed]",
      "text/plain": [
       "<Figure size 432x288 with 1 Axes>"
      ]
     },
     "metadata": {},
     "output_type": "display_data"
    },
    {
     "data": {
      "text/plain": [
       "(1960, 2025.03125)"
      ]
     },
     "execution_count": 25,
     "metadata": {},
     "output_type": "execute_result"
    },
    {
     "data": {
      "image/png": "[encoded data removed]",
      "text/plain": [
       "<Figure size 432x288 with 1 Axes>"
      ]
     },
     "metadata": {},
     "output_type": "display_data"
    }
   ],
   "source": [
    "#years = np.arange(2000,2100,0,1)\n",
    "s = 3 # degrees celcius\n",
    "T0 = 14.3\n",
    "C = 368\n",
    "C0 = 368 #parts per million\n",
    "T = T0 + s * np.log2(real_carbon / real_carbon[0])\n",
    "\n",
    "convert = 9/ 2.3 # GTC - > ppm\n",
    "real_temps = 14.3 + air_temp_change\n",
    "\n",
    "plt.plot(carbon_years, real_carbon)\n",
    "plt.xlim(2000)\n",
    "plt.show()\n",
    "\n",
    "plt.plot(carbon_years, T)\n",
    "plt.plot(air_temps[0], real_temps)\n",
    "plt.xlim(1960)"
   ]
  },
  {
   "cell_type": "markdown",
   "metadata": {},
   "source": [
    "## Step 2: Make predictions for the future\n",
    "\n",
    "Now, let's modify the model to make it more sophsticated, and to make some predictions for the future.  Consider the following scenarios, and predict global temperature from the current 2000 until the year 2100:\n",
    "\n",
    "1.  **Baseline model:** A constant 9 gigatons of carbon per year is put into the atmosphere by humans (this is the model you implemented in your pre-class assignment)\n",
    "2.  **Growth model:** The amount of carbon put into the atmosphere actually grows: starting at 7 gigatons/year in 2000, and increasing by 0.1 gigatons/year for every additional year thereafter (to represent increased reliance on fossil fuels).\n",
    "3.  **\"Get it under control\" model:** The amount of carbon put into the atmosphere starts at 7 gigatons/year in 2000, increases by 0.1 gigatons/year until 2020, and then decreases by 0.1 gigatons/year until 2100.\n",
    "4.  **\"Carbon sequestration\" model:** The amount of carbon put into the atmosphere starts at 7 gigatons/year in 2000, increases by 0.1 gigatons/year until 2020, and then decreases by 0.5 gigatons/year until it reaches -5 gigatons/year (indicating that we have developed some means of \"sequestering\" carbon -- in other words, removing it from the atmosphere.\n",
    "5.  **Your own scenario:** Given your thoughts about climate change and humanity's ability to reduce CO$_2$ emission, devise your own scenario!\n",
    "\n",
    "Make plots of the global CO$_2$ concentration, average global temperature, and the rate of human carbon emission each year for each of these scenarios, plotted on the same subplot.  Create a key for the plots so we can tell which lines correspond to which scenario!\n",
    "\n",
    "Also, in what scenarios do we avoid increasing global temperatues by no more than 2° C from the current temperature?  Experts consider that to be the global temperature increase that will have [catastrophic climate consequences](http://www.pbs.org/newshour/bb/why-2-degrees-celsius-is-climate-changes-magic-number/), and thus is a critical target for climate models.\n"
   ]
  },
  {
   "cell_type": "code",
   "execution_count": null,
   "metadata": {},
   "outputs": [],
   "source": [
    "# Put your code here\n",
    "def baseline(): \n",
    "    \n",
    "    \n",
    "def baseline2(): \n",
    "    "
   ]
  },
  {
   "cell_type": "markdown",
   "metadata": {},
   "source": [
    "## Step 3:  How does this impact sea level?\n",
    "\n",
    "One major concern with regards to climate change is that global warming will cause a rise in [sea level](https://climate.nasa.gov/vital-signs/sea-level/), which comes from both melting glaciers and ice caps and from the expansion of water as it warms.  This will have significant consequences for ecosystems and also for humans - most of the Earth's population lives close to the ocean, and increased sea level will increase the dangers from flooding and the impact of hurricanes and cyclones, and will displace huge numbers of people in low-lying countries from their homes.\n",
    "\n",
    "A recent paper by [Levermann et al. (2013, PNRAS, 110, 13745)](http://www.pik-potsdam.de/~anders/publications/levermann_clark13.pdf) shows calculations that estimate this effect.  Their best prediction is that, over long time scales, the sea level rise will be approximately 2.3 meters per °C of temperature increase beyond the current value, although this is substantially uncertain (by roughly a factor of two in either direction).  They also caution that this is the **long-term outcome**, with sea level rise trailing the increase in atmospheric CO$_2$ concentration by some time because it will take some time for the oceans to warm up and the Antarctic ice sheet to melt.\n",
    "\n",
    "Using the Levermann data, make three estimates per model from Step 2: an \"optimistic\" model assuming 1 meter of sea level rise per °C of temperature increase beyond the present, a \"realistic\" model assuming 2 meters of rise per °C of temperature increase, and a \"pessimistic\" model assuming 4 meters of rise per °C of temperature increase.  Given [this graph of human population distribution by altitude](http://www.radicalcartography.net/index.html?howhigh), how much of the Earth's population might be affected by each of these models?"
   ]
  },
  {
   "cell_type": "code",
   "execution_count": null,
   "metadata": {},
   "outputs": [],
   "source": [
    "# Put your code here\n"
   ]
  },
  {
   "cell_type": "markdown",
   "metadata": {},
   "source": [
    "---\n",
    "## Assignment wrapup\n",
    "\n",
    "Please fill out the form that appears when you run the code below.  **You must completely fill this out in order to receive credit for the assignment!**"
   ]
  },
  {
   "cell_type": "code",
   "execution_count": 26,
   "metadata": {},
   "outputs": [
    {
     "data": {
      "text/html": [
       "\n",
       "<iframe \n",
       "\tsrc=\"https://goo.gl/forms/CKAQR4RDoCotJ2fJ3\" \n",
       "\twidth=\"800px\" \n",
       "\theight=\"600px\" \n",
       "\tframeborder=\"0\" \n",
       "\tmarginheight=\"0\" \n",
       "\tmarginwidth=\"0\">\n",
       "\tLoading...\n",
       "</iframe>\n"
      ],
      "text/plain": [
       "<IPython.core.display.HTML object>"
      ]
     },
     "execution_count": 26,
     "metadata": {},
     "output_type": "execute_result"
    }
   ],
   "source": [
    "from IPython.display import HTML\n",
    "HTML(\n",
    "\"\"\"\n",
    "<iframe \n",
    "\tsrc=\"https://goo.gl/forms/CKAQR4RDoCotJ2fJ3\" \n",
    "\twidth=\"800px\" \n",
    "\theight=\"600px\" \n",
    "\tframeborder=\"0\" \n",
    "\tmarginheight=\"0\" \n",
    "\tmarginwidth=\"0\">\n",
    "\tLoading...\n",
    "</iframe>\n",
    "\"\"\"\n",
    ")"
   ]
  },
  {
   "cell_type": "markdown",
   "metadata": {},
   "source": [
    "## Congratulations, you're done!\n",
    "\n",
    "Submit this assignment by uploading your notebook to the course Desire2Learn web page.  Go to the \"In-Class Assignments\" folder, find the submission link for <font color=\"red\">Day 24</font>, and upload everything there. Make sure your name is on it!"
   ]
  }
 ],
 "metadata": {
  "kernelspec": {
   "display_name": "Python 3",
   "language": "python",
   "name": "python3"
  },
  "language_info": {
   "codemirror_mode": {
    "name": "ipython",
    "version": 3
   },
   "file_extension": ".py",
   "mimetype": "text/x-python",
   "name": "python",
   "nbconvert_exporter": "python",
   "pygments_lexer": "ipython3",
   "version": "3.7.0"
  }
 },
 "nbformat": 4,
 "nbformat_minor": 2
}
