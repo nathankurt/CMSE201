{
 "cells": [
  {
   "cell_type": "markdown",
   "metadata": {},
   "source": [
    "### <p style=\"text-align: right;\"> &#9989; Put your name here</p>\n",
    "\n",
    "#### <p style=\"text-align: right;\"> &#9989; Put names of your group members</p>\n",
    "___"
   ]
  },
  {
   "cell_type": "markdown",
   "metadata": {},
   "source": [
    "# Day 7 In-class Assignment: Exploring Great Lakes Water Levels using NumPy\n",
    "\n",
    "In today's activity, were going to use NumPy and Matplotlib to interact with some data that pertains to the water levels of the Great Lakes. You'll also get to practice some of the plot modifications that you learned out in the last class.\n",
    "\n",
    "![picture](https://upload.wikimedia.org/wikipedia/commons/5/57/Great_Lakes_from_space_crop_labeled.jpg)"
   ]
  },
  {
   "cell_type": "code",
   "execution_count": null,
   "metadata": {},
   "outputs": [],
   "source": [
    "# Although there are some exceptions, it is generally a good idea to keep all of your\n",
    "# imports in one place so that you can easily manage them. Doing so also makes it easy\n",
    "# to copy all of them at once and paste them into a new notebook you are starting.\n",
    "\n",
    "# Bring in NumPy and Matplotlib, allowing for plots inside of the notebook.\n",
    "import numpy as np\n",
    "import matplotlib.pyplot as plt\n",
    "%matplotlib inline\n",
    "\n",
    "# You might not have seen this yet and it's not necessarily required to include, but it is an option when making plots\n",
    "# This makes inline plots vector graphics instead of raster graphics, which tend to look a little better\n",
    "from IPython.display import set_matplotlib_formats\n",
    "set_matplotlib_formats('pdf', 'svg')"
   ]
  },
  {
   "cell_type": "markdown",
   "metadata": {},
   "source": [
    "To use this notebook for your in-class assignment, you will need these files:\n",
    "* `mhu.csv`\n",
    "* `sup.csv`\n",
    "* `eri.csv`\n",
    "* `ont.csv`\n",
    "\n",
    "These files are given with this notebook on D2L. You will read data from those files and it is important that the files are in the correct place on your computer; that is, the Jupyter notebook needs to know where your computer put the files on your laptop's disk. Take some time right now to be sure you have the files on your laptop and that you know where they are. Work with other members of your group to be sure everyone knows where the files are. For example, on a Mac (which uses OSX, a unix-like operating system) they will be in the Downloads folder - with the Finder, you can move the files wherever you wish.\n",
    "\n",
    "The easiest way to ensure you can get your notebook to work with files is to make sure they are in the same directory/folder. This may be trivial if, for example, everything is in your downloads folder. Work with the other students in your group or the TAs/LAs if you have problems."
   ]
  },
  {
   "cell_type": "markdown",
   "metadata": {},
   "source": [
    "We are going to use NumPy to read data in from files and look at the data. The standard method for doing this in NumPy is `loadtxt`. In principle, `loadtxt` is simple - it loads your data into NumPy arrays for you to use them. Unfortunately, data almost never comes in a form that is entirely clean and you will need to give many options that are file dependent. You will need to look at your file to know what you need to; for today, we already looked at the file for you and wrote the full `loadtxt` command for you. Here it is; run this cell:"
   ]
  },
  {
   "cell_type": "code",
   "execution_count": null,
   "metadata": {},
   "outputs": [],
   "source": [
    "# use NumPy to read data from a csv file\n",
    "mhu_date, mhu_level = np.loadtxt(\"mhu.csv\", usecols = (0,1), unpack=True, skiprows = 1, delimiter=',') # example for the mhu.csv file"
   ]
  },
  {
   "cell_type": "markdown",
   "metadata": {},
   "source": [
    "In order, here is what it is doing:\n",
    "* finding the file `mhu.csv` for reading\n",
    "* ignoring all columns except the first two, which are called $0$ and $1$, since Python starts counting at $0$\n",
    "* for `unpack`, see below....\n",
    "* the first row in the file is different. It's a header that tells us what is in the file, so we just skip over that row.\n",
    "* the data in the file is separated by comma delimiters; this is why the file is called \"csv\" for *comma separated values*\n",
    "\n",
    "To understand what the *unpack* parameter is doing, we need to think a bit about how Python works. In most programming languages you have a construct like this:\n",
    "\n",
    "`variable = do_something()`\n",
    "\n",
    "where the result of `do_something` returns a value into `variable`. Python allows you to create *multiple* things and assign them into *multiple* variables: note that there are two variables, `mhu_date` and `mhu_level`, on the left hand side. To allow for this, `loadtxt` uses the `unpack=True` to unpack the colummns into separate items so that you can put them into separate variables. This is extremely handy, as you will see many times this semester.\n",
    "\n",
    "As you can see, **there is a lot in that one line**. Reading and writing files is never very clean and easy -- take your time thinking through it every time you do it. Although we won't do it today, there is another command `savetxt` for saving into a file: if you use these consistently, they will make files that are easy to read in later. If you get data from some other source, you never know what you are getting.\n",
    "\n",
    "Once you have your data, it is always a good idea to look at some of it to be sure it is what you think it is. You could use a print statement, or just type the variable name in an empty cell."
   ]
  },
  {
   "cell_type": "code",
   "execution_count": null,
   "metadata": {},
   "outputs": [],
   "source": [
    "mhu_date"
   ]
  },
  {
   "cell_type": "markdown",
   "metadata": {},
   "source": [
    "Next, write some code in this cell to read the data from the other files. Use descriptive variable names to store the results."
   ]
  },
  {
   "cell_type": "code",
   "execution_count": null,
   "metadata": {},
   "outputs": [],
   "source": [
    "# Read in data from the remaining files.\n",
    "\n",
    "# Print some of the values coming in from the files to ensure they look fine.\n"
   ]
  },
  {
   "cell_type": "markdown",
   "metadata": {},
   "source": [
    "___\n",
    "### Statistics\n",
    "___\n",
    "\n",
    "Now that you have read in the data, use NumPy's [statistics operations](https://docs.scipy.org/doc/numpy-1.13.0/reference/routines.statistics.html) from the pre-class to compare various properties of the water levels for all of the lakes.\n",
    "* mean\n",
    "* median\n",
    "* standard deviation\n"
   ]
  },
  {
   "cell_type": "code",
   "execution_count": null,
   "metadata": {},
   "outputs": [],
   "source": [
    "# Put your code here to print the statistical properties of each lake's water levels.\n"
   ]
  },
  {
   "cell_type": "markdown",
   "metadata": {},
   "source": [
    "___\n",
    "Now, let's see what is in the files by plotting the second column versus the first column using `matplotlib`. Do this for all of the files. This is our first example of doing some (very simple!) data science - looking at some real data. Just so you know, the data came from [here](https://www.glerl.noaa.gov/data/wlevels/#observations); if you ever find data like this in the real world, you could build a notebook like this one to examine it. In fact, your projects at the end of the semester might be much larger versions of this. "
   ]
  },
  {
   "cell_type": "code",
   "execution_count": null,
   "metadata": {},
   "outputs": [],
   "source": [
    "# plot the water levels here\n"
   ]
  },
  {
   "cell_type": "markdown",
   "metadata": {},
   "source": [
    "Plots like this are not very useful. If you showed them to someone else they would have no idea what is in them. In fact, if *you* looked at them next week, you wouldn't remember what is in them. Let's use a little more `matplotlib` to make them of professional quality. There are two things that every plot should have: labels on each axis. And, there are many other options:\n",
    "* [grid](https://matplotlib.org/devdocs/api/_as_gen/matplotlib.pyplot.grid.html)\n",
    "* [title](https://matplotlib.org/devdocs/api/_as_gen/matplotlib.pyplot.title.html)\n",
    "* [markers](https://matplotlib.org/examples/lines_bars_and_markers/marker_reference.html)\n",
    "* [legend](https://matplotlib.org/users/legend_guide.html)\n",
    "* and many more we will see over time...\n",
    "\n",
    "Remake separate figures for each of the datasets you read in and include in the plots: $x$-axis labels, $y$-axis labels, grid lines, a legend, markers, and a title. Then, make all of them in the *same* plot using the same formating techniques you used in the separate plots. We are not going to tell you how to do this directly! But, we're here to help you to figure it out. If you find yourself waiting for help from an instructor, you can also try using Google to answer your questions. Searching the internet for coding tips and tricks is a very common practice!\n",
    "\n",
    "The Python community also provides helpful resources: they have created a comprehensive gallery of just about any plot you can think of with an example *and the code that goes with it*. That gallery is [here](https://matplotlib.org/gallery.html) and you should be able to find many examples of how to make your plots look professional. (You just might want to bookmark that webpage.....)"
   ]
  },
  {
   "cell_type": "code",
   "execution_count": null,
   "metadata": {},
   "outputs": [],
   "source": [
    "# Put your code here to make each plot separately. You might need to create multiple notebook cells or use \"subplots\"\n",
    "# Make sure they are professionaly constructed using all of the options above.\n"
   ]
  },
  {
   "cell_type": "code",
   "execution_count": null,
   "metadata": {},
   "outputs": [],
   "source": [
    "# Make another plot here with all the data in the same plot.\n"
   ]
  },
  {
   "cell_type": "markdown",
   "metadata": {},
   "source": [
    "**What observations about the data do you have?** **Do you see any overall trends? Put your answer here**:"
   ]
  },
  {
   "cell_type": "markdown",
   "metadata": {},
   "source": [
    "In the data I see...."
   ]
  },
  {
   "cell_type": "markdown",
   "metadata": {},
   "source": [
    "___\n",
    "### Correlations in the data.\n",
    "___\n",
    "\n",
    "In the plots you have made so far you have plotted water levels versus time. This is fairly intuitive and corresponds to the way the data was given to us. Next, we are going to do something a little more abstract to seek correlations in the data, a standard goal in data science. As you have seen, there are a lot of fluctuations in the data - what do they tell us? For example, do the levels go up at certain times of year? In certain years that had more rain? Can we see evidence of global warming? While we won't answer these questions at this point, we can look for patterns across the lakes to see if the fluctations in levels might correspond to trends. To do this, we will plot the level of one lake versus the level of another lake. Note that we somewhat lose the time information because we aren't using that array anymore. \n",
    "\n",
    "Look at these plots. Think about what they are telling us.\n",
    "\n",
    "![correlations](https://c1.staticflickr.com/5/4195/34878771446_3d1e5a1173_o.jpg)\n",
    "\n",
    "Now, in the cell below, plot the level of one lake versus the level of another lake - do this for several combinations. Put them in separate cells if you need to - otherwise each will be in the same plot, which might be less useful. (If you're feeling comfortable using [subplots](https://matplotlib.org/examples/pylab_examples/subplots_demo.html) feel free to use those.)"
   ]
  },
  {
   "cell_type": "code",
   "execution_count": null,
   "metadata": {},
   "outputs": [],
   "source": [
    "# add your plots here (with labels, titles, legend, grid)\n",
    "# what line type should you use? what are the best markers to use?\n"
   ]
  },
  {
   "cell_type": "code",
   "execution_count": null,
   "metadata": {},
   "outputs": [],
   "source": [
    "\n",
    "# next lake here, and so on.....\n"
   ]
  },
  {
   "cell_type": "markdown",
   "metadata": {},
   "source": [
    "**In this cell**, write your observations. What can you saw about the lake levels? \n",
    "\n",
    "I observed.....\n",
    "\n"
   ]
  },
  {
   "cell_type": "markdown",
   "metadata": {},
   "source": [
    "___\n",
    "### Saving Plots\n",
    "___\n",
    "Finally, you will need to use your plots for something. In your other classes and labs you often will need to make plots for your assignments and lab reports - now is the time to start using Python for that! Modify the code above to write the plot into a file in PNG format. Here are a couple of examples for how you can save files as a PNG file and as a PDF file:\n",
    "\n",
    "`plt.savefig('foo.png')`\n",
    "\n",
    "`plt.savefig('foo.pdf')`\n",
    "\n",
    "**Put your name in the filename** so that we can keep track of your work."
   ]
  },
  {
   "cell_type": "markdown",
   "metadata": {},
   "source": [
    "---\n",
    "## Assignment Wrap-up\n",
    "\n",
    "Fill out the following Google form before submitting your notebook to D2L."
   ]
  },
  {
   "cell_type": "code",
   "execution_count": null,
   "metadata": {},
   "outputs": [],
   "source": [
    "from IPython.display import HTML\n",
    "\n",
    "HTML(\"\"\"\n",
    "<iframe src=\"https://goo.gl/forms/bRmM3wHtKjE5U1q02\"\n",
    "width=\"760\"\n",
    "height=\"500\"\n",
    "frameborder=\"0\"\n",
    "marginheight=\"0\"\n",
    "marginwidth=\"0\"\n",
    ">Loading...</iframe>\n",
    "\"\"\")"
   ]
  },
  {
   "cell_type": "markdown",
   "metadata": {},
   "source": [
    "## Congratulations, you're done!\n",
    "\n",
    "Submit this assignment by uploading it to the course Desire2Learn web page.  Go to the \"In-class assignments\" folder, find the dropbox link for Day 7, and upload it there. Make sure to upload your plot images as well!\n",
    "\n",
    "If the rest of your group is still working, help them out and show them some of the things you learned!\n",
    "\n",
    "See you next class!"
   ]
  }
 ],
 "metadata": {
  "kernelspec": {
   "display_name": "Python 3",
   "language": "python",
   "name": "python3"
  },
  "language_info": {
   "codemirror_mode": {
    "name": "ipython",
    "version": 3
   },
   "file_extension": ".py",
   "mimetype": "text/x-python",
   "name": "python",
   "nbconvert_exporter": "python",
   "pygments_lexer": "ipython3",
   "version": "3.7.0"
  }
 },
 "nbformat": 4,
 "nbformat_minor": 2
}
