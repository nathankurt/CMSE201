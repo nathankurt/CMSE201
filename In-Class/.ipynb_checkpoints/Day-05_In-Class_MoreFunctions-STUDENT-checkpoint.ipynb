{
 "cells": [
  {
   "cell_type": "markdown",
   "metadata": {},
   "source": [
    "### <p style=\"text-align: right;\"> &#9989; Nate Kurt\n",
    "<p style=\"text-align: right;\"> &#9989; Noah, Vince, Jack, Patrick."
   ]
  },
  {
   "cell_type": "markdown",
   "metadata": {},
   "source": [
    "# Day 5 In-class Assignment: Using functions for fun and profit!\n",
    "<img src=\"https://rideapps.co/wp-content/uploads/2015/10/rideshare-better-taxi-750x302.png\" width=400px>\n",
    "\n",
    "As we've mentioned previously, writing functions in Python can be _very_ useful. In this assignment, you'll spend some more time writing functions so that it starts to become second nature. If you get into the habit of writing functions early on, you'll find that you start writing more efficient code as the problems you're trying to solve get more complicated!\n",
    "\n",
    "In this assignment, we'll use functions to compute distances and optimize rideshare routes."
   ]
  },
  {
   "cell_type": "markdown",
   "metadata": {},
   "source": [
    "## Learning Goals:\n",
    "\n",
    "By the end of this assignment you should be able to:\n",
    "\n",
    "* Confidently write and execute functions in Python using varying numbers of input parameters, default parameters, and returned values"
   ]
  },
  {
   "cell_type": "markdown",
   "metadata": {},
   "source": [
    "---\n",
    "## Part 1: Revisiting the last function from the pre-class assignment\n",
    "\n",
    "In your pre-class assignment, you were asked to do the following:\n",
    "\n",
    "1. Write a function called `x_squared`.\n",
    "2. The function should take in a list of $x$-values of any length, but should have a default of [1,2,3].\n",
    "3. The function should return a new list of values that are $x^2$ values of the original input values.\n",
    "4. Print the resulting new list.\n",
    "\n",
    "Hopefully you were able to figure this out, but if not here's one possible solution:"
   ]
  },
  {
   "cell_type": "code",
   "execution_count": null,
   "metadata": {},
   "outputs": [],
   "source": [
    "def x_squared(x_values=[1,2,3]):\n",
    "    x_sq = []\n",
    "    for x in x_values:\n",
    "        x_sq.append(x**2)\n",
    "    return x_sq\n",
    "\n",
    "x2 = x_squared()\n",
    "print(x2)"
   ]
  },
  {
   "cell_type": "markdown",
   "metadata": {},
   "source": [
    "Notice that when the function is called, it doesn't take any input and yet produces an output. This is the upside to defining a default value for the input. Of course, I can also make the $x$-values to be anything I want. Like so:"
   ]
  },
  {
   "cell_type": "code",
   "execution_count": null,
   "metadata": {},
   "outputs": [],
   "source": [
    "x = [3, -5, 10, -6, -7, 2]\n",
    "x2 = x_squared(x)\n",
    "print(x2)"
   ]
  },
  {
   "cell_type": "markdown",
   "metadata": {},
   "source": [
    "### Making your function more flexible\n",
    "\n",
    "Now, the above function is great for computing $x^2$, but what if I wanted a function that could more generally compute the values for a list of $x$-values raised to any power?\n",
    "\n",
    "**As a group**, design a small function called `compute_exponent` that satisfies the following:\n",
    "\n",
    "1. Given a __list__ of $x$-values, it computes the value of $x^a$ for each value, where $a$ is a parameter that is fed into your function.\n",
    "2. The default value of $a$ is \"2\".\n",
    "3. It returns the __list__ of all the $x^a$ values.\n",
    "\n",
    "*Make sure you print out the list of resulting values to confirm that your code is working*. **Run your function for a variety of input values.**"
   ]
  },
  {
   "cell_type": "code",
   "execution_count": 4,
   "metadata": {},
   "outputs": [
    {
     "name": "stdout",
     "output_type": "stream",
     "text": [
      "[(1.2246467991473532e-16+2j), 1.7320508075688772, (8.659560562354934e-17+1.4142135623730951j), 1.0]\n"
     ]
    }
   ],
   "source": [
    "def x_squared(ls, a=2):\n",
    "    return [i ** a for i in ls]\n",
    "\n",
    "print(x_squared([-4,3,-2,1], 0.5))"
   ]
  },
  {
   "cell_type": "markdown",
   "metadata": {},
   "source": [
    "**Question**: What happens in your function if $a=0.5$ and your $x$-values are a combination of positive and negative numbers?"
   ]
  },
  {
   "cell_type": "markdown",
   "metadata": {},
   "source": [
    "It returns the sqrt for some numbers, but for the negative numbers it has a rough time with them. "
   ]
  },
  {
   "cell_type": "markdown",
   "metadata": {},
   "source": [
    "**Question**: What if you only wanted your function to return a list of new values if all of the values are non-imaginary numbers? Explain how you might re-write your code to accomplish this. You should brainstorms ideas with your group!\n",
    "\n",
    "In case you don't remember what imaginary numbers are: https://en.wikipedia.org/wiki/Imaginary_number"
   ]
  },
  {
   "cell_type": "markdown",
   "metadata": {},
   "source": [
    "check if the power was between -1 and 1 and if it was check if there was a negative number in the group. if there was then don't return the list"
   ]
  },
  {
   "cell_type": "markdown",
   "metadata": {},
   "source": [
    "---\n",
    "## Part 2: Computing distances with functions\n",
    "\n",
    "<img src=\"https://i.imgur.com/FrMebl0.png\" width=300px>\n",
    "<div style=\"text-align: right\"> Anything look familiar about this map? </div>\n",
    "\n",
    "\n",
    "\n",
    "For the next part of this assignment, we're going to think about how we might be able to write functions that can be used to compute distances on a map.\n",
    "\n",
    "### Part 2.1: Computing the Euclidean distance\n",
    "\n",
    "\"Euclidean distance\" is simply the distance of the straight line that connects two points in Euclidean space. It's basically the distance \"as the crow flies\". On a map, it might look something like this:\n",
    "\n",
    "<img src=\"https://i.imgur.com/KSmguA5.png\" width=500px>"
   ]
  },
  {
   "cell_type": "markdown",
   "metadata": {},
   "source": [
    "For this part of the assignment, **write a function** that takes in two points on an $x$-$y$ plane and **returns the Euclidean distance between these two points**. Define your function so that by default, the \"stop\" point is the point (0,0). Don't worry about the units of this distance for this problem.\n",
    "\n",
    "**Work with your group to figure this out!**"
   ]
  },
  {
   "cell_type": "code",
   "execution_count": 6,
   "metadata": {},
   "outputs": [
    {
     "name": "stdout",
     "output_type": "stream",
     "text": [
      "1.4142135623730951\n"
     ]
    }
   ],
   "source": [
    "# Put your function here\n",
    "from math import sqrt\n",
    "def distance(start, stop=(0,0)):\n",
    "    return (sqrt((start[1]-start[0])**2 + (stop[1]-stop[0])**2))\n",
    "\n",
    "print(distance((4,3),(1,2)))"
   ]
  },
  {
   "cell_type": "markdown",
   "metadata": {},
   "source": [
    "### Part 2.2: Computing the \"Lyft\" distance\n",
    "\n",
    "For this part of the assignment, let's say that you've been thinking about starting a new rideshare company similar to Uber or Lyft. You've started thinking about how you should go about estimating the amount you should charge for a given ride, but you've realized that computing the Euclidean distance between two points doesn't really make sense. Now you need to create a new function that computes an estimate for the total distance of the ride for your new \"Lyft-like\" service.\n",
    "\n",
    "When you're driving a car you can't just travel in a straight line between two points, you're forced to drive along the grid structure defined by where the streets are. Your path might look something like this:\n",
    "\n",
    "<img src=\"https://i.imgur.com/ieJ1Z4k.png\" width=500px>\n",
    "<div style=\"text-align: right\"> Another potentially familiar place... </div>\n",
    "\n",
    "For the purposes of computing these new \"Lyft\"-like distances, you're going to assume that the drivers for your company are generally pretty good about taking the shortest possible route, and you're also going to assume that, most of the time, the streets will have a pretty standard grid-like structure. After all, it would be pretty hard to predict just how irregular the routes might end up being.\n",
    "\n",
    "**Write a function for computing a \"Lyft\" distance** based on the restriction that the car must travel on a grid of roads that run parallel to the $x$ and $y$ axes of an $x$-$y$ plane. Your function should take a **starting point and a stopping point as input variables** and **return** the distance estimate. Your estimate will essentially tell you how many blocks the driver will travel to get to the destination. *Use the white boards to plan out how to do this calculation!* **Hint**: you may want to use the absolute value function for this calculation."
   ]
  },
  {
   "cell_type": "code",
   "execution_count": 17,
   "metadata": {},
   "outputs": [
    {
     "name": "stdout",
     "output_type": "stream",
     "text": [
      "2\n"
     ]
    }
   ],
   "source": [
    "# Put your function here\n",
    "def distance(start,stop=(0,0)):\n",
    "    return (abs((start[0] - stop[0]) + (start[1] - stop[1])))\n",
    "print(distance((1,2),(1,4)))"
   ]
  },
  {
   "cell_type": "markdown",
   "metadata": {},
   "source": [
    "### Creating a fare-computing function\n",
    "\n",
    "Let's assume that you want to be able to quickly calculate an estimate for the cost of the trip so that you can let your riders know roughly how much you'll charge them.  To start with, you're going to use a flat rate of **40 cents** per unit distance the driver travels.\n",
    "\n",
    "**Write another function** called `trip_cost` that **uses the function you just wrote** for computing the total distance of the ride to ***print* the cost of the trip** so that it reads \"The cost of the trip will be $< amount >\" where < amount > is the total in dollars that the trip will cost. Your function should take the starting point, the stopping point, and the rate (with a default value) as inputs."
   ]
  },
  {
   "cell_type": "code",
   "execution_count": 35,
   "metadata": {},
   "outputs": [
    {
     "name": "stdout",
     "output_type": "stream",
     "text": [
      "the cost of the trip will be $1.60\n"
     ]
    }
   ],
   "source": [
    "# Put your function here\n",
    "def distance(start,stop=(0,0)):\n",
    "    return (abs((start[0] - stop[0]) + (start[1] - stop[1])))\n",
    "\n",
    "def trip_cost(dist):\n",
    "    \n",
    "    return f'the cost of the trip will be $%.2f' % (dist * .4)\n",
    "\n",
    "print(trip_cost(distance((4,2),(1,1))))"
   ]
  },
  {
   "cell_type": "markdown",
   "metadata": {},
   "source": [
    "---\n",
    "## Part 3: Combining your functions\n",
    "\n",
    "Now that you've written two different functions for finding the distance, you're thinking that it would be more convenient if you could use the same function to compute both the Euclidean distance and the Lyft distance. It would also make it a lot easier to compare how much longer the Lyft distance is than the Euclidean distance.\n",
    "\n",
    "**Write a function** that is capable of computing the Euclidean distance **or** the Lyft distance based on a keyword argument call `path_type`. \n",
    "* If the `path_type` is 'Lyft', compute the Lyft distance, otherwise compute the standard Euclidean distance.\n",
    "* Make sure that the default stopping point is (0,0).\n",
    "\n",
    "As before, your function should **return** the distance."
   ]
  },
  {
   "cell_type": "code",
   "execution_count": 33,
   "metadata": {},
   "outputs": [
    {
     "name": "stdout",
     "output_type": "stream",
     "text": [
      "4.242640687119285\n",
      "6\n"
     ]
    }
   ],
   "source": [
    "from math import sqrt\n",
    "def euclid_distance(start, stop=(0,0)):\n",
    "    return (sqrt((start[1]-start[0])**2 + (stop[1]-stop[0])**2))\n",
    "def lyft_distance(start,stop=(0,0)):\n",
    "    return (abs(start[0] - stop[0]) + abs(start[1] - stop[1]))\n",
    "def compute( start, stop=(0,0), path_type=\"Not\",):\n",
    "    if path_type.strip().lower() == \"lyft\":\n",
    "        return lyft_distance(start,stop)\n",
    "    else: return euclid_distance(start,stop)\n",
    "\n",
    "print(compute((0,3), (4,1)))\n",
    "print(compute((0,3), (4,1),\"Lyft\"))"
   ]
  },
  {
   "cell_type": "markdown",
   "metadata": {},
   "source": [
    "**Write another function** that **uses your previous function** to compute both the Euclidean distance and the Lyft distances and **prints**:\n",
    "\n",
    "\"The Lyft distance is < X > times longer than the Euclidean distance\"\n",
    "\n",
    "where < X > is the appropriate ratio of the two distances.\n",
    "\n",
    "**Compare the two distances** for a starting point of (-2, -6) and stopping point of (4,5)."
   ]
  },
  {
   "cell_type": "code",
   "execution_count": 32,
   "metadata": {},
   "outputs": [
    {
     "name": "stdout",
     "output_type": "stream",
     "text": [
      "The Lyft distance is 4.123 times longer than the Euclidean distance\n"
     ]
    }
   ],
   "source": [
    "from math import sqrt\n",
    "def euclid_distance(start, stop=(0,0)):\n",
    "    return (sqrt((start[1]-start[0])**2 + (stop[1]-stop[0])**2))\n",
    "def lyft_distance(start,stop=(0,0)):\n",
    "    return (abs(start[0] - stop[0]) + abs(start[1] - stop[1]))\n",
    "def compute( start, stop=(0,0), path_type=\"Not\",):\n",
    "    if path_type.strip().lower() == \"lyft\":\n",
    "        return lyft_distance(start,stop)\n",
    "    else: return euclid_distance(start,stop)\n",
    "    \n",
    "def compare(start,stop=(0,0)):\n",
    "    euclid_distance = compute(start,stop)\n",
    "    lyft_distance = compute(start,stop, \"Lyft\")\n",
    "    \n",
    "    print(f\"The Lyft distance is {round((lyft_distance/euclid_distance),3)} times longer than the Euclidean distance\")\n",
    "compare((-2,-6),(4,5))"
   ]
  },
  {
   "cell_type": "markdown",
   "metadata": {},
   "source": [
    "---\n",
    "## Part 4: Planning your route\n",
    "\n",
    "Now that you've worked out a system for estimating travel distances and ride fares, you're ready to start testing your new rideshare service. You fire up your fancy new program and immediately get three simultaneous rider requests, but luckily they all are looking for a ride to the same place -- the airport!\n",
    "\n",
    "You plan on picking up all three passengers on the **same trip** so that you can drop them all off at the same time. You want to take the shortest possible route so that you minimize the cost of gas and, in turn, the amount of money the trip costs you!\n",
    "\n",
    "**The challenge**: You need to create a function that takes in a starting position, a list of three rider locations, and a stopping location and determines the order of rider pickups that will require the least amount of driving. You want to make the default stopping location be the airport, since you figure this is where people will be headed most often. You should be able to use your function for computing the Lyft distance to help solve this problem.\n",
    "\n",
    "### Work out a plan for your function on the whiteboards first! You may need to draw a diagram to figure out how to solve this.\n",
    "\n",
    "Once you've come up with a plan, try **writing the function**. The function should **return the list of rider locations in the appropriate pick-up order and the total distance of the trip**.\n",
    "\n",
    "Let's assume that:\n",
    "\n",
    "1. Your starting location is (-2,3).\n",
    "2. The ride locations are (-1, -2), (3,3), and (2, -1).\n",
    "3. The stopping location, the airport, is at (4,0).\n"
   ]
  },
  {
   "cell_type": "code",
   "execution_count": 65,
   "metadata": {},
   "outputs": [
    {
     "name": "stdout",
     "output_type": "stream",
     "text": [
      "21\n"
     ]
    }
   ],
   "source": [
    "# Put your code here\n",
    "def lyft_distance(start,stop=(0,0)):\n",
    "    return (abs(start[0] - stop[0]) + abs(start[1] - stop[1]))\n",
    "\n",
    "def compare_location_distance(start,location_list,stop=(4,0)):\n",
    "    distance_list = [lyft_distance(start, i) for i in location_list]\n",
    "    lowest_val_index = distance_list.index(min(distance_list))\n",
    "    sorted_list = sorted(location_list, key=lambda i:lyft_distance(start,i))\n",
    "    d1 = lyft_distance(start,sorted_list[0])\n",
    "    val1 = sorted_list[0]\n",
    "    val2 = sorted_list[1]\n",
    "    val3 = sorted_list[2]\n",
    "    d1 += lyft_distance(val1,val2)\n",
    "    d1 += lyft_distance(val2,val3)\n",
    "    d1 += lyft_distance(val3,stop)\n",
    "    \n",
    "    return d1\n",
    "        \n",
    "    \n",
    "print(compare_location_distance((-2,3),[(-1,-2),(3,3),(2,-1)]))\n"
   ]
  },
  {
   "cell_type": "markdown",
   "metadata": {},
   "source": [
    "---\n",
    "## Time permitting:\n",
    "\n",
    "If you finish this assignment early, take a moment to go back to the end of Part 1 and try to code up your solution for dealing with imaginary numbers in your `compute_exponent` function."
   ]
  },
  {
   "cell_type": "markdown",
   "metadata": {},
   "source": [
    "---\n",
    "#### An aside, for those that are interested\n",
    "\n",
    "The maps in this assignment were made, in part, using the [OSMnx](http://geoffboeing.com/2016/11/osmnx-python-street-networks/) Python package. You can check out some example code [here](https://github.com/gboeing/osmnx-examples/blob/master/notebooks/09-example-figure-ground.ipynb)"
   ]
  },
  {
   "cell_type": "markdown",
   "metadata": {},
   "source": [
    "---\n",
    "## Assignment Wrap-up\n",
    "\n",
    "Fill out the following Google form before submitting your notebook to D2L."
   ]
  },
  {
   "cell_type": "code",
   "execution_count": 66,
   "metadata": {},
   "outputs": [
    {
     "data": {
      "text/html": [
       "\n",
       "<iframe src=\"https://goo.gl/forms/TjQ9C5jB1Pr9ZuMz1\"\n",
       "width=\"760\"\n",
       "height=\"500\"\n",
       "frameborder=\"0\"\n",
       "marginheight=\"0\"\n",
       "marginwidth=\"0\"\n",
       ">Loading...</iframe>\n"
      ],
      "text/plain": [
       "<IPython.core.display.HTML object>"
      ]
     },
     "execution_count": 66,
     "metadata": {},
     "output_type": "execute_result"
    }
   ],
   "source": [
    "from IPython.display import HTML\n",
    "\n",
    "HTML(\"\"\"\n",
    "<iframe src=\"https://goo.gl/forms/TjQ9C5jB1Pr9ZuMz1\"\n",
    "width=\"760\"\n",
    "height=\"500\"\n",
    "frameborder=\"0\"\n",
    "marginheight=\"0\"\n",
    "marginwidth=\"0\"\n",
    ">Loading...</iframe>\n",
    "\"\"\")"
   ]
  },
  {
   "cell_type": "markdown",
   "metadata": {},
   "source": [
    "## Congratulations, you're done!\n",
    "\n",
    "Submit this assignment by uploading it to the course Desire2Learn web page.  Go to the \"In-class assignments\" folder, find the dropbox link for Day 5, and upload it there.\n",
    "\n",
    "See you next class!"
   ]
  },
  {
   "cell_type": "markdown",
   "metadata": {},
   "source": [
    "&#169; Copyright 2018,  Michigan State University Board of Trustees"
   ]
  }
 ],
 "metadata": {
  "kernelspec": {
   "display_name": "Python 3",
   "language": "python",
   "name": "python3"
  },
  "language_info": {
   "codemirror_mode": {
    "name": "ipython",
    "version": 3
   },
   "file_extension": ".py",
   "mimetype": "text/x-python",
   "name": "python",
   "nbconvert_exporter": "python",
   "pygments_lexer": "ipython3",
   "version": "3.7.0"
  }
 },
 "nbformat": 4,
 "nbformat_minor": 2
}
