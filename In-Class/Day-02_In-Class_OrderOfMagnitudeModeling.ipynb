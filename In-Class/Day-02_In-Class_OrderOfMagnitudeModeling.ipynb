{
 "cells": [
  {
   "cell_type": "markdown",
   "metadata": {},
   "source": [
    "### <p style=\"text-align: right;\"> &#9989; **Nathan Kurt** </p>\n",
    "#### <p style=\"text-align: right;\"> &#9989; Matt J, Jack M, Patrick G, Vince P, Noah Z </p>"
   ]
  },
  {
   "cell_type": "markdown",
   "metadata": {},
   "source": [
    "# Day 2 In-class Assignment: Order of Magnitude Modeling"
   ]
  },
  {
   "cell_type": "markdown",
   "metadata": {},
   "source": [
    "## How many mice would it take to fill up this classroom?\n",
    "\n",
    "### (a.k.a., making order-of-magnitude estimates for fun and profit!)\n",
    "![Mouse](https://www.jax.org/-/media/jaxweb/images/jax-mice-and-services/mice/web_0009_find-and-order-jax-mice.jpg?h=316&w=467&la=en&hash=D42556D3A616EC2E099378DB9CA5403D0C38C1E4)"
   ]
  },
  {
   "cell_type": "markdown",
   "metadata": {},
   "source": [
    "## Learning Goals \n",
    "\n",
    "Why are we asking you to do this?\n",
    "\n",
    "One type of modeling is called \"order-of-magnitude estimation\" or \"order-of-magnitude modeling.\"  A physicist would call this a \"Fermi Problem\" after Enrico Fermi, a physicist who participated in the Manhattan Project and who was famously good at making estimates of this sort.  More specifically, this sort of modeling makes us think about:\n",
    "\n",
    "* The quantities that should go into our models, and the reasonable values of those quantities.\n",
    "* How the different parts of our model might interact with one another.\n",
    "* What a \"good enough\" answer would be to a particular problem"
   ]
  },
  {
   "cell_type": "markdown",
   "metadata": {},
   "source": [
    "## The Problem\n",
    "\n",
    "In this project, your group is going to calculate an answer one of the following questions:\n",
    "\n",
    "1. How many cups of coffee get consumed on MSU's campus each week?  \n",
    "2. How much trash is generated in the US (in cubic meters or tons) every year?  \n",
    "3. If somebody left one of the bathroom faucets running at the Breslin Center, how long would it take to fill it up with water?  \n",
    "4. If all of the toilet paper used per week in the United States were rolled out, how far would it stretch?\n",
    "5. Which has more mass, the air in this classroom or the brains in this classroom?  \n",
    "6. If all of the hot dogs eaten in the US each year were placed end-to-end, how many times would that chain of hot dogs go around the Earth?\n",
    "7. On average, how many people are airborne in the world at a given moment?  \n",
    "8. How many total miles do all Americans drive in their cars in one year, and how does this compare to the circumference of the Earth ($2.5 \\times 10^4$ miles), the distance from the Earth to the Sun ($9 \\times 10^7$ miles), and size of the Solar System ($10^9$ miles)?\n",
    "\n",
    "---\n",
    "### Part 1\n",
    "\n",
    "**As a group**, you will be assigned one of these problems (so that each problem has at least one group working on it!) and then you are expected to think about the various questions that you need to ask and answer in order to give an estimate for this problem.  You need to figure out what equation(s) you need to write down in order to solve this problem, and the reasonable values that would go into the equation(s).  Then, you're going to implement a simple computer program to calculate an answer, and do it for several possible combinations of the equations!\n",
    "\n",
    "***You are encouraged to find a white board or a chalkboard to use to write out your ideas!***\n",
    "\n"
   ]
  },
  {
   "cell_type": "markdown",
   "metadata": {},
   "source": [
    "**In the cell below, write down your chosen question and the parameters in your model.** Also write down the range of possible values for each of the parameters!\n",
    "\n"
   ]
  },
  {
   "cell_type": "markdown",
   "metadata": {},
   "source": [
    "*Put your answer here! (reminder: double-click on this cell to go into \"edit mode\" and then hit shift+enter when you're done)*\n",
    "\n"
   ]
  },
  {
   "cell_type": "code",
   "execution_count": 6,
   "metadata": {},
   "outputs": [
    {
     "name": "stdout",
     "output_type": "stream",
     "text": [
      "Min:  140000.0\n",
      "Max:  945000.0\n",
      "Average:  542500.0\n",
      "Range:  805000.0\n"
     ]
    }
   ],
   "source": [
    "# write a program in this cell to calculate and print out an estimate\n",
    "# of the answer to the question you've chosen to solve!\n",
    "# \n",
    "#Coffee_drinker_percentage 50% - 90%\n",
    "#Total People on campus 40k - 60k depending on the day etc. \n",
    "#Cups per person 1 - 2.5 mininum has to be 1 because that assumes they drink coffee\n",
    "#\n",
    "\n",
    "def coffee_drinkers(coffee_drinker_percentage, cups_per_person, total_people_on_campus):\n",
    "    return (coffee_drinker_percentage * total_people_on_campus * cups_per_person * 7)\n",
    "    \n",
    "    \n",
    "min_val = coffee_drinkers(.5, 1, 40000)\n",
    "max_val = coffee_drinkers(.9, 2.5, 60000)\n",
    "average_val = (min_val + max_val)/2\n",
    "\n",
    "print(\"Min: \", min_val)\n",
    "print(\"Max: \", max_val)\n",
    "print(\"Average: \", average_val)\n",
    "print(\"Range: \", max_val - min_val)\n",
    "\n",
    "\n"
   ]
  },
  {
   "cell_type": "markdown",
   "metadata": {},
   "source": [
    "**Now, run your model several times**, and each time change the values of the parameters to a different value in the range you think is valid.  In the cell below, write down all of your answers.  What is the total range, and approximately what is the average value?"
   ]
  },
  {
   "cell_type": "code",
   "execution_count": null,
   "metadata": {},
   "outputs": [],
   "source": [
    "Min:  140000.0\n",
    "Max:  945000.0\n",
    "Average:  542500.0\n",
    "Range:  805000.0"
   ]
  },
  {
   "cell_type": "markdown",
   "metadata": {},
   "source": [
    "*Put your answer here!*"
   ]
  },
  {
   "cell_type": "markdown",
   "metadata": {},
   "source": [
    "---\n",
    "### Part 2 (time permitting)\n",
    "\n",
    "**Now, split into groups of 2-3 within your larger group.** For this part of the activity, each smaller group/pair is tasked with picking one of the other questions and going through the process of making another order-of-magnitude estimate. Each group must choose a *different* question. Record the name of your group/pair in the cell below."
   ]
  },
  {
   "cell_type": "markdown",
   "metadata": {},
   "source": [
    "*Put the names of the people in your group/pair here!*"
   ]
  },
  {
   "cell_type": "markdown",
   "metadata": {},
   "source": [
    "**In the cell below, write down your chosen question and the parameters in your model.** Also write down the range of possible values for each of the parameters!"
   ]
  },
  {
   "cell_type": "markdown",
   "metadata": {},
   "source": [
    "*Put your answer here!*"
   ]
  },
  {
   "cell_type": "code",
   "execution_count": 21,
   "metadata": {},
   "outputs": [
    {
     "name": "stdout",
     "output_type": "stream",
     "text": [
      "Min: 36.93\n",
      "Max: 157.58\n",
      "Average: 97.25 \n",
      "Range: 120.64\n"
     ]
    }
   ],
   "source": [
    "# write a program in this cell to calculate and print out an estimate\n",
    "# of the answer to the question you've chosen to solve!\n",
    "#If all of the hot dogs eaten in the US each year were placed end-to-end, how many times would that chain of hot dogs go around the Earth?\n",
    "\n",
    "#In a given year a person probably eats 30 - 80 hot dogs\n",
    "#325 million people in the US\n",
    "###GROUP: Nate Kurt, Patrick Goven\n",
    "\n",
    "def hot_dog_line(hot_dog_length, hot_dogs_per_year_per_person):\n",
    "    people_in_us = 325000000\n",
    "    circumference_of_earth_feet = (25000) * 5280\n",
    "    hot_dog_wrap_length = hot_dog_length * hot_dogs_per_year_per_person * people_in_us\n",
    "    earth_wrap_count = hot_dog_wrap_length / circumference_of_earth_feet\n",
    "    return earth_wrap_count\n",
    "\n",
    "min_val = hot_dog_line(.5,30)\n",
    "max_val = hot_dog_line(.8,80)\n",
    "average_val = (min_val + max_val) /2\n",
    "\n",
    "print(\"Min: %.2f\" % min_val)\n",
    "print(\"Max: %.2f\" % max_val)\n",
    "print(\"Average: %.2f \" % average_val)\n",
    "print(\"Range: %.2f\" % (max_val - min_val))\n",
    "    \n",
    "\n",
    "    \n",
    "    \n"
   ]
  },
  {
   "cell_type": "markdown",
   "metadata": {},
   "source": [
    "---\n",
    "## Assignment wrap-up"
   ]
  },
  {
   "cell_type": "markdown",
   "metadata": {},
   "source": [
    "Run the code below by clicking on the cell with your mouse and then pressing \"shift + enter\".  You  must complete the form that pops up to get credit for today's class!"
   ]
  },
  {
   "cell_type": "code",
   "execution_count": 22,
   "metadata": {},
   "outputs": [
    {
     "data": {
      "text/html": [
       "\n",
       "<iframe src=\"https://goo.gl/forms/CAubwKZwaMCwIjSs2\"\n",
       "width=\"760\"\n",
       "height=\"500\"\n",
       "frameborder=\"0\"\n",
       "marginheight=\"0\"\n",
       "marginwidth=\"0\"\n",
       ">Loading...</iframe>\n"
      ],
      "text/plain": [
       "<IPython.core.display.HTML object>"
      ]
     },
     "execution_count": 22,
     "metadata": {},
     "output_type": "execute_result"
    }
   ],
   "source": [
    "from IPython.display import HTML\n",
    "\n",
    "HTML(\"\"\"\n",
    "<iframe src=\"https://goo.gl/forms/CAubwKZwaMCwIjSs2\"\n",
    "width=\"760\"\n",
    "height=\"500\"\n",
    "frameborder=\"0\"\n",
    "marginheight=\"0\"\n",
    "marginwidth=\"0\"\n",
    ">Loading...</iframe>\n",
    "\"\"\")"
   ]
  },
  {
   "cell_type": "markdown",
   "metadata": {},
   "source": [
    "## Congratulations, you're done!\n",
    "\n",
    "Submit this assignment by uploading it to the course Desire2Learn web page.  Go to the \"In-class assignments\" folder, find the submission folder link for Day 2, and upload it there.\n",
    "\n",
    "See you next class!"
   ]
  },
  {
   "cell_type": "markdown",
   "metadata": {},
   "source": [
    "&#169; Copyright 2018,  Michigan State University Board of Trustees"
   ]
  }
 ],
 "metadata": {
  "kernelspec": {
   "display_name": "Python 3",
   "language": "python",
   "name": "python3"
  },
  "language_info": {
   "codemirror_mode": {
    "name": "ipython",
    "version": 3
   },
   "file_extension": ".py",
   "mimetype": "text/x-python",
   "name": "python",
   "nbconvert_exporter": "python",
   "pygments_lexer": "ipython3",
   "version": "3.7.0"
  }
 },
 "nbformat": 4,
 "nbformat_minor": 2
}
