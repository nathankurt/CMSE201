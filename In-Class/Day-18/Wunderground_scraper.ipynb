{
 "cells": [
  {
   "cell_type": "code",
   "execution_count": null,
   "metadata": {
    "collapsed": true
   },
   "outputs": [],
   "source": [
    "import urllib.request as request\n",
    "import json\n",
    "from datetime import datetime\n",
    "import time\n",
    "import itertools as it\n",
    "import pandas as pd\n",
    "\n",
    "key = \"a14aabe152cefb9e\""
   ]
  },
  {
   "cell_type": "code",
   "execution_count": null,
   "metadata": {},
   "outputs": [],
   "source": [
    "def all_dates_in_year(year):\n",
    "    for month in range(1, 13):\n",
    "        for day in range(1, 32):\n",
    "            # This is used to deal with partial years\n",
    "            # Should be removed if you want a full year\n",
    "            if month > 10:\n",
    "                continue\n",
    "            if month == 10 and day >= 29:\n",
    "                continue\n",
    "                    \n",
    "            try:\n",
    "                print(year, month, day)\n",
    "                yield datetime(year, month, day)\n",
    "            except ValueError:\n",
    "                continue\n",
    "\n",
    "class WundergroundScraper:\n",
    "    def __init__(self, key):\n",
    "        self.key = key\n",
    "    \n",
    "    def make_url(self, date, city):\n",
    "        base = \"http://api.wunderground.com/api/{}/geolookup/history_{:%Y%m%d}/q/MI/{}.json\"\n",
    "        return base.format(self.key, date, city)\n",
    "    \n",
    "    def scrape(self, date, city):\n",
    "        url = self.make_url(date, city)\n",
    "        page = request.urlopen(url)\n",
    "        json_string = page.read().decode('utf-8')\n",
    "        time.sleep(6)\n",
    "        return json.loads(json_string)\n",
    "    \n",
    "    def get_daily_summary(self, date, city):\n",
    "        daily_summary = self.scrape(date, city)['history']['dailysummary'][0]\n",
    "        daily_summary['date'] = \"{:%Y-%m-%d}\".format(date)\n",
    "        return daily_summary\n",
    "    \n",
    "wgs = WundergroundScraper(key)"
   ]
  },
  {
   "cell_type": "code",
   "execution_count": null,
   "metadata": {
    "collapsed": true
   },
   "outputs": [],
   "source": [
    "weather_data = [wgs.get_daily_summary(d, \"Lansing\") for d in all_dates_in_year(2018)]"
   ]
  },
  {
   "cell_type": "code",
   "execution_count": null,
   "metadata": {
    "collapsed": true
   },
   "outputs": [],
   "source": [
    "df = pd.DataFrame(weather_data)\n",
    "df.to_csv(\"weather_data/2018_weather_data.csv\")"
   ]
  },
  {
   "cell_type": "code",
   "execution_count": null,
   "metadata": {
    "collapsed": true
   },
   "outputs": [],
   "source": []
  }
 ],
 "metadata": {
  "kernelspec": {
   "display_name": "Python 3",
   "language": "python",
   "name": "python3"
  },
  "language_info": {
   "codemirror_mode": {
    "name": "ipython",
    "version": 3
   },
   "file_extension": ".py",
   "mimetype": "text/x-python",
   "name": "python",
   "nbconvert_exporter": "python",
   "pygments_lexer": "ipython3",
   "version": "3.6.5"
  }
 },
 "nbformat": 4,
 "nbformat_minor": 2
}
