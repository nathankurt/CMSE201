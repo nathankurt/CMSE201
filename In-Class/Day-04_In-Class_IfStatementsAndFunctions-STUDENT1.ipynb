{
 "cells": [
  {
   "cell_type": "markdown",
   "metadata": {},
   "source": [
    "### <p style=\"text-align: right;\"> &#9989; Nathan Kurt.\n",
    "<p style=\"text-align: right;\"> &#9989; Patrick, Vince."
   ]
  },
  {
   "cell_type": "markdown",
   "metadata": {},
   "source": [
    "# Day 4 In-class Assignment: What goes up, must come down.\n",
    "![Snowballs](https://img-aws.ehowcdn.com/750x428p/cpi.studiod.com/www_ehow_com/photos.demandstudios.com/getty/article/232/235/457777167_XS.jpg)"
   ]
  },
  {
   "cell_type": "markdown",
   "metadata": {},
   "source": [
    "## Learning Goals:\n",
    "\n",
    "By the end of this assignment you should be able to:\n",
    "\n",
    "* Review code that uses `if`, `elif`, and `else` statments and understand the logical flow of the program\n",
    "* Write `if`/`elif`/`else` statements in Python.\n",
    "* Create and use basic functions in Python.\n"
   ]
  },
  {
   "cell_type": "markdown",
   "metadata": {},
   "source": [
    "---\n",
    "## Part 1: Understanding `if` statements in Python\n",
    "\n",
    "As you learned your pre-class assignment, `if` statements provide an mechanism for \"branching\" to occur in your code. Depending on whether or not something is determined to be true, your code can pursue one branch, or another, or do nothing at all. The `else` statement allows your code to execute *something* even if none of the `if` or `elif` statements you write are found to be true. By combining these sorts of commands in a variety of ways we can create a very complex system of branches in our code.\n",
    "\n",
    "**Review and run** the following bit of example code. **Add comments** to explain what various parts of the code are doing! You may need to run the cell a few times to make sure you understand. Talk to your group about any parts of the code you don't understand!\n",
    "\n",
    "**Note**: this code uses the `input` command which can be a useful way to input information in your code. However, **this can also make your code hard to work with if someone else is running it**. Please make sure you only use the `input` command in your code when you have a very good reason to do so!"
   ]
  },
  {
   "cell_type": "code",
   "execution_count": null,
   "metadata": {
    "scrolled": false
   },
   "outputs": [],
   "source": [
    "for trial in range(5):\n",
    "    userInput = input('Pick a number: ')\n",
    "    number = float(userInput) # What does this line of code do? What if the user doesn't provide a number?\n",
    "    if number < 0:\n",
    "        print ('Square root is not real')\n",
    "    else:\n",
    "        print('Square root of {} is {:.4f}'.format(number, number**(1/2)))\n",
    "        # What going on with all the {}'s and the \"format\" bits above?\n",
    "    userAgain = input('Another [y/n]? ')\n",
    "    if userAgain != 'y':\n",
    "        break # What does this command do? You probably haven't seen it before, so you might need to look it up!\n",
    "if trial == 4:\n",
    "    print('Sorry, only 5 computations per customer!')\n",
    "elif userAgain == 'n':\n",
    "    print('Bye!')\n",
    "else:\n",
    "    print(\"Sorry, I didn't understand that.\")\n",
    "          "
   ]
  },
  {
   "cell_type": "markdown",
   "metadata": {},
   "source": [
    "**Question**: What does `float(userInput)` do?"
   ]
  },
  {
   "cell_type": "markdown",
   "metadata": {},
   "source": [
    "turns the user input into the float(decimal) value. "
   ]
  },
  {
   "cell_type": "markdown",
   "metadata": {},
   "source": [
    "**Question**: What does the `break` command do?"
   ]
  },
  {
   "cell_type": "markdown",
   "metadata": {},
   "source": [
    "kicks itself out of the loop even if it isn't finished"
   ]
  },
  {
   "cell_type": "markdown",
   "metadata": {},
   "source": [
    "---\n",
    "## Part 2: Writing your own `if` statements\n",
    "\n",
    "Sometimes in computational modeling and data science, you need to be able parse a set of numbers or data and execute particular tasks based on the how those numbers compare to each other. Conditional statements that use things like `<`, `>`, `>=`, or `==` combined with logical operators like `and` and `or` provide an excellent mechanism for comparing values! Try the following:\n",
    "\n",
    "**Write a program** that compares three variables v1, v2, and v3 (initial values are provide below) and does the following using `if` statements:\n",
    "\n",
    "1. If v1 is equal to v2, print \"woohoo!\"\n",
    "2. If v1 is the smallest value of the three (i.e., v1 is less than both v2 and v3), print out \"v1 is tiny!\"\n",
    "3. If v1 *is* the smallest value, add a nested if statement to print out a statement saying whether v2 or v3 is the largest value.\n",
    "\n",
    "Try several values of v1, v2 and v3 and ensure that you see the correct behavior. \n",
    "\n",
    "**Suggestion**: Make sure you work together with your group to solve this. **Planning it out on the whiteboard can also be useful!**\n",
    "\n",
    "**Note**: Although you learned briefly about functions in your pre-class assignment, don't worry about using functions just yet!"
   ]
  },
  {
   "cell_type": "code",
   "execution_count": 2,
   "metadata": {},
   "outputs": [
    {
     "name": "stdout",
     "output_type": "stream",
     "text": [
      "v1 is tiny\n",
      "v3 is the largest\n"
     ]
    }
   ],
   "source": [
    "# Put your code here. Initial values for v1, v2, and v3 are provided.\n",
    "# Make sure to test out new values to ensure your code works as intended!\n",
    "\n",
    "v1 = 1\n",
    "v2 = 2\n",
    "v3 = 3\n",
    "\n",
    "if v1 == v2:\n",
    "    print(\"woohoo\")\n",
    "elif v1 < v2 and v1 < v3:\n",
    "    print(\"v1 is tiny\")\n",
    "    if v2 > v3: print(\"v2 is larger\")\n",
    "    else: print(\"v3 is the largest\")\n",
    "    "
   ]
  },
  {
   "cell_type": "markdown",
   "metadata": {},
   "source": [
    "**Question**: What happens in your code if either v2 or v3 is less than v1? "
   ]
  },
  {
   "cell_type": "markdown",
   "metadata": {},
   "source": [
    "Nothing is printed unless v3 is the smallest value and v1 and v2 are equal"
   ]
  },
  {
   "cell_type": "markdown",
   "metadata": {},
   "source": [
    "---\n",
    "## Part 3: Revisiting the snowball problem\n",
    "\n",
    "You've still been pondering that snowball prank you plan to play on your roommate and you've continued to think about exactly how high you can get that snowball to go. In the last class you planned out how you might go about solving for the maximal height of the snowball and you might have even coded up one possible solution.\n",
    "\n",
    "**Now** you're going to try to use a combination of if statements and loops to find the maximum height. Keep in mind this might not be the \"best\" solution and it might be quite different than your solution. That's OK! In computational modeling and data science there is often more than one way to solve a problem and each solution will have it's own set of advantages and disadvantages."
   ]
  },
  {
   "cell_type": "markdown",
   "metadata": {},
   "source": [
    "### A reminder: the math behind the model\n",
    "\n",
    "To refresh your memory, the equation for the height of the snowball as a function  is given by:\n",
    "\n",
    "### $h(t) = h_0 + v_0t - \\frac{1}{2}gt^2$\n",
    "\n",
    "where $h$ is the height of the snowball as a function of time, $h_0$ is the initial height that the snowball is launched from, $v_0$ is the initial speed the snowball is launched with, $g$ is the acceleration due to gravity, and $t$ is the time in seconds. \n",
    "\n",
    "As before, you know that the initial height that the snowball is launched from, $h_0$, is roughly your height since you'll be throwing it, which we'll approximate as **1.75 meters**.\n",
    "\n",
    "You also recall that at some point you learned that the **acceleration due to gravity is 9.8 m/s$^2$**\n",
    "\n",
    "### So, how high will the snowball go and when will it get there?\n",
    "\n",
    "Let's assume that you've been doing a lot of training and you've gotten to the point where you can now launch a snowball into the air at **an initial speed of 47 m/s** (coincidentally, you're suddenly being recruited by several major league baseball teams).\n",
    "\n",
    "**Write a program** that does the following:\n",
    "\n",
    "1. Starting at $t = 0$, use a loop to compute the height of the snowball as a function of time until $t = 10$, in increments of 0.5 seconds.\n",
    "2. Using an `if` statement, determine the maximum height of the snowball and the time at which the snowball reaches that height. At the end of the loop, print out the maximum height and the corresponding time.\n",
    "3. Using an `if` or `elif` statement, when the height of the snowball starts to decrease, print \"The snowball is falling!\".\n",
    "\n",
    "**Work out a plan on your whiteboard before you start coding!**"
   ]
  },
  {
   "cell_type": "code",
   "execution_count": 21,
   "metadata": {},
   "outputs": [
    {
     "name": "stdout",
     "output_type": "stream",
     "text": [
      "The snowball is falling\n",
      "at time 5.0 seconds, max height is 114.25m\n",
      "At time 4.796 seconds, max height is 114.454m\n"
     ]
    }
   ],
   "source": [
    "# Put your code here\n",
    "# Put your code for computing the maximal height and when the snowball achieves this maximal height here!\n",
    "def find_height(v,time):\n",
    "    height = 1.75 + (v * time) - ((4.9) * time**2)\n",
    "    return round(height, 3)\n",
    "\n",
    "def max_height(v):\n",
    "    time = v/9.8\n",
    "    height = 1.75 + (v * time) - ((4.9) * time**2)\n",
    "    return round(height, 3)\n",
    "\n",
    "def max_height_time(v):\n",
    "    return v/9.8\n",
    "\n",
    "    \n",
    "prev_max_height = (0,0)\n",
    "for i in range(0,21):\n",
    "    current_height = find_height(47,i/2)\n",
    "    if prev_max_height[0] > current_height:\n",
    "        print(\"The snowball is falling\")\n",
    "        #print(prev_max_height)\n",
    "        break\n",
    "    else: prev_max_height = (current_height,i/2)\n",
    "\n",
    "print(f\"at time {prev_max_height[1]} seconds, max height is {prev_max_height[0]}m\")\n",
    "    \n",
    "print(\"At time %s seconds, max height is %sm\" % (round(max_height_time(47),3), max_height(47)))\n",
    "    "
   ]
  },
  {
   "cell_type": "markdown",
   "metadata": {},
   "source": [
    "**Question**: What was the maximum height of your snowball and at what time did it reach that height?"
   ]
  },
  {
   "cell_type": "markdown",
   "metadata": {},
   "source": [
    "at 5.0 seconds, max height is 114.25"
   ]
  },
  {
   "cell_type": "markdown",
   "metadata": {},
   "source": [
    "**Question**: What happens when you decrease the size of your time step? Does your value for the maximum height change? Try varying the time step size to find out. Can you come up with a better estimate for the maximum height? What are the tradeoffs between computing a really accurate height and number of timesteps required to compute it?"
   ]
  },
  {
   "cell_type": "markdown",
   "metadata": {},
   "source": [
    "yeah the smaller your increment the more accurate you can make it, but it also sacrifices some speed. "
   ]
  },
  {
   "cell_type": "markdown",
   "metadata": {},
   "source": [
    "---\n",
    "### STOP\n",
    "Check in with an instructor before continuing!\n",
    "\n",
    "---"
   ]
  },
  {
   "cell_type": "markdown",
   "metadata": {},
   "source": [
    "---\n",
    "## Part 4: Writing functions\n",
    "\n",
    "Now that you've had some practice writing a variety of if statements and loops at this point in the course, we want to try turning some of the code you've written into functions. Functions are **extremely useful** and you should try to get in the habit of writing functions in your code. This helps to compartmentalize your code and make it easier to both use and read -- including for yourself!"
   ]
  },
  {
   "cell_type": "markdown",
   "metadata": {},
   "source": [
    "### Part 4.1: Comparing numbers\n",
    "\n",
    "For this part, you're going to take the code your wrote earlier for comparing three numbers and you're going to turn it into a function called `compare`.\n",
    "\n",
    "Your `compare` function should:\n",
    "\n",
    "1. Take three numbers as inputs.\n",
    "2. Apply the same if statement logic as above and do the following:\n",
    "    1. If v1 is equal to v2, print \"woohoo!\"\n",
    "    2. If v1 is the smallest value of the three (i.e., v1 is less than both v2 and v3), print out \"v1 is tiny!\"\n",
    "    3. If v1 *is* the smallest value, add a nested if statement to print out a statement saying whether v2 or v3 is the largest value.\n",
    "    \n",
    "Once you're created your `compare` function. Run it with the following sets of numbers and ensure that it works correctly:\n",
    "* 10, 20, 30\n",
    "* 2, 2, 5\n",
    "* 19, 17, 18\n",
    "\n",
    "If you need a reminder about how to define functions, check here: [https://docs.python.org/3/tutorial/controlflow.html#defining-functions]()"
   ]
  },
  {
   "cell_type": "code",
   "execution_count": 2,
   "metadata": {},
   "outputs": [
    {
     "name": "stdout",
     "output_type": "stream",
     "text": [
      "v11\n",
      "v22\n",
      "v33\n",
      "v1 is tiny\n",
      "v3 is the largest\n",
      "v1 is tiny\n",
      "v3 is the largest\n",
      "woohoo\n"
     ]
    }
   ],
   "source": [
    "# Put your code here\n",
    "def compare(v1, v2, v3):\n",
    "    if v1 == v2:\n",
    "        print(\"woohoo\")\n",
    "    elif v1 < v2 and v1 < v3:\n",
    "        print(\"v1 is tiny\")\n",
    "        if v2 > v3: print(\"v2 is larger\")\n",
    "        else: print(\"v3 is the largest\")\n",
    "\n",
    "v1 = input(\"v1\")\n",
    "v2 = input(\"v2\")\n",
    "v3 = input(\"v3\")\n",
    "compare(v1,v2,v3)\n",
    "compare(10,20,30)\n",
    "compare(2,2,5)\n",
    "compare(19,17,18)\n",
    "    "
   ]
  },
  {
   "cell_type": "markdown",
   "metadata": {},
   "source": [
    "### Part 4.2: Finding maximum height\n",
    "\n",
    "Now you're going to take your code for finding the maximum snowball height and turn it into a function that can determine the maximum height and the time it reaches that height for **any** initial height and initial speed.\n",
    "\n",
    "Your function, let's call it `find_max_height`, should:\n",
    "\n",
    "1. Take initial height, initial speed, time step size, and a time limit as input variables. The time limit should be used to control how long your loop runs for.\n",
    "2. Compute and **return** the maximum height and the time when the snowball reaches that height.\n",
    "3. Your function **should not** print anything in it's final form (but you can use print statements to test/debug your code).\n",
    "\n",
    "Once you have a function that you think works, try running it for the same values you used before to confirm that it's behaving as intended:\n",
    "* Initial height of 1.75\n",
    "* Initial speed of 47 m/s\n",
    "* Time step size of 0.5 seconds\n",
    "* Total time span of 10 seconds\n",
    "\n",
    "You function should work so that you can just run the following command:\n",
    "\n",
    "`max_height, time_of_max = find_max_height(1.75, 47, 0.5, 10)`\n",
    "\n",
    "**Call your function and print the resulting values**. Then, test it on some new values for all of your input parameters!"
   ]
  },
  {
   "cell_type": "code",
   "execution_count": 44,
   "metadata": {},
   "outputs": [],
   "source": [
    "# Put your code here\n",
    "def find_max_height(init_height, init_speed, time_step_size, time_limit):\n",
    "    prev_max_height = (0,0)\n",
    "    for i in range(0, (time_limit+1)*1000, time_step_size*1000):\n",
    "        height = init_height + (init_speed * (i/1000)) - (4.9 * (i/1000)**2)\n",
    "        if prev_max_height[0] > height:\n",
    "            return prev_max_height\n",
    "        else:\n",
    "            prev_max_height = (height,(i/1000))\n",
    "\n",
    "\n",
    "\n",
    "max_height, time_of_max = find_max_height(1,47,1,10)"
   ]
  },
  {
   "cell_type": "markdown",
   "metadata": {},
   "source": [
    "---\n",
    "### STOP\n",
    "Check in with an instructor before you leave class!\n",
    "\n",
    "---"
   ]
  },
  {
   "cell_type": "markdown",
   "metadata": {},
   "source": [
    "---\n",
    "## Assignment Wrap-up\n",
    "\n",
    "Fill out the following Google form before submitting your notebook to D2L."
   ]
  },
  {
   "cell_type": "code",
   "execution_count": 45,
   "metadata": {},
   "outputs": [
    {
     "data": {
      "text/html": [
       "\n",
       "<iframe src=\"https://goo.gl/forms/qTSzzMGWAiUNEIWu2\"\n",
       "width=\"760\"\n",
       "height=\"500\"\n",
       "frameborder=\"0\"\n",
       "marginheight=\"0\"\n",
       "marginwidth=\"0\"\n",
       ">Loading...</iframe>\n"
      ],
      "text/plain": [
       "<IPython.core.display.HTML object>"
      ]
     },
     "execution_count": 45,
     "metadata": {},
     "output_type": "execute_result"
    }
   ],
   "source": [
    "from IPython.display import HTML\n",
    "\n",
    "HTML(\"\"\"\n",
    "<iframe src=\"https://goo.gl/forms/qTSzzMGWAiUNEIWu2\"\n",
    "width=\"760\"\n",
    "height=\"500\"\n",
    "frameborder=\"0\"\n",
    "marginheight=\"0\"\n",
    "marginwidth=\"0\"\n",
    ">Loading...</iframe>\n",
    "\"\"\")"
   ]
  },
  {
   "cell_type": "markdown",
   "metadata": {},
   "source": [
    "## Congratulations, you're done!\n",
    "\n",
    "Submit this assignment by uploading it to the course Desire2Learn web page.  Go to the \"In-class assignments\" folder, find the dropbox link for Day 4, and upload it there.\n",
    "\n",
    "See you next class!"
   ]
  }
 ],
 "metadata": {
  "kernelspec": {
   "display_name": "Python 3",
   "language": "python",
   "name": "python3"
  },
  "language_info": {
   "codemirror_mode": {
    "name": "ipython",
    "version": 3
   },
   "file_extension": ".py",
   "mimetype": "text/x-python",
   "name": "python",
   "nbconvert_exporter": "python",
   "pygments_lexer": "ipython3",
   "version": "3.7.0"
  }
 },
 "nbformat": 4,
 "nbformat_minor": 2
}
