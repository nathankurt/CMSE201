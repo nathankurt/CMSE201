{
 "cells": [
  {
   "cell_type": "markdown",
   "metadata": {},
   "source": [
    "### <p style=\"text-align: right;\"> &#9989; Nahtan Kurt.</p>\n",
    "\n",
    "#### <p style=\"text-align: right;\"> &#9989; Jack M, Noah Z. Matt, Vince</p>"
   ]
  },
  {
   "cell_type": "markdown",
   "metadata": {},
   "source": [
    "# Day 9 In-class: Building Compartmental Models\n",
    "___\n",
    "\n",
    "### Goals for today's assignment:\n",
    "\n",
    "1. Think about how to build compartmental models for a variety of applications.\n",
    "\n",
    "### Assignment instructions:\n",
    "\n",
    "In today's class you will be building three compartmental models. **There will be no coding today**, although you will code models like these later in the week. The goal today is learning to construct models. \n",
    "\n",
    "To ensure you are able to complete all three, be sure to budget your time accordingly. One idea is to take the amount of time you have left as of right now, divide by three and set a timer. (For example, you can type `timer 40 minutes` into Google and it will start a timer for you.) The instructor will also help to keep you on time.\n",
    "\n",
    "You might start with:\n",
    "* 15 minutes to brainstorm with your group, drawing a variety of variants of possible models. \n",
    "* 10 minutes to write the answers to the questions below. (You will likely improve your model as you write this.)\n",
    "* 5 minutes to transition to the next model. \n",
    "\n",
    "**Read below to learn what you're expected to turn in for this assignment.**"
   ]
  },
  {
   "cell_type": "markdown",
   "metadata": {},
   "source": [
    "___\n",
    "## What you need to turn in at the end of class.\n",
    "___\n",
    "* The names of the people in your group.\n",
    "* A picture of each of the three compartmental models. You can draw these on the whiteboards and take a picture.\n",
    "   - Think about which compartments you will need: what are the interacting things your model needs?\n",
    "   - Think about how these things interact, and draw a diagram like this to show those connections. \n",
    "![compmod](http://www.pmod.com/files/download/v31/doc/pkin/2389.png)\n",
    "   - Think about whether the connections are arrows or just lines, do the errors go in both directions? Think about what is causing the influence of one compartment on another and at what rate that might be happening.\n",
    "   - Be creative: use different colors, sizes, line types (e.g., dashed): the goal is to be able to express your model in a form that you can discuss it logically and be able to ultimately use it as a guide for coding it (perhaps using ODEs).\n",
    "\n",
    "\n",
    "* A written description of each of the models:\n",
    "    - What are the compartments you chose? Why did you choose those? Which did you consider that you felt were not needed? \n",
    "    - What are the dependencies between the compartments? Are there transitions between all of the compartments? Or, do some of the compartments only influence the other compartments? \n",
    "    - How many parameters does your model have? How would you go about getting these parameters?\n",
    "    - Once this model is complete and coded, how would you test it? What could you use the model for?\n",
    "    \n",
    "Note that this project is fairly opened ended. This is because _reality_ is open ended. You will be assessed on your ability to work as a team to come up with a logical and credible model, not to find the \"correct\" answer (which likely doesn't exist anyway).\n",
    "\n",
    "One of the most important issues we face when building models is what needs to go into the model and what doesn't. Use whatever web resources you need to gather information and data; none of us are experts on the topics below, and a little research can help you build something credible."
   ]
  },
  {
   "cell_type": "markdown",
   "metadata": {},
   "source": [
    "____\n",
    "____"
   ]
  },
  {
   "cell_type": "markdown",
   "metadata": {},
   "source": [
    "___\n",
    "# Health: Infectious Disease Pandemic\n",
    "___\n",
    "\n",
    "We'll take a moment to watch the following video as a class."
   ]
  },
  {
   "cell_type": "code",
   "execution_count": 1,
   "metadata": {},
   "outputs": [
    {
     "data": {
      "image/jpeg": "[encoded data removed]",
      "text/html": [
       "\n",
       "        <iframe\n",
       "            width=\"640\"\n",
       "            height=\"360\"\n",
       "            src=\"https://www.youtube.com/embed/9axOFtPqS0c\"\n",
       "            frameborder=\"0\"\n",
       "            allowfullscreen\n",
       "        ></iframe>\n",
       "        "
      ],
      "text/plain": [
       "<IPython.lib.display.YouTubeVideo at 0x1111169e8>"
      ]
     },
     "execution_count": 1,
     "metadata": {},
     "output_type": "execute_result"
    }
   ],
   "source": [
    "from IPython.display import YouTubeVideo\n",
    "YouTubeVideo('9axOFtPqS0c',width=640,height=360)"
   ]
  },
  {
   "cell_type": "markdown",
   "metadata": {},
   "source": [
    "Infectious diseases have killed millions of people in the past century.\n",
    "\n",
    "<img src=\"https://s-media-cache-ak0.pinimg.com/originals/92/52/d1/9252d1487c065b2f18e8c4c28f19198c.jpg\" width=500px>\n",
    "\n",
    "One class of diseases includes respiratory viral diseases, like the common cold, measles and influenza. \n",
    "\n",
    "Design a compartmental model that describes a population of people in which a new virus is introduced. Imagine that the virus is spread through the human population through only human-to-human interactions (for example, a cold, flu, HIV, but in contrast to the Zika virus, which is spread by infected mosquitos).\n",
    "\n",
    "Some things to consider:\n",
    "* Which human diseases do you get over and which ones do you keep for life?\n",
    "* Which diseases do humans get from other animals? How would you model that in comparison to a disease that is only transferred between humans?\n",
    "* How can your models include prevention, use of vaccines/drugs, or [social distancing](https://en.wikipedia.org/wiki/Social_distancing)?\n",
    "* How would models for these disease differ: HIV, cold, ebola, HPV? \n",
    "\n",
    "\n",
    "Use the markdown cell below to describe the compartmental models that you built and remember to upload a photo of your compartmental model.\n",
    "\n",
    "___\n"
   ]
  },
  {
   "cell_type": "markdown",
   "metadata": {},
   "source": [
    "Our models....\n",
    "![image](https://user-images.githubusercontent.com/9864281/46304412-9cacff80-c57c-11e8-9bcc-02ea6a833f4b.png)\n"
   ]
  },
  {
   "cell_type": "markdown",
   "metadata": {},
   "source": [
    "In our compartmental models, we have Healthy individuals, carriers, animals, infected, and dead. At the start of everything, we have our healthy people. from there, we have an contact rate from our carriers, which are getting input from infected animals and infected people. those healthy people then have an infecction rate at which they move to infected. from infected, there is a vaccination rate at which people move from infected back to healthy, and there is a death rate, at which people die from being infected."
   ]
  },
  {
   "cell_type": "markdown",
   "metadata": {},
   "source": [
    "___\n",
    "# Ecology: Sharks versus Cape Fur Seals\n",
    "___\n",
    "\n",
    "Before moving to the next model, we'll take a moment to watch the following video as a class."
   ]
  },
  {
   "cell_type": "code",
   "execution_count": null,
   "metadata": {},
   "outputs": [],
   "source": [
    "from IPython.display import YouTubeVideo\n",
    "YouTubeVideo('Qzxy3GtSzt0',width=640,height=360)"
   ]
  },
  {
   "cell_type": "markdown",
   "metadata": {},
   "source": [
    "In the waters around South Africa there are many seals, and these seals enjoy relaxing on the beach.\n",
    "\n",
    "<img src=\"https://images.fineartamerica.com/images-medium-large/harbor-seals-sunbathing-on-the-beach-40d7553-wingsdomain-art-and-photography.jpg\" width=500>\n",
    "\n",
    "Unfortunately, these seals are food for the very deadly great white sharks. The problem is that sharks are drawn to the beaches because of the seals, but the beaches are also used by humans; the great whites don't have a big preference for seals versus humans - a meal is a meal. \n",
    "\n",
    "Design a compartmental model that describes this situation following the instructions given above. \n",
    "\n",
    "Use the markdown cell below to describe the compartmental models that you built and remember to upload a photo of your compartmental model.\n",
    "___"
   ]
  },
  {
   "attachments": {},
   "cell_type": "markdown",
   "metadata": {},
   "source": [
    "![image](https://user-images.githubusercontent.com/9864281/46305484-8f454480-c57f-11e8-8008-c90e99603bcb.png)\n",
    "\n"
   ]
  },
  {
   "cell_type": "markdown",
   "metadata": {},
   "source": [
    "In Our Model, we have Beach population and ocean population, and human victims and attacked seals. As more people move from the beach to water, more sharks show up and thus more victims happen. As more seals move from the beach to water, more sharks show up. "
   ]
  },
  {
   "cell_type": "markdown",
   "metadata": {},
   "source": [
    "___\n",
    "# Social Science: Spread of Rumors\n",
    "___\n",
    "\n",
    "Before starting the final model, we'll take a moment to watch the following video as a class."
   ]
  },
  {
   "cell_type": "code",
   "execution_count": null,
   "metadata": {},
   "outputs": [],
   "source": [
    "from IPython.display import YouTubeVideo\n",
    "YouTubeVideo('g8GKJ1GwFvg',width=640,height=360)"
   ]
  },
  {
   "cell_type": "markdown",
   "metadata": {},
   "source": [
    "Rumors have been with us as long as we have been here.\n",
    "\n",
    "<img src=\"https://images.techhive.com/images/article/2016/08/rumors-100677553-large.jpg\" width=500>\n",
    "\n",
    "It has not always been well understood how rumors start, how long they last and why they seem to die away. This particular problem is connected to how jokes spread, how propaganda can be used against a society and how people develop their culture. \n",
    "\n",
    "Design a compartmental model that describes how a rumor spreads through society. \n",
    "\n",
    "Think about recent events in the news that involve influencing presidental elections using social media. How would you model this?\n",
    "\n",
    "\n",
    "Use the markdown cell below to describe the compartmental models that you built and remember to upload a photo of your compartmental model.\n",
    "___\n"
   ]
  },
  {
   "cell_type": "markdown",
   "metadata": {},
   "source": [
    "Our models.....\n",
    "![image](https://user-images.githubusercontent.com/9864281/46306617-bfdaad80-c582-11e8-968c-937745374c26.png)\n",
    "\n",
    "Our model has people who have heard the rumor, people who haven't heard it yet. People who will spread the rumor and people who won't and don't care. with the hear rate as parameters an agree rate vs disagree rate would probably be constants, and the rate of the hear rate going from the people who spread the rumor to people who haven't heard yet. \n"
   ]
  },
  {
   "cell_type": "markdown",
   "metadata": {},
   "source": [
    "---\n",
    "## Assignment Wrap-up\n",
    "\n",
    "Please fill out the form that appears when you run the code below.  **You must completely fill this out in order to receive credit for the assignment!**"
   ]
  },
  {
   "cell_type": "code",
   "execution_count": 3,
   "metadata": {},
   "outputs": [
    {
     "data": {
      "text/html": [
       "\n",
       "<iframe \n",
       "\tsrc=\"https://goo.gl/forms/EfhU2uFNshErmozY2\" \n",
       "\twidth=\"800\" \n",
       "\theight=\"600\" \n",
       "\tframeborder=\"0\" \n",
       "\tmarginheight=\"0\" \n",
       "\tmarginwidth=\"0\">\n",
       "\tLoading...\n",
       "</iframe>\n"
      ],
      "text/plain": [
       "<IPython.core.display.HTML object>"
      ]
     },
     "execution_count": 3,
     "metadata": {},
     "output_type": "execute_result"
    }
   ],
   "source": [
    "from IPython.display import HTML\n",
    "HTML(\n",
    "\"\"\"\n",
    "<iframe \n",
    "\tsrc=\"https://goo.gl/forms/EfhU2uFNshErmozY2\" \n",
    "\twidth=\"800\" \n",
    "\theight=\"600\" \n",
    "\tframeborder=\"0\" \n",
    "\tmarginheight=\"0\" \n",
    "\tmarginwidth=\"0\">\n",
    "\tLoading...\n",
    "</iframe>\n",
    "\"\"\"\n",
    ")"
   ]
  },
  {
   "cell_type": "markdown",
   "metadata": {},
   "source": [
    "### Congratulations, you're done!\n",
    "\n",
    "Submit this assignment by uploading your notebook and the pictures of your models it to the course Desire2Learn web page.  Go to the \"In-Class Assignments\" folder, find the submission link for Day 9, and upload everything there. Make sure your name is on it!"
   ]
  },
  {
   "cell_type": "markdown",
   "metadata": {},
   "source": [
    "&#169; Copyright 2018,  Michigan State University Board of Trustees"
   ]
  }
 ],
 "metadata": {
  "kernelspec": {
   "display_name": "Python 3",
   "language": "python",
   "name": "python3"
  },
  "language_info": {
   "codemirror_mode": {
    "name": "ipython",
    "version": 3
   },
   "file_extension": ".py",
   "mimetype": "text/x-python",
   "name": "python",
   "nbconvert_exporter": "python",
   "pygments_lexer": "ipython3",
   "version": "3.7.0"
  }
 },
 "nbformat": 4,
 "nbformat_minor": 2
}
