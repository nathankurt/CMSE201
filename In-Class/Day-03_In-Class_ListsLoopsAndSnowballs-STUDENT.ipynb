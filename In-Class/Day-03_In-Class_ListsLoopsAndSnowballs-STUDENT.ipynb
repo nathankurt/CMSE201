{
 "cells": [
  {
   "cell_type": "markdown",
   "metadata": {},
   "source": [
    "### <p style=\"text-align: right;\"> &#9989; Nate Kurt\n",
    "<p style=\"text-align: right;\"> &#9989; Patrick Govan, Jack M, Noah Z, Matt J, Vince P"
   ]
  },
  {
   "cell_type": "markdown",
   "metadata": {},
   "source": [
    "# Day 3 In-class Assignment: The perfectly timed snowball\n",
    "![Snowballs](http://cocktailsandmovies.com/wp-content/uploads/2015/12/Elf-snowballs.jpg)"
   ]
  },
  {
   "cell_type": "markdown",
   "metadata": {},
   "source": [
    "## Learning Goals:\n",
    "\n",
    "By the end of this assignment you should be able to:\n",
    "\n",
    "* Use Python lists to store values\n",
    "* Use loops to iterate over a specified range or until a condition is met.\n",
    "* Compute the speed necessary to throw a perfectly timed snowball.\n"
   ]
  },
  {
   "cell_type": "markdown",
   "metadata": {},
   "source": [
    "---\n",
    "## The Problem\n",
    "\n",
    "Given all the snow that will arrive sooner than we'd like here in Michigan, you've been thinking about playing a little prank on your roommate this winter involving a perfectly timed snowball. Fortunately, you've been learning a bit of Python and you're pretty sure that you can write a bit of code to make sure your plan goes without a hitch.\n",
    "\n",
    "### The details of your plan\n",
    "\n",
    "You plan to wait at home for your roommate to get back from class. You figure you can hideout on the porch and when you see your roommate coming, you can throw the snowball straight up in the air and duck inside so that you can watch from the window as they receive your icy surprise.\n",
    "\n",
    "This sounds like a great plan, but you realize you need to know when the snowball will land based on how fast you throw it so that you can time it just right. You're not yet sure how long it takes your roommate to get to the door from the moment when you first see them, so you figure you'll just compute several impacts times based on a range of initial snowball speeds and work out the rest of the details later."
   ]
  },
  {
   "cell_type": "markdown",
   "metadata": {},
   "source": [
    "### The math behind the model\n",
    "\n",
    "Now that you've come up with your plan, you need to do a bit of digging to figure out how to compute the amount of time the snowball spends in the air based on the speed you launch it with. You spend a bit of time searching around on the internet, including Wikipedia, and you find that the important equation of motion is this:\n",
    "\n",
    "$$h(t) = h_0 + v_0t - \\frac{1}{2}gt^2$$\n",
    "\n",
    "where $h$ is the height of the snowball as a function of time, $h_0$ is the initial height that the snowball is launched from, $v_0$ is the initial speed the snowball is launched with, $g$ is the acceleration due to gravity, and $t$ is the time in seconds. \n",
    "\n",
    "You give it some further thought and realize what you want to know is when will the snowball land, so **when does $h(t)=0$?**\n",
    "\n",
    "You know that the initial height that the snowball is launched from, $h_0$, is roughly your height since you'll be throwing it, which we'll approximate as **1.75 meters**.\n",
    "\n",
    "You also recall that at some point you learned that the **acceleration due to gravity is 9.8 m/s$^2$**\n",
    "\n",
    "This means that all you need to do is **calculate the value of $t$ based on a range of initial values for the speed of the snowball, $v_0$**.\n",
    "\n",
    "#### Potentially useful information:\n",
    "\n",
    "It might have been a while since you've see an equation that looks like the one above. It turns out it's very close to being a **quadratic equation**, which looks something like:\n",
    "\n",
    "$$at^2 + bt + c = 0$$\n",
    "\n",
    "and, if you recall, the solution to this equation is given by:\n",
    "\n",
    "$$t = \\frac{-b~\\pm~\\sqrt{b^2~-~4ac}}{2a}$$"
   ]
  },
  {
   "cell_type": "markdown",
   "metadata": {},
   "source": [
    "---\n",
    "## Part 1: Planning your solution and pseudo-coding\n",
    "\n",
    "In general, before you start writing any code, it's good to get into the habit of coming up with a plan for how you've going to solve the problem. During this phase it is important to identify and define the variables that are revelant to the problem, the equations you're going to need to solve, and the overall structure of the program that you will write to solve the problem.\n",
    "\n",
    "To get some practice with this, you and your group members are expected to **use your whiteboards** to come up with a plan of attack for computing the impact time of the snowball you're hoping to drop on the unsuspecting head of your roommate. Part of this planning process should involve a bit of what we commonly refer to as \"pseudo-code.\" Pseudo-code is writing or text that follows the programmatic style of real code but doesn't necessarily have all of the proper syntax. You can think of it as an outline for how your program *should* work, before you actually start to code it up.\n",
    "\n",
    "Things you should decide on during your planning and psuedo-coding:\n",
    "\n",
    "1. What variables are important for solving this problem?\n",
    "2. What are the right initial values for these variables?\n",
    "3. What is a reasonable range for the snowball speeds you're going to explore?\n",
    "4. How will you go about solving for multiple impact times?\n",
    "5. How many impact times do you plan to compute?\n",
    "6. How will you store your snowball speeds and corresponding impacts times?\n",
    "\n",
    "Not only should you come up with answers to these questions and a plan for your code, but you should be able to defend your choices!\n",
    "\n",
    "**Record the details of you plan in the Markdown cell below.**"
   ]
  },
  {
   "cell_type": "markdown",
   "metadata": {},
   "source": [
    "1. velocity inital and final,  and time, \n",
    "2. time = 0, vinit = 10m/s to 20m/s, \n",
    "3. range 10m/s to 20m/s \n",
    "4. multiple impact times just adjust inital velocity\n"
   ]
  },
  {
   "cell_type": "markdown",
   "metadata": {},
   "source": [
    "---\n",
    "### STOP\n",
    "Check-in with an instructor before you start coding!\n",
    "\n",
    "---"
   ]
  },
  {
   "cell_type": "markdown",
   "metadata": {},
   "source": [
    "---\n",
    "## Part 2: Coding up your solution\n",
    "\n",
    "Now that you and your group have come up with a plan for your code, it's time to put your plan into action. Your code should do the following:\n",
    "\n",
    "1. Compute snowball impact times for a range of initial snowball speeds. You are free to choose the range of initial snowball speeds (the number of speeds and the value of each speed), but you are expected to justify your choices.\n",
    "2. Store the snowball speeds and their corresponding impact times in a list.\n",
    "3. Iterate through your list(s) of speeds and impact times and print the values in the follow way:\n",
    "    - \"For an initial snowball speed of < v > m/s, the impact time will be < t > seconds.\" where < v > is the speed and < t > is the time\n",
    "    \n",
    "**Write your code in the cell below (feel free to break it up into multiple cells if you prefer).**"
   ]
  },
  {
   "cell_type": "code",
   "execution_count": 18,
   "metadata": {},
   "outputs": [
    {
     "name": "stdout",
     "output_type": "stream",
     "text": [
      "When initial speed is 10 m/s:  2.203\n",
      "When initial speed is 11 m/s:  2.394\n",
      "When initial speed is 12 m/s:  2.587\n",
      "When initial speed is 13 m/s:  2.781\n",
      "When initial speed is 14 m/s:  2.977\n",
      "When initial speed is 15 m/s:  3.174\n",
      "When initial speed is 16 m/s:  3.371\n",
      "When initial speed is 17 m/s:  3.569\n",
      "When initial speed is 18 m/s:  3.768\n",
      "When initial speed is 19 m/s:  3.968\n",
      "When initial speed is 20 m/s:  4.167\n"
     ]
    }
   ],
   "source": [
    "# Put your code for computing snowball impact times here!\n",
    "def quadratic(a,b,c):\n",
    "    pos = (-1 * b + ((b **2) - (4* a * c)) ** (1/2)) / (2 * a)\n",
    "    neg = (-1 * b - ((b **2) - (4* a * c)) ** (1/2)) / (2 * a)\n",
    "    return (round(neg,3))\n",
    "\n",
    "init_height = 1.75\n",
    "gravity = (9.8) * (-.5)\n",
    "speed = [10,11,12,13,14,15,16,17,18,19,20]\n",
    "\n",
    "\n",
    "\n",
    "for i in speed:\n",
    "    print(\"When initial speed is %s m/s: \" % (i), quadratic(gravity,i,init_height))\n",
    "\n",
    "\n",
    "speed_list = [quadratic(gravity,i,init_height) for i in speed]\n",
    "\n",
    "print(speed_list)\n",
    "\n",
    "new_list = list(zip(speed,speed_list))\n",
    "\n",
    "\n",
    "    \n",
    "    "
   ]
  },
  {
   "cell_type": "markdown",
   "metadata": {},
   "source": [
    "**Question 1**: What did you choose as your slowest speed and why? What is the corresponding impact time for this speed?"
   ]
  },
  {
   "cell_type": "markdown",
   "metadata": {},
   "source": [
    "0 would be the slowest speed because at the top of the parabola "
   ]
  },
  {
   "cell_type": "markdown",
   "metadata": {},
   "source": [
    "**Question 2**: What did you choose as your fastest speed and why? What is the corresponding impact time for this speed?"
   ]
  },
  {
   "cell_type": "markdown",
   "metadata": {},
   "source": [
    "Fastest speed was 20 m/s and time was 4.167"
   ]
  },
  {
   "cell_type": "markdown",
   "metadata": {},
   "source": [
    "**Question 3**: Based on the impact times that you computed, do you think it will be feasible to pull off the prank without your roommate catching you? Explain why or why not."
   ]
  },
  {
   "cell_type": "markdown",
   "metadata": {},
   "source": [
    "Not really, you'd have to be pretty accurate and also pretty fast to get away since it happens all in like four seconds "
   ]
  },
  {
   "cell_type": "markdown",
   "metadata": {},
   "source": [
    "**Question 4**: What was the hardest part about computing the impact times for your snowball prank?"
   ]
  },
  {
   "cell_type": "markdown",
   "metadata": {},
   "source": [
    "I guess converting the values"
   ]
  },
  {
   "cell_type": "markdown",
   "metadata": {},
   "source": [
    "---\n",
    "### STOP\n",
    "Check in with an instructor before you move on!\n",
    "\n",
    "---"
   ]
  },
  {
   "cell_type": "markdown",
   "metadata": {},
   "source": [
    "---\n",
    "## Part 3: Finding the maximal height\n",
    "\n",
    "Now that you have an idea how long the snowball will be in the air based on how hard you throw it, you also want to find out how high the snowball will travel in the air before falling towards the ground. Similarly to Part 1, you should write some __pseudo-code__ that will act as a guide for how you _would_ determine:\n",
    "\n",
    "1. The maximal height of the snowball based on its initial velocity.\n",
    "2. The time at which the snowball achieves the maximal height.\n",
    "\n",
    "You should discuss how you would determine these values with your group members and make use of the whiteboards to help map out the basic ideas. Your solution might require some concepts that we haven’t yet learned — that’s OK! You just need to figure out how the code _would_ work.\n",
    " \n",
    "**Record the details of you plan in the Markdown cell below.**"
   ]
  },
  {
   "cell_type": "markdown",
   "metadata": {},
   "source": [
    "Take derivative of equation and then find value at 0\n",
    "\n",
    "so v(t) = V0 - gt\n",
    "so 0 = V0 - (9.8)(t)\n",
    "   V0/9.8 = t\n",
    "   \n",
    " then plug in that value for the height equation for t"
   ]
  },
  {
   "cell_type": "markdown",
   "metadata": {},
   "source": [
    "---\n",
    "\n",
    "## Time Allowing: \n",
    "Try implementing your solution to Part 3 with code. If you get stuck on a certain concept, ask the instructor, TA, or LA(s) for help."
   ]
  },
  {
   "cell_type": "code",
   "execution_count": 38,
   "metadata": {},
   "outputs": [
    {
     "name": "stdout",
     "output_type": "stream",
     "text": [
      "At time 1.02 seconds, max height is 6.852m\n",
      "At time 1.122 seconds, max height is 7.923m\n",
      "At time 1.224 seconds, max height is 9.097m\n",
      "At time 1.327 seconds, max height is 10.372m\n",
      "At time 1.429 seconds, max height is 11.75m\n",
      "At time 1.531 seconds, max height is 13.23m\n",
      "At time 1.633 seconds, max height is 14.811m\n",
      "At time 1.735 seconds, max height is 16.495m\n",
      "At time 1.837 seconds, max height is 18.281m\n",
      "At time 1.939 seconds, max height is 20.168m\n",
      "At time 2.041 seconds, max height is 22.158m\n"
     ]
    }
   ],
   "source": [
    "# Put your code for computing the maximal height and when the snowball achieves this maximal height here!\n",
    "def max_height(v):\n",
    "    time = v/9.8\n",
    "    height = 1.75 + (v * time) - ((4.9) * time**2)\n",
    "    return round(height, 3)\n",
    "\n",
    "def max_height_time(v):\n",
    "    return v/9.8\n",
    "\n",
    "speed = [10,11,12,13,14,15,16,17,18,19,20]\n",
    "for i in speed:\n",
    "    print(\"At time %s seconds, max height is %sm\" % (round(max_height_time(i),3), max_height(i)))\n",
    "    "
   ]
  },
  {
   "cell_type": "markdown",
   "metadata": {},
   "source": [
    "---\n",
    "### STOP\n",
    "Check in with an instructor before you leave class!\n",
    "\n",
    "---"
   ]
  },
  {
   "cell_type": "markdown",
   "metadata": {},
   "source": [
    "---\n",
    "## Assignment Wrap-up\n",
    "\n",
    "Fill out the following Google form before submitting your notebook to D2L."
   ]
  },
  {
   "cell_type": "code",
   "execution_count": 39,
   "metadata": {},
   "outputs": [
    {
     "data": {
      "text/html": [
       "\n",
       "<iframe src=\"https://goo.gl/forms/C4A2pmcc3k2HuGjm2\"\n",
       "width=\"1000\"\n",
       "height=\"1000\"\n",
       "frameborder=\"0\"\n",
       "marginheight=\"0\"\n",
       "marginwidth=\"0\"\n",
       ">Loading...</iframe>\n"
      ],
      "text/plain": [
       "<IPython.core.display.HTML object>"
      ]
     },
     "execution_count": 39,
     "metadata": {},
     "output_type": "execute_result"
    }
   ],
   "source": [
    "from IPython.display import HTML\n",
    "\n",
    "HTML(\"\"\"\n",
    "<iframe src=\"https://goo.gl/forms/C4A2pmcc3k2HuGjm2\"\n",
    "width=\"1000\"\n",
    "height=\"1000\"\n",
    "frameborder=\"0\"\n",
    "marginheight=\"0\"\n",
    "marginwidth=\"0\"\n",
    ">Loading...</iframe>\n",
    "\"\"\")"
   ]
  },
  {
   "cell_type": "markdown",
   "metadata": {},
   "source": [
    "## Congratulations, you're done!\n",
    "\n",
    "Submit this assignment by uploading it to the course Desire2Learn web page.  Go to the \"In-class assignments\" folder, find the submission link for Day 3, and upload it there.\n",
    "\n",
    "See you next class!"
   ]
  },
  {
   "cell_type": "markdown",
   "metadata": {},
   "source": [
    "&#169; Copyright 2018,  Michigan State University Board of Trustees"
   ]
  }
 ],
 "metadata": {
  "kernelspec": {
   "display_name": "Python 3",
   "language": "python",
   "name": "python3"
  },
  "language_info": {
   "codemirror_mode": {
    "name": "ipython",
    "version": 3
   },
   "file_extension": ".py",
   "mimetype": "text/x-python",
   "name": "python",
   "nbconvert_exporter": "python",
   "pygments_lexer": "ipython3",
   "version": "3.7.0"
  }
 },
 "nbformat": 4,
 "nbformat_minor": 2
}
