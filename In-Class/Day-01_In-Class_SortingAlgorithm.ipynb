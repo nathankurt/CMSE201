{
 "cells": [
  {
   "cell_type": "code",
   "execution_count": null,
   "metadata": {},
   "outputs": [],
   "source": []
  },
  {
   "cell_type": "markdown",
   "metadata": {},
   "source": [
    "<p style=\"text-align: right;\">\n",
    "&#9989; **Nathan Kurt** (this assignment will be turned in individually)\n",
    "</p>"
   ]
  },
  {
   "cell_type": "markdown",
   "metadata": {},
   "source": [
    "# Day 1 In-Class Assignment\n",
    "<img src=\"https://cmse.msu.edu/_cmse/assets/Image/Screen%20Shot%202017-10-13%20at%2011_48_30%20AM.png\" width=200px>"
   ]
  },
  {
   "cell_type": "markdown",
   "metadata": {},
   "source": [
    "## Goals for today's in-class assignment\n",
    "\n",
    "* Get comfortable with D2L\n",
    "* Pratice how to use a Jupyter notebook \n",
    "* Get to know your fellow students\n",
    "* Start thinking about algorithm design"
   ]
  },
  {
   "cell_type": "markdown",
   "metadata": {},
   "source": [
    "## Jupyter and D2L\n",
    "\n",
    "The video below shows you how to run Jupyter and use basic D2L. If you're reading this right now, it means you've already managed to get most of it working! We'll be working through how to download, run, save, and upload Jupyer Notebooks in class, but this video is provided as a reference for your use in the future.\n",
    "\n",
    "**To make notebook cells that have Python code in them do something, hold down the 'shift' key and then press the 'enter' key.** You'll have to do this to get the YouTube videos to run.\n"
   ]
  },
  {
   "cell_type": "code",
   "execution_count": 1,
   "metadata": {},
   "outputs": [],
   "source": [
    "# Imports the functionality that we need to display YouTube videos in a Jupyter Notebook.  \n",
    "# You need to run this cell before you run ANY of the YouTube videos.\n",
    "\n",
    "from IPython.display import YouTubeVideo  "
   ]
  },
  {
   "cell_type": "code",
   "execution_count": 2,
   "metadata": {},
   "outputs": [
    {
     "data": {
      "image/jpeg": "[encoded data removed]",
      "text/html": [
       "\n",
       "        <iframe\n",
       "            width=\"640\"\n",
       "            height=\"360\"\n",
       "            src=\"https://www.youtube.com/embed/5WSQnGmz3IA\"\n",
       "            frameborder=\"0\"\n",
       "            allowfullscreen\n",
       "        ></iframe>\n",
       "        "
      ],
      "text/plain": [
       "<IPython.lib.display.YouTubeVideo at 0x1096bce80>"
      ]
     },
     "execution_count": 2,
     "metadata": {},
     "output_type": "execute_result"
    }
   ],
   "source": [
    "# Video on Modules in Python\n",
    "# Make sure to watch it in full-screen mode!\n",
    "\n",
    "YouTubeVideo(\"5WSQnGmz3IA\",width=640,height=360)  "
   ]
  },
  {
   "cell_type": "markdown",
   "metadata": {},
   "source": [
    "---\n",
    "# Introductions!\n",
    "\n",
    "### Take a moment to introduce yourself to the people around you \n",
    "Introduce yourself to at least 3 other students in the class. During your introductions, make sure to let each other know your name, what you current major is, and the most interesting thing you did or that happened to you this past summer. **Make sure you listen to each other when doing the introductions!**"
   ]
  },
  {
   "cell_type": "markdown",
   "metadata": {},
   "source": [
    "---\n",
    "# Now for some interaction...\n",
    "\n",
    "### An adventure in sorting algorithms\n",
    "\n",
    "**“How would you go about sorting a group of people to be in chronological order by date of birth?”**\n",
    "\n",
    "* First, form small teams of ~4 students with people near you. \n",
    "* Each team is tasked with designing an algorithm that will sort a group of students in chronological order by their date of birth under the restriction that **they can only ask and answer yes or no questions of the group**. You will have **10** minutes to collectively design your algorithm. **Use the whiteboards to plan out your algorithm!**\n",
    "* After you've designed your algorithm, form a larger group by joining up with 2-3 other teams within the room (the instructor will help with this).\n",
    "* Now, each of the original small teams should take turns implementing their algorithm by sorting the combined members of the other teams.\n",
    "   - **Important**: Make sure to keep track of how many steps were required to accurately sort everyone.\n",
    "* Once each teams has tested their algorithm take a few minutes to discuss each other's algorithms and the nature of the process in general:\n",
    "\t- What worked well and what didn't?\n",
    "\t- Are there ways to make your algorithm work more efficiently?\n",
    "\t- Which algorithm worked the best and why?\n",
    "    - What if the individuals that you were trying to sort could ask questions of each other?\n",
    "* **Write down in your own words the final algorithm in the box below** (Don't forget to put your name at the top of the notebook!)"
   ]
  },
  {
   "cell_type": "markdown",
   "metadata": {},
   "source": [
    "*Put the details of your team's algorithm here! [double-click on the text to put the cell in edit mode]*\n",
    "\n",
    "This is just going to be a basic bubble sort. So we check with first two people and if the first person is older than the second, then we swap them. then compare the larger one with another person and swap if larger. if not then keep. At the end of that pass you will have the largest. Make a few passes without that largest and then eventually when you don't need to do any swaps, the list will be sorted.  \n"
   ]
  },
  {
   "cell_type": "code",
   "execution_count": 7,
   "metadata": {},
   "outputs": [
    {
     "name": "stdout",
     "output_type": "stream",
     "text": [
      "[12, 13, 14, 17, 18, 54]\n"
     ]
    }
   ],
   "source": [
    "def bubbleSort(alist):\n",
    "    for j in range(len(alist)-1,0,-1):\n",
    "        for i in range(j):\n",
    "            if alist[i]>alist[i+1]:\n",
    "                temp = alist[i]\n",
    "                alist[i] = alist[i+1]\n",
    "                alist[i+1] = temp\n",
    "    print(alist)\n",
    "ls = [17, 14, 13, 12 , 54, 18]\n",
    "bubbleSort(ls)"
   ]
  },
  {
   "cell_type": "markdown",
   "metadata": {},
   "source": [
    "---\n",
    "### Background information on algorithms\n",
    "For more information about what algorithm is and how they can be used. Watch the video below."
   ]
  },
  {
   "cell_type": "code",
   "execution_count": null,
   "metadata": {
    "collapsed": true
   },
   "outputs": [],
   "source": [
    "# Video on Algorithms and Programs\n",
    "# Watch it in full-screen mode if it's too small for you.\n",
    "\n",
    "YouTubeVideo(\"jT0KZ849fak\",width=640,height=360)  "
   ]
  },
  {
   "cell_type": "markdown",
   "metadata": {},
   "source": [
    "---\n",
    "### Assignment wrap-up\n",
    "\n",
    "Please fill out the form that appears when you run the code below.  **You must completely fill this out in order to receive credit for the assignment!**"
   ]
  },
  {
   "cell_type": "code",
   "execution_count": 8,
   "metadata": {
    "scrolled": false
   },
   "outputs": [
    {
     "data": {
      "text/html": [
       "\n",
       "<iframe src=\"https://goo.gl/forms/PdzidWmDnqyBacqG3\"\n",
       "width=\"760\"\n",
       "height=\"500\"\n",
       "frameborder=\"0\"\n",
       "marginheight=\"0\"\n",
       "marginwidth=\"0\"\n",
       ">Loading...</iframe>\n"
      ],
      "text/plain": [
       "<IPython.core.display.HTML object>"
      ]
     },
     "execution_count": 8,
     "metadata": {},
     "output_type": "execute_result"
    }
   ],
   "source": [
    "from IPython.display import HTML\n",
    "HTML(\n",
    "\"\"\"\n",
    "<iframe src=\"https://goo.gl/forms/PdzidWmDnqyBacqG3\"\n",
    "width=\"760\"\n",
    "height=\"500\"\n",
    "frameborder=\"0\"\n",
    "marginheight=\"0\"\n",
    "marginwidth=\"0\"\n",
    ">Loading...</iframe>\n",
    "\"\"\"\n",
    ")"
   ]
  },
  {
   "cell_type": "markdown",
   "metadata": {},
   "source": [
    "### Congratulations, you're done!\n",
    "\n",
    "Submit this assignment by uploading it to the course Desire2Learn web page.  Go to the \"In-class assignments\" folder, find the assignment submission link for Day 1, and upload it there.\n",
    "\n",
    "See you next class!"
   ]
  },
  {
   "cell_type": "markdown",
   "metadata": {},
   "source": [
    "&#169; Copyright 2018,  Michigan State University Board of Trustees"
   ]
  }
 ],
 "metadata": {
  "kernelspec": {
   "display_name": "Python 3",
   "language": "python",
   "name": "python3"
  },
  "language_info": {
   "codemirror_mode": {
    "name": "ipython",
    "version": 3
   },
   "file_extension": ".py",
   "mimetype": "text/x-python",
   "name": "python",
   "nbconvert_exporter": "python",
   "pygments_lexer": "ipython3",
   "version": "3.7.0"
  }
 },
 "nbformat": 4,
 "nbformat_minor": 2
}
